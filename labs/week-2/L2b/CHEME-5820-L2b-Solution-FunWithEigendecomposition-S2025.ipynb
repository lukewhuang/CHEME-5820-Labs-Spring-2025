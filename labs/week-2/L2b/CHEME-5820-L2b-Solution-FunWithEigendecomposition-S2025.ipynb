{
 "cells": [
  {
   "cell_type": "markdown",
   "id": "8ad43c13-6cb6-43ba-90b5-4688aa087375",
   "metadata": {},
   "source": [
    "# Lab 2b: Eigendecomposition of Stoichiometric Matrices\n",
    "In this lab, we'll explore the eigendecomposition of a standard matrix in chemical systems: the stoichiometric matrix $\\mathbf{S}$. The stoichiometric matrix is the digital representation of a chemical reaction system.\n",
    "\n",
    "### What is a stoichiometric matrix?\n",
    "\n",
    "Suppose we have a set of chemical (or biochemical) reactions $\\mathcal{R}$ involving the chemical species (metabolite) set $\\mathcal{M}$. Then, the stoichiometric matrix is a $\\mathbf{S}\\in\\mathbb{R}^{|\\mathcal{M}|\\times|\\mathcal{R}|}$ matrix that holds the stoichiometric coefficients $\\sigma_{ij}\\in\\mathbf{S}$ such that:\n",
    "* $\\sigma_{ij}>0$: Chemical species (metabolite) $i$ is _produced_ by reaction $j$. Species $i$ is a product of reaction $j$.\n",
    "* $\\sigma_{ij} = 0$: Chemical species (metabolite) $i$ is not connected with reaction $j$\n",
    "* $\\sigma_{ij}<0$: Chemical species (metabolite) $i$ is _consumed_ by reaction $j$. Species $i$ is a reactant of reaction $j$.\n",
    "\n",
    "\n",
    "### Tasks\n",
    "\n",
    "Before we start, divide into teams and familiarize yourself with the lab. Then, execute the `Run All Cells` command to check if you (or your neighbor) have any code or setup issues. Code issues, then raise your hands - and let's get those fixed!\n",
    "\n",
    "* __Task 1: Setup, Data, Constants (20 min)__: Let's take 20 minutes to review the dataset we'll explore today and set up some values we'll use in the other tasks. We'll load the data and do some initial _data munging_ (also called [data wrangling](https://en.wikipedia.org/wiki/Data_wrangling)) to get the dataset in a form that we'll use in our analysis.\n",
    "* __Task 2: Compute the eigendecomposition (10 min)__: In this task, we'll compute the eigendecomposition of the $\\mathbf{\\Sigma}$ matrix [using the `eigen(...)` method exported by the `LinearAlgebra.jl` package](https://docs.julialang.org/en/v1/stdlib/LinearAlgebra/#LinearAlgebra.eigen) and some checks on the results.\n",
    "* __Task 3: What does the largest eigenvalue/eigenvector tell us (20 min)?__: Now that we have the eigenvalues and eigenvectors, in this task, we'll explore what the largest eigenvector coefficients tell us about the $\\mathbf{\\Sigma}$ matrix and, by extension, the stoichiometric matrix $\\mathbf{S}$. Is there something interesting here?"
   ]
  },
  {
   "cell_type": "markdown",
   "id": "d1018fc3-c3b2-4c66-9c03-17e4b0a1d8fa",
   "metadata": {},
   "source": [
    "## Task 1: Setup, Data and Prerequisites\n",
    "We set up the computational environment by including the `Include.jl` file, loading any needed resources, such as sample datasets, and setting up any required constants. The `Include.jl` file loads external packages, various functions that we will use in the exercise, and custom types to model the components of our problem."
   ]
  },
  {
   "cell_type": "code",
   "execution_count": 3,
   "id": "a955d0e5-44a6-43c2-9e19-690e523d2068",
   "metadata": {},
   "outputs": [],
   "source": [
    "include(\"Include.jl\"); # load packages, and sets up the environment"
   ]
  },
  {
   "cell_type": "markdown",
   "id": "8e164a9e-f226-4120-a7cf-5575f73296bf",
   "metadata": {},
   "source": [
    "### Data\n",
    "We developed a simple software development kit (SDK) against [the BiGG Models application programming interface at the University of California, San Diego](http://bigg.ucsd.edu/). The [BiGG Models database](http://bigg.ucsd.edu/) integrates published genome-scale metabolic networks into a single database with standardized nomenclature and structure. \n",
    "* [The BiGG models API](http://bigg.ucsd.edu/data_access) allows users to programmatically access genome-scale stoichiometric model reconstructions using a simple web API. There are `108` models of intracellular biochemistry occurring in various organisms (including humans) in the database (so far); [see here for a list of models](http://bigg.ucsd.edu/models).\n",
    "* Here, we'll first explore the [core metabolic model of Palsson and coworkers](https://pubmed.ncbi.nlm.nih.gov/26443778/), which is a scaled-down model of [carbohydrate metabolism](https://en.wikipedia.org/wiki/Carbohydrate_metabolism) in _E.coli_. This model has 72 metabolites and 95 reactions. We'll then look at other models, and see what is going on with these.\n",
    "\n",
    "We call the model download endpoint of [the BiGG models API](http://bigg.ucsd.edu/data_access) and then save the model file to disk (so we don't hit the API unless we have to). This call returns model information organized as [a Julia dictionary](https://docs.julialang.org/en/v1/base/collections/#Base.Dict) in the `model::Dict{String, Any}` variable. If a model file is saved, we use the cached file instead of making an API call."
   ]
  },
  {
   "cell_type": "code",
   "execution_count": 5,
   "id": "5651b4e0-a56f-43d7-b350-3caeb68bed66",
   "metadata": {},
   "outputs": [
    {
     "data": {
      "text/plain": [
       "Dict{String, Any} with 6 entries:\n",
       "  \"metabolites\"  => Any[Dict{String, Any}(\"compartment\"=>\"c\", \"name\"=>\"3-Phosph…\n",
       "  \"id\"           => \"iAB_RBC_283\"\n",
       "  \"compartments\" => Dict{String, Any}(\"c\"=>\"cytosol\", \"e\"=>\"extracellular space…\n",
       "  \"reactions\"    => Any[Dict{String, Any}(\"name\"=>\"Sink pchol hs 18 1 18 1(c)\",…\n",
       "  \"version\"      => \"1\"\n",
       "  \"genes\"        => Any[Dict{String, Any}(\"name\"=>\"NMRK1\", \"id\"=>\"Nrk1_AT1\", \"n…"
      ]
     },
     "execution_count": 5,
     "metadata": {},
     "output_type": "execute_result"
    }
   ],
   "source": [
    "model = let\n",
    "\n",
    "    # build download endpoint -\n",
    "    baseurl = \"http://bigg.ucsd.edu\"; # base url to download model\n",
    "    modelid = \"iAB_RBC_283\"; # model id to download\n",
    "    path_to_saved_model_file = joinpath(_PATH_TO_DATA, \"saved-model-$(modelid).jld2\");\n",
    "\n",
    "    # check: do we have a model file saved?\n",
    "    model = nothing;\n",
    "    if (isfile(path_to_saved_model_file) == false)\n",
    "        \n",
    "        endpoint = MyBiggModelsDownloadModelEndpointModel();\n",
    "        endpoint.bigg_id = modelid;\n",
    "        url = build(baseurl, endpoint)\n",
    "        model = MyBiggModelsDownloadModelEndpointModel(url);\n",
    "\n",
    "        # Before we move on, save this model for later (so we don't keep hitting the API)\n",
    "        save(path_to_saved_model_file, Dict(\"model\" => model));\n",
    "    else\n",
    "        model = load(path_to_saved_model_file)[\"model\"];\n",
    "    end\n",
    "    model; # return the model (either saved, or downloaded)\n",
    "end"
   ]
  },
  {
   "cell_type": "markdown",
   "id": "fddedbf8-8031-492f-89ee-cfce4a37facc",
   "metadata": {},
   "source": [
    "__Metabolite records__: Each metabolite (chemical compound) in the network has an associated metabolite record with several fields. Let's take a look at the metabolite at index `1`.\n",
    "* The key field for today in the metabolite record is the `id` field, an abbreviation or symbol associated with this metabolite."
   ]
  },
  {
   "cell_type": "code",
   "execution_count": 7,
   "id": "9afddf7b-38d8-4330-8334-5bdf7fdea790",
   "metadata": {},
   "outputs": [
    {
     "data": {
      "text/plain": [
       "Dict{String, Any} with 7 entries:\n",
       "  \"compartment\" => \"c\"\n",
       "  \"name\"        => \"3-Phospho-D-glyceroyl phosphate\"\n",
       "  \"formula\"     => \"C3H4O10P2\"\n",
       "  \"id\"          => \"13dpg_c\"\n",
       "  \"charge\"      => -4\n",
       "  \"notes\"       => Dict{String, Any}(\"original_bigg_ids\"=>Any[\"13dpg_c\"])\n",
       "  \"annotation\"  => Dict{String, Any}(\"sabiork\"=>Any[\"21215\"], \"kegg.compound\"=>…"
      ]
     },
     "execution_count": 7,
     "metadata": {},
     "output_type": "execute_result"
    }
   ],
   "source": [
    "model[\"metabolites\"][1] # example metabolite record"
   ]
  },
  {
   "cell_type": "markdown",
   "id": "105f7c6c-af25-401e-b4c1-acc0bb22ed62",
   "metadata": {},
   "source": [
    "__Reaction records__: Similarly, each reaction in the network has a reaction record with several fields. Let's look at the reaction record at index `25`.\n",
    "* The key field for the reaction record is the `metabolites` field, which lists the stoichiometric coefficients associated with this particular reaction."
   ]
  },
  {
   "cell_type": "code",
   "execution_count": 9,
   "id": "9a972ff2-5203-4aca-ab7c-3fda49f8162c",
   "metadata": {},
   "outputs": [
    {
     "data": {
      "text/plain": [
       "Dict{String, Any} with 9 entries:\n",
       "  \"name\"               => \"N-Acetylneuraminate 9-phosphate pyruvate-lyase (pyru…\n",
       "  \"metabolites\"        => Dict{String, Any}(\"h2o_c\"=>-1.0, \"acnamp_c\"=>1.0, \"ac…\n",
       "  \"lower_bound\"        => 0.0\n",
       "  \"id\"                 => \"ACNAM9PL\"\n",
       "  \"notes\"              => Dict{String, Any}(\"original_bigg_ids\"=>Any[\"ACNAM9PL\"…\n",
       "  \"gene_reaction_rule\" => \"Nans_AT1\"\n",
       "  \"upper_bound\"        => 1000.0\n",
       "  \"subsystem\"          => \"Aminosugar Metabolism\"\n",
       "  \"annotation\"         => Dict{String, Any}(\"bigg.reaction\"=>Any[\"ACNAM9PL\"], \"…"
      ]
     },
     "execution_count": 9,
     "metadata": {},
     "output_type": "execute_result"
    }
   ],
   "source": [
    "model[\"reactions\"][25] # example reaction record"
   ]
  },
  {
   "cell_type": "code",
   "execution_count": 10,
   "id": "d3a9029a-6650-42bb-a27a-a488fb424cee",
   "metadata": {},
   "outputs": [
    {
     "data": {
      "text/plain": [
       "Dict{String, Any} with 5 entries:\n",
       "  \"h2o_c\"     => -1.0\n",
       "  \"acnamp_c\"  => 1.0\n",
       "  \"acmanap_c\" => -1.0\n",
       "  \"pep_c\"     => -1.0\n",
       "  \"pi_c\"      => 1.0"
      ]
     },
     "execution_count": 10,
     "metadata": {},
     "output_type": "execute_result"
    }
   ],
   "source": [
    "model[\"reactions\"][25][\"metabolites\"]"
   ]
  },
  {
   "cell_type": "markdown",
   "id": "1d4c4971-c938-4bf5-b060-97f487a47812",
   "metadata": {},
   "source": [
    "__Stoichiometric matrix__: Next, let's build a stoichiometric matrix $\\mathbf{S}$ using the metabolite and reaction records. We'll do this using two for loops. \n",
    "* __Strategy__: In the outer loop, we iterate over the system's metabolites (chemical species) and select the `id` from the metabolites record for each metabolite. In the inner loop, we iterate over each reaction. For each reaction record, we ask if this reaction has an entry for the current metabolite `id` value; if it does, we grab the stoichiometric coefficient $\\sigma_{ij}$ corresponding to this metabolite and reaction."
   ]
  },
  {
   "cell_type": "code",
   "execution_count": 12,
   "id": "59ccfc68-3498-4cac-bed6-846ad7281736",
   "metadata": {},
   "outputs": [],
   "source": [
    "S = let\n",
    "\n",
    "    # get some data from the model -\n",
    "    m = model[\"metabolites\"]; # get list of metabolites\n",
    "    r = model[\"reactions\"]; # get list of reactions\n",
    "    number_of_rows = length(m); # how many metabolites do we have? (rows)\n",
    "    number_of_cols = length(r); # how many reactions do we have? (cols)\n",
    "    S = zeros(number_of_rows,number_of_cols); # initialize an empty stoichiometric matrix\n",
    "\n",
    "    # let's build a stm -\n",
    "    for i ∈ eachindex(m)\n",
    "        metabolite = m[i][\"id\"]; # we are checking if this metabolite is in the reaction record\n",
    "        for j ∈ eachindex(r)\n",
    "            reaction = r[j];\n",
    "            if (haskey(reaction[\"metabolites\"], metabolite) == true)\n",
    "                S[i,j] = reaction[\"metabolites\"][metabolite];\n",
    "            end\n",
    "        end\n",
    "    end\n",
    "    S; \n",
    "end;"
   ]
  },
  {
   "cell_type": "code",
   "execution_count": 13,
   "id": "1c07be36-4124-4484-878e-38e1f1b9d0a2",
   "metadata": {},
   "outputs": [
    {
     "data": {
      "text/plain": [
       "342×469 Matrix{Float64}:\n",
       " 0.0  0.0  0.0  0.0  0.0  0.0  0.0  0.0  …  0.0  0.0  0.0  0.0  0.0  0.0  0.0\n",
       " 0.0  0.0  0.0  0.0  0.0  0.0  0.0  0.0     0.0  0.0  0.0  0.0  0.0  0.0  0.0\n",
       " 0.0  0.0  0.0  0.0  0.0  0.0  0.0  0.0     1.0  0.0  0.0  0.0  0.0  0.0  0.0\n",
       " 0.0  0.0  0.0  0.0  0.0  0.0  0.0  0.0     0.0  0.0  0.0  0.0  0.0  0.0  0.0\n",
       " 0.0  0.0  0.0  0.0  0.0  0.0  0.0  0.0     0.0  0.0  0.0  0.0  0.0  0.0  0.0\n",
       " 0.0  0.0  0.0  0.0  0.0  0.0  0.0  0.0  …  0.0  0.0  0.0  0.0  0.0  0.0  0.0\n",
       " 0.0  0.0  0.0  0.0  0.0  0.0  0.0  0.0     0.0  0.0  0.0  0.0  0.0  0.0  0.0\n",
       " 0.0  0.0  0.0  0.0  0.0  0.0  0.0  0.0     0.0  0.0  0.0  0.0  0.0  0.0  0.0\n",
       " 0.0  0.0  0.0  0.0  0.0  0.0  0.0  0.0     0.0  0.0  0.0  0.0  0.0  0.0  0.0\n",
       " 0.0  0.0  0.0  0.0  0.0  0.0  0.0  0.0     0.0  0.0  0.0  0.0  0.0  0.0  0.0\n",
       " 0.0  0.0  0.0  0.0  0.0  0.0  0.0  0.0  …  0.0  0.0  0.0  0.0  0.0  0.0  0.0\n",
       " 0.0  0.0  0.0  0.0  0.0  0.0  0.0  0.0     0.0  0.0  0.0  0.0  0.0  0.0  0.0\n",
       " 0.0  0.0  0.0  0.0  0.0  0.0  0.0  0.0     0.0  0.0  0.0  0.0  0.0  0.0  0.0\n",
       " ⋮                        ⋮              ⋱                 ⋮              \n",
       " 0.0  0.0  0.0  0.0  0.0  0.0  0.0  0.0  …  0.0  0.0  0.0  0.0  0.0  0.0  0.0\n",
       " 0.0  0.0  0.0  0.0  0.0  0.0  0.0  0.0     0.0  0.0  0.0  0.0  0.0  0.0  0.0\n",
       " 0.0  0.0  0.0  0.0  0.0  0.0  0.0  0.0     0.0  0.0  0.0  0.0  0.0  0.0  0.0\n",
       " 0.0  0.0  0.0  0.0  0.0  0.0  0.0  0.0     0.0  0.0  0.0  0.0  0.0  0.0  0.0\n",
       " 0.0  0.0  0.0  0.0  0.0  0.0  0.0  0.0     0.0  0.0  0.0  0.0  0.0  0.0  0.0\n",
       " 0.0  0.0  0.0  0.0  0.0  0.0  0.0  0.0  …  0.0  0.0  0.0  0.0  0.0  0.0  0.0\n",
       " 0.0  0.0  0.0  0.0  0.0  0.0  0.0  0.0     0.0  0.0  0.0  0.0  0.0  0.0  0.0\n",
       " 0.0  0.0  0.0  0.0  0.0  0.0  0.0  0.0     0.0  0.0  0.0  0.0  0.0  0.0  0.0\n",
       " 0.0  0.0  0.0  0.0  0.0  0.0  0.0  0.0     0.0  0.0  0.0  0.0  0.0  0.0  0.0\n",
       " 0.0  0.0  0.0  0.0  0.0  0.0  0.0  0.0     0.0  0.0  0.0  0.0  0.0  0.0  0.0\n",
       " 0.0  0.0  0.0  0.0  0.0  0.0  0.0  0.0  …  0.0  0.0  0.0  0.0  0.0  0.0  0.0\n",
       " 0.0  0.0  0.0  0.0  0.0  0.0  0.0  0.0     0.0  0.0  0.0  0.0  0.0  0.0  0.0"
      ]
     },
     "execution_count": 13,
     "metadata": {},
     "output_type": "execute_result"
    }
   ],
   "source": [
    "S"
   ]
  },
  {
   "cell_type": "markdown",
   "id": "76127959-ad13-491e-9103-761da278908f",
   "metadata": {},
   "source": [
    "### Covariance matrix $\\mathbf{\\Sigma}$\n",
    "The stoichiometric matrix is not square. Thus, we cannot directly compute its eigendecomposition. However, suppose we compute [the covariance matrix](https://en.wikipedia.org/wiki/Covariance_matrix) between the columns, i.e., between the reactions stoichiometric vectors. This gives us an idea about the relationship between the network's reactions $i$ and $j$."
   ]
  },
  {
   "cell_type": "code",
   "execution_count": 15,
   "id": "5ee14d17-cdd9-4e91-8194-9b19a48bc13a",
   "metadata": {},
   "outputs": [
    {
     "data": {
      "text/plain": [
       "469×469 Matrix{Float64}:\n",
       "  0.00292398  -8.57471e-6  -8.57471e-6  …   8.57471e-6   8.57471e-6\n",
       " -8.57471e-6   0.00292398  -8.57471e-6      8.57471e-6   8.57471e-6\n",
       " -8.57471e-6  -8.57471e-6   0.00292398      8.57471e-6   8.57471e-6\n",
       " -8.57471e-6  -8.57471e-6  -8.57471e-6      8.57471e-6   8.57471e-6\n",
       " -8.57471e-6  -8.57471e-6  -8.57471e-6      8.57471e-6   8.57471e-6\n",
       " -8.57471e-6  -8.57471e-6  -8.57471e-6  …   8.57471e-6   8.57471e-6\n",
       " -8.57471e-6  -8.57471e-6  -8.57471e-6     -0.00292398   8.57471e-6\n",
       " -8.57471e-6  -8.57471e-6  -8.57471e-6      8.57471e-6  -0.00292398\n",
       " -8.57471e-6  -8.57471e-6  -8.57471e-6      8.57471e-6   8.57471e-6\n",
       " -8.57471e-6  -8.57471e-6  -8.57471e-6      8.57471e-6   8.57471e-6\n",
       " -8.57471e-6  -8.57471e-6  -8.57471e-6  …   8.57471e-6   8.57471e-6\n",
       "  0.0          0.0          0.0             0.0          0.0\n",
       "  1.71494e-5   1.71494e-5   1.71494e-5      0.00584795   0.00584795\n",
       "  ⋮                                     ⋱               \n",
       "  0.0          0.0          0.0             0.0          0.0\n",
       "  0.0          0.0          0.0             0.0          0.0\n",
       "  8.57471e-6   8.57471e-6   8.57471e-6      0.00292398   0.00292398\n",
       "  8.57471e-6   8.57471e-6   8.57471e-6  …   0.00292398   0.00292398\n",
       " -8.57471e-6  -8.57471e-6  -8.57471e-6     -0.00292398  -0.00292398\n",
       "  1.71494e-5   1.71494e-5   1.71494e-5      0.00584795   0.00584795\n",
       "  8.57471e-6  -0.00292398   8.57471e-6      0.00585653   0.00585653\n",
       "  8.57471e-6   8.57471e-6  -0.00292398      0.00585653   0.00585653\n",
       "  8.57471e-6   8.57471e-6   8.57471e-6  …   0.00585653   0.00585653\n",
       "  8.57471e-6   8.57471e-6   8.57471e-6      0.00878908   0.00878908\n",
       "  8.57471e-6   8.57471e-6   8.57471e-6      0.0146542    0.00878908\n",
       "  8.57471e-6   8.57471e-6   8.57471e-6      0.00878908   0.0146542"
      ]
     },
     "execution_count": 15,
     "metadata": {},
     "output_type": "execute_result"
    }
   ],
   "source": [
    "Σ = cov(S) # this is col covariance matrix"
   ]
  },
  {
   "cell_type": "markdown",
   "id": "f3d36013-c215-402d-b1ae-b5b837198907",
   "metadata": {},
   "source": [
    "__Idea__: Hmmm. The entries of the covariance matrix $\\Sigma_{ij} = \\sigma_{i}\\sigma_{j}\\rho_{ij}$ seem a little strange for stoichiometric vectors. Alternatively, suppose we defined another similarity matrix $\\hat{\\mathbf{\\Sigma}}$ using [a Kernel function](https://en.wikipedia.org/wiki/Kernel_method) to compute each entry. The function $\\hat{\\Sigma}_{ij} = k(\\mathbf{\\sigma}_{i},\\mathbf{\\sigma}_{j})$, where $k:\\mathbb{R}^{|\\mathcal{M}|}\\times\\mathbb{R}^{|\\mathcal{M}|}\\rightarrow\\mathbb{R}$ is [a Kernel function](https://en.wikipedia.org/wiki/Kernel_method) that takes two columns $\\mathbf{\\sigma}_{i}$ and $\\mathbf{\\sigma}_{j}$ for the stoichiometric matrix $\\mathbf{S}$ and returns a _similarity score_. \n",
    "\n",
    "Let's try this out this idea using the functions exported by [the `KernelFunctions.jl` package](https://github.com/JuliaGaussianProcesses/KernelFunctions.jl) and see what happens."
   ]
  },
  {
   "cell_type": "code",
   "execution_count": 17,
   "id": "531b11a4-6234-49b7-875f-21b8be209733",
   "metadata": {},
   "outputs": [
    {
     "data": {
      "text/plain": [
       "469×469 Matrix{Float64}:\n",
       " 1.0         0.367879    0.367879    …  0.0497871   0.0497871   0.0497871\n",
       " 0.367879    1.0         0.367879       0.0497871   0.0497871   0.0497871\n",
       " 0.367879    0.367879    1.0            0.0497871   0.0497871   0.0497871\n",
       " 0.367879    0.367879    0.367879       0.0497871   0.0497871   0.0497871\n",
       " 0.367879    0.367879    0.367879       0.0497871   0.0497871   0.0497871\n",
       " 0.367879    0.367879    0.367879    …  0.0183156   0.0497871   0.0497871\n",
       " 0.367879    0.367879    0.367879       0.0497871   0.0183156   0.0497871\n",
       " 0.367879    0.367879    0.367879       0.0497871   0.0497871   0.0183156\n",
       " 0.367879    0.367879    0.367879       0.0497871   0.0497871   0.0497871\n",
       " 0.367879    0.367879    0.367879       0.0497871   0.0497871   0.0497871\n",
       " 0.367879    0.367879    0.367879    …  0.0497871   0.0497871   0.0497871\n",
       " 0.082085    0.082085    0.082085       0.011109    0.011109    0.011109\n",
       " 3.39827e-9  3.39827e-9  3.39827e-9     3.39827e-9  3.39827e-9  3.39827e-9\n",
       " ⋮                                   ⋱                          \n",
       " 0.22313     0.22313     0.22313        0.0301974   0.0301974   0.0301974\n",
       " 0.22313     0.22313     0.22313        0.0301974   0.0301974   0.0301974\n",
       " 0.0497871   0.0497871   0.0497871      0.0183156   0.0183156   0.0183156\n",
       " 0.0497871   0.0497871   0.0497871   …  0.0183156   0.0183156   0.0183156\n",
       " 0.0497871   0.0497871   0.0497871      0.00247875  0.00247875  0.00247875\n",
       " 0.011109    0.011109    0.011109       0.011109    0.011109    0.011109\n",
       " 0.0497871   0.0183156   0.0497871      0.0497871   0.0497871   0.0497871\n",
       " 0.0497871   0.0497871   0.0183156      0.0497871   0.0497871   0.0497871\n",
       " 0.0497871   0.0497871   0.0497871   …  0.0497871   0.0497871   0.0497871\n",
       " 0.0497871   0.0497871   0.0497871      1.0         0.135335    0.135335\n",
       " 0.0497871   0.0497871   0.0497871      0.135335    1.0         0.135335\n",
       " 0.0497871   0.0497871   0.0497871      0.135335    0.135335    1.0"
      ]
     },
     "execution_count": 17,
     "metadata": {},
     "output_type": "execute_result"
    }
   ],
   "source": [
    "Σ̂ = let\n",
    "\n",
    "    # initialize\n",
    "    (number_of_metabolites, number_of_reactions) = size(S); # dimension of the system\n",
    "    Σ̂ = zeros(number_of_reactions,number_of_reactions);\n",
    "\n",
    "    d = SqExponentialKernel(); # what kernel function are we using?\n",
    "    for i ∈ 1:number_of_reactions\n",
    "        σᵢ = S[:,i]; # ith reaction\n",
    "        for j ∈ 1:number_of_reactions\n",
    "            σⱼ = S[:,j];\n",
    "            Σ̂[i,j] = d(σᵢ,σⱼ)\n",
    "        end\n",
    "    end\n",
    "    Σ̂\n",
    "end"
   ]
  },
  {
   "cell_type": "markdown",
   "id": "5dff4973-cd20-4b13-a888-46f1c8adc65d",
   "metadata": {},
   "source": [
    "## Task 2: Compute the eigendecomposition \n",
    "In this task, we'll compute the eigendecomposition of the $\\mathbf{\\Sigma}$ matrix [using the `eigen(...)` method exported by the `LinearAlgebra.jl` package](https://docs.julialang.org/en/v1/stdlib/LinearAlgebra/#LinearAlgebra.eigen). We'll store the eigenvalues in the diagonal $\\mathbf{\\Lambda}$ matrix, while the eigenvectors will be stored in the $\\mathbf{V}$ matrix.\n",
    "* __Why compute all the values__? In the last task, we will consider what we can do with all the eigenvectors and eigenvalues. Thus, we'll use [the `eigen(...)` method](https://docs.julialang.org/en/v1/stdlib/LinearAlgebra/#LinearAlgebra.eigen) and then grab the last value(s) in task 2 where we look at the largest value, but we'll use the rest later. We'll also check the _magical properties_ of the eigendecomposition of symmetric real matrices; we need all the values for this check."
   ]
  },
  {
   "cell_type": "code",
   "execution_count": 19,
   "id": "19bbb025-3688-4938-be93-b3a32358a837",
   "metadata": {},
   "outputs": [],
   "source": [
    "Λ,V = let\n",
    "\n",
    "    # initialize -\n",
    "    A = Σ; # this is the matrix that we will decompose (if we are looking Σ̂, then change)\n",
    "    (n,m) = size(A); # what is the dimension of A?\n",
    "    Λ = Matrix{Float64}(1.0*I, n, n); # builds the I matrix, we'll update with λ -\n",
    "    \n",
    "    # Decompose using the built-in function\n",
    "    F = eigen(A);   # eigenvalues and vectors in F of type Eigen\n",
    "    λ = F.values;   # vector of eigenvalues\n",
    "    V = F.vectors;  # n x n matrix of eigenvectors, each col is an eigenvector\n",
    "\n",
    "    # package the eigenvalues into Λ -\n",
    "    for i ∈ 1:n\n",
    "        Λ[i,i] = λ[i];\n",
    "    end\n",
    "\n",
    "    Λ,V\n",
    "end;"
   ]
  },
  {
   "cell_type": "markdown",
   "id": "5e374f30-ed20-4416-8800-a795d6ca1f1d",
   "metadata": {},
   "source": [
    "### Check: Are the magical properties of the eigendecomposition of $\\mathbf{\\Sigma}$ true?\n",
    "The covariance matrix $\\mathbf{\\Sigma}$ is a real-valued, symmetric matrix. So, it's eigenvalues and eigenvectors should have two important properties:\n",
    "* __Property 1__: All the eigenvalues $\\left\\{\\lambda_{1},\\lambda_{2},\\dots,\\lambda_{m}\\right\\}$ of the matrix $\\mathbf{\\Sigma}$ are real-valued.\n",
    "* __Property 2__: The eigenvectors $\\left\\{\\mathbf{v}_{1},\\mathbf{v}_{2},\\dots,\\mathbf{v}_{m}\\right\\}$ of the matrix $\\mathbf{A}$ are orthogonal, i.e., $\\left<\\mathbf{v}_{i},\\mathbf{v}_{j}\\right> = 0$ for $i\\neq{j}$. Further, the (normalized) eigenvectors $\\hat{\\mathbf{v}}_{j} = \\mathbf{v}_{j}/\\lVert\\mathbf{v}_{j}\\rVert$ of a symmetric real-valued matrix are orthonormal $\\left<\\hat{\\mathbf{v}}_{i},\\hat{\\mathbf{v}}_{j}\\right> = \\delta_{ij}\\,\\text{for}\\,{i,j\\in\\mathbf{A}}$ where $\\delta_{ij}$ is the [Kronecker delta function](https://en.wikipedia.org/wiki/Kronecker_delta).\n",
    "\n",
    "Let's start by checking __Property 1__. We'll iterate through each eigenvalue and check whether it is real using [the @assert macro](https://docs.julialang.org/en/v1/base/base/#Base.@assert) if this test fails, [an `AssertionError` is thrown](https://docs.julialang.org/en/v1/base/base/#Core.AssertionError)."
   ]
  },
  {
   "cell_type": "code",
   "execution_count": 21,
   "id": "437ebf68-84c8-4b3d-9a9f-0c691ef2bb3a",
   "metadata": {},
   "outputs": [],
   "source": [
    "let\n",
    "    λ = diag(Λ); # get the elements of the diagonal matrix; this will be the eigenvalues\n",
    "    for λᵢ ∈ λ\n",
    "        @assert isreal(λᵢ) == true; # if we fail this test, an AssertionError will be thrown\n",
    "    end\n",
    "end"
   ]
  },
  {
   "cell_type": "markdown",
   "id": "9818b5fb-a618-430c-ae58-7714457887d3",
   "metadata": {},
   "source": [
    "Next, let's check __Property 2__. We'll iterate through each $(i,j)$ pair of eigenvectors and compute the inner product. As it turns out, [the `eigen(...)` method](https://docs.julialang.org/en/v1/stdlib/LinearAlgebra/#LinearAlgebra.eigen) appears to return something very close to [an orthonormal set of eigenvectors](https://en.wikipedia.org/wiki/Orthonormality) for the $\\mathbf{\\Sigma}$ matrix. Thus, we are checking the condition $\\left<\\mathbf{v}_{i},\\mathbf{v}_{j}\\right>=\\delta_{ij}$. If this test fails, [an `AssertionError` is thrown](https://docs.julialang.org/en/v1/base/base/#Core.AssertionError)."
   ]
  },
  {
   "cell_type": "code",
   "execution_count": 23,
   "id": "169b6ac2-9754-4e71-a946-c50a64171e8f",
   "metadata": {},
   "outputs": [],
   "source": [
    "let\n",
    "    # initialize -\n",
    "    (number_of_rows, number_of_cols) = size(V);\n",
    "\n",
    "    for i ∈ 1:number_of_rows\n",
    "        vᵢ = V[:,i]; # get eigenvector i\n",
    "        for j ∈ 1:number_of_cols\n",
    "            vⱼ = V[:,j]; # get eigenvector j\n",
    "\n",
    "            # check logic\n",
    "            if (i == j)\n",
    "                @assert dot(vᵢ,vⱼ) ≈ 1.0;\n",
    "            else\n",
    "                @assert abs(dot(vᵢ,vⱼ)) ≤ 1e-10 # this is sort of interesting ...\n",
    "            end\n",
    "        end\n",
    "    end\n",
    "end"
   ]
  },
  {
   "cell_type": "markdown",
   "id": "aafaf9b2-611d-4bde-9b06-d11ab4020efd",
   "metadata": {},
   "source": [
    "## Task 3: What does the largest eigenvalue/eigenvector tell us?\n",
    "In this task, we'll explore what the largest eigenvector coefficients tell us about the $\\mathbf{\\Sigma}$ matrix and, by extension, the stoichiometric matrix $\\mathbf{S}$. Let's start by getting the eigenvector corresponding to the largest eigenvalue. Save this vector in the `v̂::Array{Float64,1}` variable.\n",
    "* __What is the `|>` operator doing?__ Functions in Julia can be combined by composing or piping (chaining) them together. The [pipe `|>` operator](https://docs.julialang.org/en/v1/manual/functions/#Function-composition-and-piping) enables you to apply a function to the previous function's output. Codes in the class (and most of the stuff I write) use this pattern heavily because I get a strange satisfaction by cramming as much logic as possible on a single line of code."
   ]
  },
  {
   "cell_type": "code",
   "execution_count": 25,
   "id": "35ef10d6-152f-4adf-b4ed-c8dfa4f115cc",
   "metadata": {},
   "outputs": [
    {
     "data": {
      "text/plain": [
       "469-element Vector{Float64}:\n",
       " -0.0001379918384368965\n",
       " -0.00013759551475015243\n",
       " -0.00013759551477686847\n",
       " -0.0001379928471026556\n",
       "  1.6149740442652942e-5\n",
       "  1.6149737852060965e-5\n",
       "  1.6149740436081054e-5\n",
       "  1.6149740442950457e-5\n",
       "  1.6149743026790293e-5\n",
       "  1.6149743026790293e-5\n",
       "  1.6149740436198317e-5\n",
       "  0.0007011983366113189\n",
       " -0.20669155633340722\n",
       "  ⋮\n",
       " -5.5723135842758356e-5\n",
       " -8.119583495625351e-5\n",
       " -0.06753495537233789\n",
       " -0.0417886037087952\n",
       "  0.044863101943433646\n",
       " -0.07461340171986786\n",
       " -0.04097874036365679\n",
       " -0.04097874036363008\n",
       " -0.040978342013405444\n",
       " -0.04113527318425875\n",
       " -0.041135274202159566\n",
       " -0.04113527420479559"
      ]
     },
     "execution_count": 25,
     "metadata": {},
     "output_type": "execute_result"
    }
   ],
   "source": [
    "v̂ = argmax(diag(Λ)) |> i-> V[:,i] # get the largest eigenvector. This is fancy, what is the |> doing?"
   ]
  },
  {
   "cell_type": "markdown",
   "id": "927c1294-5595-4f34-a5cb-b7dc899b4768",
   "metadata": {},
   "source": [
    "There are a few ways we can look at the components of the eigenvector."
   ]
  },
  {
   "cell_type": "markdown",
   "id": "5ab53822-c8f4-4718-b81f-60995d5e3e5c",
   "metadata": {},
   "source": [
    "#### Largest absolute component\n",
    "First, let's consider taking the absolute value of the elements and then scaling it by the sum of the components. For some vector $\\mathbf{z}$, \n",
    "the ith scaled component $\\sigma(\\mathbf{z})_{i}$ is given by:\n",
    "$$\n",
    "\\sigma(\\mathbf{z})_{i} = \\frac{\\text{abs}(z_{i})}{\\sum_{j=1}^{m}\\text{abs}(z_{j})}\\quad{i=1,2,\\dots,m}\n",
    "$$\n",
    "The scaled vectors should sum to `1`; thus, we can think about the elements (loosely) as probabilities, i.e., the probability that the ith component is the most important. Let's do the scaling, grab the index of the maximum scaled element [using the `argmax(...)` method](https://docs.julialang.org/en/v1/base/collections/#Base.argmax). We'll then pipe `|>` that index into reactions data, and pull out the most important reaction record:"
   ]
  },
  {
   "cell_type": "code",
   "execution_count": 28,
   "id": "d1d661b9-8a1a-4180-bc5d-d8fad6839f69",
   "metadata": {},
   "outputs": [
    {
     "data": {
      "text/plain": [
       "Dict{String, Any} with 9 entries:\n",
       "  \"name\"               => \"Heme oxygenase 1\"\n",
       "  \"metabolites\"        => Dict{String, Any}(\"co_c\"=>1.0, \"h2o_c\"=>3.0, \"nadph_c…\n",
       "  \"lower_bound\"        => 0.0\n",
       "  \"id\"                 => \"HOXG\"\n",
       "  \"notes\"              => Dict{String, Any}(\"original_bigg_ids\"=>Any[\"HOXG\"])\n",
       "  \"gene_reaction_rule\" => \"Hmox2_AT1 or Hmox1_AT1\"\n",
       "  \"upper_bound\"        => 1000.0\n",
       "  \"subsystem\"          => \"Heme Degradation\"\n",
       "  \"annotation\"         => Dict{String, Any}(\"bigg.reaction\"=>Any[\"HOXG\"], \"meta…"
      ]
     },
     "execution_count": 28,
     "metadata": {},
     "output_type": "execute_result"
    }
   ],
   "source": [
    "sum(abs.(v̂)) |> T -> (1/T)*abs.(v̂) |> argmax |> i-> model[\"reactions\"][i]"
   ]
  },
  {
   "cell_type": "markdown",
   "id": "6f1fc481-d04e-456a-9568-a1c0706dc729",
   "metadata": {},
   "source": [
    "#### Softmax\n",
    "Alternatively, let's use [the `softmax(...)` function](src/Compute.jl) to transform the largest eigenvector in a probability vector (sums to one, all entries are non-negative). The [softmax](https://en.wikipedia.org/wiki/Softmax_function) for some vector $\\mathbf{z}$ as\n",
    "$$\n",
    "\\begin{equation}\n",
    "\\sigma(\\mathbf{z})_{i} = \\frac{e^{z_{i}}}{\\sum_{j=1}^{m}e^{z_{j}}}\\quad{i=1,2,\\dots,m}\n",
    "\\end{equation}\n",
    "$$\n",
    "where $\\sigma(\\mathbf{z})_{i}$ is the ith components of the transformed eigenvector. We apply [the `argmax(...)` function](https://docs.julialang.org/en/v1/base/collections/#Base.argmax) to the transformed vector to get the largest component"
   ]
  },
  {
   "cell_type": "code",
   "execution_count": 30,
   "id": "c8acc252-f5ee-43bd-b752-b642e0102105",
   "metadata": {},
   "outputs": [
    {
     "data": {
      "text/plain": [
       "Dict{String, Any} with 9 entries:\n",
       "  \"name\"               => \"Heme oxygenase 1\"\n",
       "  \"metabolites\"        => Dict{String, Any}(\"co_c\"=>1.0, \"h2o_c\"=>3.0, \"nadph_c…\n",
       "  \"lower_bound\"        => 0.0\n",
       "  \"id\"                 => \"HOXG\"\n",
       "  \"notes\"              => Dict{String, Any}(\"original_bigg_ids\"=>Any[\"HOXG\"])\n",
       "  \"gene_reaction_rule\" => \"Hmox2_AT1 or Hmox1_AT1\"\n",
       "  \"upper_bound\"        => 1000.0\n",
       "  \"subsystem\"          => \"Heme Degradation\"\n",
       "  \"annotation\"         => Dict{String, Any}(\"bigg.reaction\"=>Any[\"HOXG\"], \"meta…"
      ]
     },
     "execution_count": 30,
     "metadata": {},
     "output_type": "execute_result"
    }
   ],
   "source": [
    "reaction = v̂ |> softmax |> argmax |> i-> model[\"reactions\"][i]"
   ]
  },
  {
   "cell_type": "markdown",
   "id": "d3073b13-4f86-4d77-90f8-23557436ae05",
   "metadata": {},
   "source": [
    "### DQ: Hmmm. Does this make sense? \n",
    "Let's consider what this result is saying about the network and come to some consensus on whether this makes sense. What happens if we try a different network?"
   ]
  },
  {
   "cell_type": "code",
   "execution_count": 32,
   "id": "54d9e1d0-edad-4ec7-9301-7e2c38c431a8",
   "metadata": {},
   "outputs": [
    {
     "data": {
      "text/plain": [
       "Dict{String, Any} with 9 entries:\n",
       "  \"co_c\"       => 1.0\n",
       "  \"h2o_c\"      => 3.0\n",
       "  \"nadph_c\"    => -3.0\n",
       "  \"o2_c\"       => -3.0\n",
       "  \"biliverd_c\" => 1.0\n",
       "  \"nadp_c\"     => 3.0\n",
       "  \"fe2_c\"      => 1.0\n",
       "  \"h_c\"        => -5.0\n",
       "  \"pheme_c\"    => -1.0"
      ]
     },
     "execution_count": 32,
     "metadata": {},
     "output_type": "execute_result"
    }
   ],
   "source": [
    "reaction[\"metabolites\"]"
   ]
  },
  {
   "cell_type": "code",
   "execution_count": 33,
   "id": "9ff58e23-6cea-49ea-bd58-3f4b24a496cb",
   "metadata": {},
   "outputs": [
    {
     "data": {
      "text/plain": [
       "Dict{Int64, Int64} with 469 entries:\n",
       "  56  => 1\n",
       "  35  => 1\n",
       "  425 => 5\n",
       "  429 => 5\n",
       "  60  => 3\n",
       "  220 => 5\n",
       "  308 => 4\n",
       "  67  => 4\n",
       "  215 => 2\n",
       "  73  => 4\n",
       "  319 => 2\n",
       "  251 => 3\n",
       "  115 => 4\n",
       "  112 => 1\n",
       "  185 => 1\n",
       "  348 => 5\n",
       "  420 => 2\n",
       "  404 => 5\n",
       "  365 => 2\n",
       "  417 => 2\n",
       "  333 => 9\n",
       "  86  => 5\n",
       "  168 => 1\n",
       "  364 => 4\n",
       "  207 => 4\n",
       "  ⋮   => ⋮"
      ]
     },
     "execution_count": 33,
     "metadata": {},
     "output_type": "execute_result"
    }
   ],
   "source": [
    "connectivity = let\n",
    "\n",
    "    (number_of_metabolites, number_of_reactions) = size(S);\n",
    "    connections = Dict{Int,Int}();\n",
    "\n",
    "    for i ∈ 1:number_of_reactions\n",
    "        connections[i] = model[\"reactions\"][i] |> d -> d[\"metabolites\"] |> length\n",
    "    end\n",
    "    connections\n",
    "end"
   ]
  },
  {
   "cell_type": "code",
   "execution_count": 34,
   "id": "6677c60a-384c-4759-afb4-a97c6b2f4e81",
   "metadata": {},
   "outputs": [
    {
     "data": {
      "text/plain": [
       "232"
      ]
     },
     "execution_count": 34,
     "metadata": {},
     "output_type": "execute_result"
    }
   ],
   "source": [
    "i = v̂ |> softmax |> argmax"
   ]
  },
  {
   "cell_type": "code",
   "execution_count": 35,
   "id": "d2113da4-94d2-4a3f-ada8-2d5f8d04777c",
   "metadata": {},
   "outputs": [
    {
     "data": {
      "text/plain": [
       "9"
      ]
     },
     "execution_count": 35,
     "metadata": {},
     "output_type": "execute_result"
    }
   ],
   "source": [
    "connectivity[232]"
   ]
  },
  {
   "cell_type": "code",
   "execution_count": 36,
   "id": "a53dac18-02d5-490d-9cea-e6d2f3e72dee",
   "metadata": {},
   "outputs": [
    {
     "data": {
      "text/plain": [
       "Dict{String, Any} with 9 entries:\n",
       "  \"atp_c\"    => -1.0\n",
       "  \"glu__L_c\" => 1.0\n",
       "  \"h2o_c\"    => -1.0\n",
       "  \"dnad_c\"   => -1.0\n",
       "  \"amp_c\"    => 1.0\n",
       "  \"nad_c\"    => 1.0\n",
       "  \"gln__L_c\" => -1.0\n",
       "  \"ppi_c\"    => 1.0\n",
       "  \"h_c\"      => 1.0"
      ]
     },
     "execution_count": 36,
     "metadata": {},
     "output_type": "execute_result"
    }
   ],
   "source": [
    "model[\"reactions\"][333][\"metabolites\"]"
   ]
  },
  {
   "cell_type": "code",
   "execution_count": null,
   "id": "d7febad8-5a4c-4ace-8c0a-06693f4b67fa",
   "metadata": {},
   "outputs": [],
   "source": []
  }
 ],
 "metadata": {
  "kernelspec": {
   "display_name": "Julia 1.11.3",
   "language": "julia",
   "name": "julia-1.11"
  },
  "language_info": {
   "file_extension": ".jl",
   "mimetype": "application/julia",
   "name": "julia",
   "version": "1.11.3"
  }
 },
 "nbformat": 4,
 "nbformat_minor": 5
}
