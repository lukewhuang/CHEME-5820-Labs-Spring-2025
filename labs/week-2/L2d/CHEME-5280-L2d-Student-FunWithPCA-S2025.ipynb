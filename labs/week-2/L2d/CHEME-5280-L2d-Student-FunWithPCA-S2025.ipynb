{
 "cells": [
  {
   "cell_type": "markdown",
   "id": "ebde9e09-1316-4f75-a15e-eb3130e4e235",
   "metadata": {},
   "source": [
    "# Lab 2d: Fun With Principle Component Analysis (PCA)\n",
    "In this lab, we'll explore the [principle component analysis (PCA)](https://en.wikipedia.org/wiki/Principal_component_analysis) of a standard matrix in chemical systems: the stoichiometric matrix $\\mathbf{S}$. The stoichiometric matrix is the digital representation of a chemical reaction system.\n",
    "\n",
    "#### What is a stoichiometric matrix?\n",
    "Suppose we have a set of chemical (or biochemical) reactions $\\mathcal{R}$ involving the chemical species (metabolite) set $\\mathcal{M}$. Then, the stoichiometric matrix is a $\\mathbf{S}\\in\\mathbb{R}^{|\\mathcal{M}|\\times|\\mathcal{R}|}$ matrix that holds the stoichiometric coefficients $\\sigma_{ij}\\in\\mathbf{S}$ such that:\n",
    "* $\\sigma_{ij}>0$: Chemical species (metabolite) $i$ is _produced_ by reaction $j$. Species $i$ is a product of reaction $j$.\n",
    "* $\\sigma_{ij} = 0$: Chemical species (metabolite) $i$ is not connected with reaction $j$\n",
    "* $\\sigma_{ij}<0$: Chemical species (metabolite) $i$ is _consumed_ by reaction $j$. Species $i$ is a reactant of reaction $j$.\n",
    "\n",
    "We'll explore some stoichiometric matrices downloaded from [the BiGG Models database from the Palsson lab at UCSD](http://bigg.ucsd.edu/), and see what they are telling us using [principal component analysis (PCA)](https://en.wikipedia.org/wiki/Principal_component_analysis).\n",
    "\n",
    "#### What is PCA?\n",
    "Imagine that we have $m$-dimensional features $\\mathbf{x}\\in\\mathbb{R}^{m}$ that we want to reduce to a set of new composite feature vectors with a smaller dimension $\\mathbf{y}\\in\\mathbb{k}$ where $k\\ll{m}$. We can do that using a special transformation matrix $\\mathbf{P}\\in\\mathbb{R}^{k\\times{m}}$\n",
    "$$\n",
    "\\begin{equation}\n",
    "\\mathbf{y} = \\mathbf{P}\\cdot\\mathbf{x}\n",
    "\\end{equation}\n",
    "$$\n",
    "The rows of $\\mathbf{P}$ are a set of transformation vectors $\\phi^{\\top}_{i}\\in\\mathbb{R}^{1\\times{m}}$ that _convert_ the features in $\\mathbf{x}$ into the $y_{i}\\,\\text{for}\\,i=1,2,\\dots{k}$ components of the new compostite feature vector:\n",
    "$$\n",
    "\\begin{equation}\n",
    "y_{i} = \\phi_{i}^{\\top}\\cdot\\mathbf{x}\\quad\\text{for}\\,i=1,2,\\dots,k\n",
    "\\end{equation}\n",
    "$$\n",
    "Wow, that sounds great! We can take high-dimensional things and reduce them down to only a few dimensions. What are these magical transformation vectors $\\phi_{i}^{\\top}$? The\n",
    "$\\texttt{TLDR}$ version of this story is that they are the eigenvectors of the covariance matrix corresponding to the largest $k$-eigenvalues, and this magical transformation is called [principal component analysis (PCA)](https://en.wikipedia.org/wiki/Principal_component_analysis). We are going to build one of these magical transformations today!\n",
    "\n",
    "### Tasks\n",
    "Before we start, divide into teams and familiarize yourself with the lab. Then, execute the `Run All Cells` command to check if you (or your neighbor) have any code or setup issues. Code issues, then raise your hands - and let's get those fixed!\n",
    "\n",
    "* __Task 1: Setup, Data, Constants (10 min)__: Let's take 10 minutes to review the dataset we'll explore today and set up some values we'll use in the other tasks. We'll load the data and do some initial _data munging_ (also called [data wrangling](https://en.wikipedia.org/wiki/Data_wrangling)) to get the dataset in a form that we'll use in our analysis.\n",
    "* __Task 2: Test some of the theoretical claims from the SVD lecture (10 min)__: In this task, let's test a few of the claims about singular value decomposition and its relationship with eigendecomposition [using the `eigen(...)` and `svd(...)` methods exported by the `LinearAlgebra.jl` package](https://docs.julialang.org/en/v1/stdlib/LinearAlgebra/#LinearAlgebra.eigen).\n",
    "* __Task 3: Dimensionality reduction with Principle Component Analysis (PCA) (30 min)?__: In this task, we'll construct the matrix $\\mathbf{P}$ which transforms our original feature vectors into lower dimensional composite features, and then explore some of the properties of the composite features. _Is there something interesting here?_"
   ]
  },
  {
   "cell_type": "markdown",
   "id": "9202a6d8-eae1-4d84-9fb1-7953add91311",
   "metadata": {},
   "source": [
    "## Task 1: Setup, Data and Prerequisites\n",
    "We set up the computational environment by including the `Include.jl` file, loading any needed resources, such as sample datasets, and setting up any required constants. The `Include.jl` file loads external packages, various functions that we will use in the exercise, and custom types to model the components of our problem."
   ]
  },
  {
   "cell_type": "code",
   "execution_count": 3,
   "id": "54ccb906-0324-4392-9690-2329aa63e0a9",
   "metadata": {},
   "outputs": [],
   "source": [
    "include(\"Include.jl\")"
   ]
  },
  {
   "cell_type": "markdown",
   "id": "734029f7-dfe9-4b76-9da1-299c8b750b97",
   "metadata": {},
   "source": [
    "### Data\n",
    "We developed a simple software development kit (SDK) against [the BiGG Models application programming interface at the University of California, San Diego](http://bigg.ucsd.edu/). The [BiGG Models database](http://bigg.ucsd.edu/) integrates published genome-scale metabolic networks into a single database with standardized nomenclature and structure. \n",
    "* [The BiGG models API](http://bigg.ucsd.edu/data_access) allows users to programmatically access genome-scale stoichiometric model reconstructions using a simple web API. There are `108` models of intracellular biochemistry occurring in various organisms (including humans) in the database (so far); [see here for a list of models](http://bigg.ucsd.edu/models).\n",
    "* Here, we'll first explore the [core metabolic model of Palsson and coworkers](https://pubmed.ncbi.nlm.nih.gov/26443778/), which is a scaled-down model of [carbohydrate metabolism](https://en.wikipedia.org/wiki/Carbohydrate_metabolism) in _E.coli_. This model has 72 metabolites and 95 reactions. We'll then look at other models, and see what is going on with these.\n",
    "\n",
    "We call the model download endpoint of [the BiGG models API](http://bigg.ucsd.edu/data_access) and then save the model file to disk (so we don't hit the API unless we have to). This call returns model information organized as [a Julia dictionary](https://docs.julialang.org/en/v1/base/collections/#Base.Dict) in the `model::Dict{String, Any}` variable. If a model file is saved, we use the cached file instead of making an API call."
   ]
  },
  {
   "cell_type": "code",
   "execution_count": 5,
   "id": "2e03dfc2-3c9a-4350-92ae-42324d3607a3",
   "metadata": {},
   "outputs": [
    {
     "ename": "LoadError",
     "evalue": "UndefVarError: `MyBiggModelsDownloadModelEndpointModel` not defined in `Main`\nSuggestion: check for spelling errors or missing imports.",
     "output_type": "error",
     "traceback": [
      "UndefVarError: `MyBiggModelsDownloadModelEndpointModel` not defined in `Main`\nSuggestion: check for spelling errors or missing imports.",
      "",
      "Stacktrace:",
      " [1] top-level scope",
      "   @ In[5]:12"
     ]
    }
   ],
   "source": [
    "model = let\n",
    "\n",
    "    # build download endpoint -\n",
    "    baseurl = \"http://bigg.ucsd.edu\"; # base url to download model\n",
    "    modelid = nothing; # TODO: specify a model id to download\n",
    "    path_to_saved_model_file = joinpath(_PATH_TO_DATA, \"saved-model-$(modelid).jld2\");\n",
    "\n",
    "    # check: do we have a model file saved?\n",
    "    model = nothing;\n",
    "    if (isfile(path_to_saved_model_file) == false)\n",
    "        \n",
    "        endpoint = MyBiggModelsDownloadModelEndpointModel();\n",
    "        endpoint.bigg_id = modelid;\n",
    "        url = build(baseurl, endpoint)\n",
    "        model = MyBiggModelsDownloadModelEndpointModel(url);\n",
    "\n",
    "        # Before we move on, save this model for later (so we don't keep hitting the API)\n",
    "        save(path_to_saved_model_file, Dict(\"model\" => model));\n",
    "    else\n",
    "        model = load(path_to_saved_model_file)[\"model\"];\n",
    "    end\n",
    "    model; # return the model (either saved, or downloaded)\n",
    "end"
   ]
  },
  {
   "cell_type": "markdown",
   "id": "04fda0f0-d1f9-466f-a728-0238b9023f6d",
   "metadata": {},
   "source": [
    "__Stoichiometric matrix__: Next, let's build a stoichiometric matrix $\\mathbf{S}$ using the metabolite and reaction records. We'll do this using nested [`for` loops](https://docs.julialang.org/en/v1/base/base/#for). \n",
    "* __Strategy__: In the outer loop, we iterate over the system's metabolites (chemical species) and select the `id` from the metabolites record for each metabolite. In the inner loop, we iterate over each reaction. For each reaction record, we ask if this reaction has an entry for the current metabolite `id` value; if it does, we grab the stoichiometric coefficient $\\sigma_{ij}$ corresponding to this metabolite and reaction."
   ]
  },
  {
   "cell_type": "code",
   "execution_count": 7,
   "id": "5b8a1033-1b3c-4641-96c0-2bc1066bec06",
   "metadata": {},
   "outputs": [
    {
     "ename": "LoadError",
     "evalue": "UndefVarError: `model` not defined in `Main`\nSuggestion: check for spelling errors or missing imports.",
     "output_type": "error",
     "traceback": [
      "UndefVarError: `model` not defined in `Main`\nSuggestion: check for spelling errors or missing imports.",
      "",
      "Stacktrace:",
      " [1] top-level scope",
      "   @ ./In[7]:4"
     ]
    }
   ],
   "source": [
    "S = let\n",
    "\n",
    "    # get some data from the model -\n",
    "    m = model[\"metabolites\"]; # get list of metabolites\n",
    "    r = model[\"reactions\"]; # get list of reactions\n",
    "    number_of_rows = length(m); # how many metabolites do we have? (rows)\n",
    "    number_of_cols = length(r); # how many reactions do we have? (cols)\n",
    "    S = zeros(number_of_rows,number_of_cols); # initialize an empty stoichiometric matrix\n",
    "\n",
    "    # let's build a stm -\n",
    "    for i ∈ eachindex(m)\n",
    "        metabolite = m[i][\"id\"]; # we are checking if this metabolite is in the reaction record\n",
    "        for j ∈ eachindex(r)\n",
    "            reaction = r[j];\n",
    "            if (haskey(reaction[\"metabolites\"], metabolite) == true)\n",
    "                S[i,j] = reaction[\"metabolites\"][metabolite];\n",
    "            end\n",
    "        end\n",
    "    end\n",
    "    S; \n",
    "end;"
   ]
  },
  {
   "cell_type": "markdown",
   "id": "50726c08-25ca-438b-b5fe-3fb53e385049",
   "metadata": {},
   "source": [
    "We'll also consider the [z-score centered](https://en.wikipedia.org/wiki/Feature_scaling) stoichiometric matrix $\\hat{\\mathbf{S}}$ in which we center the columns (reactions) of the matrix. We'll save this version of the stoichiometric matrix in the `Ŝ::Array{Float64,2}` variable."
   ]
  },
  {
   "cell_type": "code",
   "execution_count": 9,
   "id": "83d0bb72-f379-4d5c-acb3-d2c949e6c39e",
   "metadata": {},
   "outputs": [
    {
     "ename": "LoadError",
     "evalue": "UndefVarError: `model` not defined in `Main`\nSuggestion: check for spelling errors or missing imports.",
     "output_type": "error",
     "traceback": [
      "UndefVarError: `model` not defined in `Main`\nSuggestion: check for spelling errors or missing imports.",
      "",
      "Stacktrace:",
      " [1] top-level scope",
      "   @ ./In[9]:4"
     ]
    }
   ],
   "source": [
    "Ŝ = let\n",
    "    \n",
    "    # get some data from the system -\n",
    "    m = model[\"metabolites\"] |> length # get the number of metabolites\n",
    "    r = model[\"reactions\"] |> length # get the number of reactions\n",
    "    Ŝ = zeros(m,r); # create a scaled stoichiometric matrix\n",
    "\n",
    "    for j ∈ 1:r\n",
    "        col = S[:,j]; # get the jth col (reaction)\n",
    "        μⱼ = mean(col); # mean of the col\n",
    "        σⱼ = std(col); # std of the col\n",
    "\n",
    "        for i ∈ 1:m\n",
    "            Ŝ[i,j] = (col[i] - μⱼ)/σⱼ\n",
    "        end\n",
    "    end\n",
    "\n",
    "    Ŝ\n",
    "end;"
   ]
  },
  {
   "cell_type": "markdown",
   "id": "722e3eff-671d-4488-9ac0-534f95a89b50",
   "metadata": {},
   "source": [
    "Finally, compute the covariance array $\\hat{\\mathbf{\\Sigma}}$, which will be a $|\\mathcal{R}|\\times|\\mathcal{R}|$ symmetric array. We calculate this array using [the `cov(...)` method exported by the `Statistics.jl` package](https://docs.julialang.org/en/v1/stdlib/Statistics/#Statistics.cov). \n",
    "* __Note__: We can compute $\\mathbf{\\Sigma}$ using either the regular stoichiometric matrix $\\mathbf{S}$ or the centerted version $\\hat{\\mathbf{S}}$. These _should_ give _similar_ PCA results, but they are different arrays, i.e., the variance will be `1` in the centered case. For now, let's use the regular array."
   ]
  },
  {
   "cell_type": "code",
   "execution_count": 11,
   "id": "e881d5e5-6a4d-413a-a5fc-4da595ffda5a",
   "metadata": {},
   "outputs": [],
   "source": [
    "Σ̂ = nothing; # TODO: Call the cov(...) covariance method to compute the covariance of the stoichiometric array (for now, use the regular S)"
   ]
  },
  {
   "cell_type": "markdown",
   "id": "11393cac-cb4b-4062-a157-428fbb7b37a7",
   "metadata": {
    "jp-MarkdownHeadingCollapsed": true
   },
   "source": [
    "## Task 2: Let's test some of the theoretical claims from the SVD lecture\n",
    "In this task, let's test a few of the claims about singular value decomposition. The singular Value Decomposition (SVD) decomposes a matrix $\\mathbf{A}\\in\\mathbb{C}^{n\\times{m}}$ into three distinct matrices, $\\mathbf{A} = \\mathbf{U}\\mathbf{\\Sigma}\\mathbf{V}^{\\top}$. The matrices $\\mathbf{U}$ and $\\mathbf{V}$  are orthogonal matrices containing the left and right singular vectors, respectively, while the $\\mathbf{\\Sigma}$ is a diagonal matrix containing the singular values. We'll\n",
    "explore three claims: \n",
    "* __Claim 1__: Left singular vectors are the eigenvectors of matrix product $\\mathbf{S}\\mathbf{S}^{\\top}$ (or the product $\\mathbf{S}^{\\top}\\mathbf{S}$ for the right-singular vectors).\n",
    "* __Claim 2__: The singular vectors of a symmetric real-valued positive definite matrix such as the covariance matrix $\\mathbf{\\Sigma}$ are just the eigenvectors of $\\mathbf{\\Sigma}$.\n",
    "* __Claim 3__: The singular values of a matrix $\\mathbf{S}$ are the square roots of the non-zero eigenvalues of either $\\mathbf{S}\\mathbf{S}^{\\top}$ or $\\mathbf{S}^{\\top}\\mathbf{S}$."
   ]
  },
  {
   "cell_type": "markdown",
   "id": "7d6afa9a-6452-422e-845c-2a9ca3c24deb",
   "metadata": {},
   "source": [
    "### Claim 1: Singular vectors are eigenvectors of matrix products\n",
    "The singular vectors contained in the columns of the $\\mathbf{U}$ and $\\mathbf{V}$ are the eigenvectors of the matrix product $\\mathbf{S}\\mathbf{S}^{\\top}$ and $\\mathbf{S}^{\\top}\\mathbf{S}$, respectively for the _non-zero_ eigenvalues. We start by testing the left singular matrix $\\mathbf{U}$ by computing the SVD of the matrix product $\\mathbf{S}\\mathbf{S}^{\\top}$ and compare it to the eigendecomposition. \n",
    "* _What about the right singular vectors?_ We'll leave you to the comparison of the eigenvectors of the product $\\mathbf{S}^{\\top}\\mathbf{S}$ to the right-singular vectors to you (maybe a fun weekend project?)"
   ]
  },
  {
   "cell_type": "code",
   "execution_count": 14,
   "id": "4ee96ad9-f9cd-493c-94ae-ccaf39eea2d7",
   "metadata": {},
   "outputs": [
    {
     "ename": "LoadError",
     "evalue": "UndefVarError: `S` not defined in `Main`\nSuggestion: check for spelling errors or missing imports.",
     "output_type": "error",
     "traceback": [
      "UndefVarError: `S` not defined in `Main`\nSuggestion: check for spelling errors or missing imports.",
      "",
      "Stacktrace:",
      " [1] top-level scope",
      "   @ In[14]:4"
     ]
    }
   ],
   "source": [
    "U₁,Σ₁,VT₁ = let\n",
    "\n",
    "    # compute SVD -\n",
    "    A = S*transpose(S); # matrix we want to decompose\n",
    "    (n,m) = size(A); # what is the dimension of A? (this should be square)\n",
    "    F = svd(A, full = true, alg=LinearAlgebra.QRIteration()); # notice we are using QR iteration!\n",
    "    U = F.U;\n",
    "    Σ = F.S;\n",
    "    V = F.V;\n",
    "\n",
    "    U, Σ, V\n",
    "end;"
   ]
  },
  {
   "cell_type": "markdown",
   "id": "e96f1f7d-101e-423a-9412-56a53cc13c7b",
   "metadata": {},
   "source": [
    "Next, compute the eigendecomposition for the matrix $\\mathbf{S}\\mathbf{S}^{\\top}$ using [the `eigen(...)` method exported by the `LinearAlgebra.jl` package](https://docs.julialang.org/en/v1/stdlib/LinearAlgebra/#LinearAlgebra.eigen). We'll store the eigenvalue data in the diagonal `Λ₁::Array{Float64,2}` matrix, and \n",
    "the eigenvector data in the `V₁::Array{Float64,2}` matrix."
   ]
  },
  {
   "cell_type": "code",
   "execution_count": 16,
   "id": "b10eccba-6b52-4275-9a54-802c38fb79aa",
   "metadata": {},
   "outputs": [
    {
     "ename": "LoadError",
     "evalue": "UndefVarError: `S` not defined in `Main`\nSuggestion: check for spelling errors or missing imports.",
     "output_type": "error",
     "traceback": [
      "UndefVarError: `S` not defined in `Main`\nSuggestion: check for spelling errors or missing imports.",
      "",
      "Stacktrace:",
      " [1] top-level scope",
      "   @ ./In[16]:4"
     ]
    }
   ],
   "source": [
    "Λ₁,V₁ = let\n",
    "\n",
    "    # initialize -\n",
    "    A = S*transpose(S); # matrix we want to decompose\n",
    "    (n,m) = size(A); # what is the dimension of A?\n",
    "    Λ = Matrix{Float64}(1.0*I, n, n); # builds the I matrix, we'll update with λ -\n",
    "    \n",
    "    # Decompose using the built-in function\n",
    "    F = eigen(A);   # eigenvalues and vectors in F of type Eigen (biggest first)\n",
    "    λ = F.values;   # vector of eigenvalues\n",
    "    V = F.vectors;  # n x n matrix of eigenvectors, each col is an eigenvector\n",
    "\n",
    "    # package the eigenvalues into Λ -\n",
    "    reverse!(λ)\n",
    "    for i ∈ 1:n\n",
    "        Λ[i,i] = λ[i];\n",
    "    end\n",
    "\n",
    "    Λ,V\n",
    "end;"
   ]
  },
  {
   "cell_type": "markdown",
   "id": "6a4ab389-d17c-4570-aeee-d6b0ed178704",
   "metadata": {},
   "source": [
    "Compare the left singular vectors with the eigenvectors. If the vectors are the same then $\\left<\\mathbf{u}_{i},\\mathbf{v}_{j}\\right> = \\delta_{ij}$ where $\\mathbf{u}_{i}$ denotes the ith left singular vector, $\\mathbf{v}_{i}$ denotes the ith eigenvector, and $\\delta_{ij}$ denotes [the Kronecker delta](https://en.wikipedia.org/wiki/Kronecker_delta#). Specify an index $i$ to look at and see the result stored in the `δ₁::Float64` variable:"
   ]
  },
  {
   "cell_type": "code",
   "execution_count": 18,
   "id": "aee75aba-f5dc-4a08-85fb-c82c22e3c761",
   "metadata": {},
   "outputs": [
    {
     "ename": "LoadError",
     "evalue": "UndefVarError: `U₁` not defined in `Main`\nSuggestion: check for spelling errors or missing imports.",
     "output_type": "error",
     "traceback": [
      "UndefVarError: `U₁` not defined in `Main`\nSuggestion: check for spelling errors or missing imports.",
      "",
      "Stacktrace:",
      " [1] top-level scope",
      "   @ In[18]:3"
     ]
    }
   ],
   "source": [
    "δ₁ = let \n",
    "    index = 11; # index of the vector we want to look at \n",
    "    uᵢ = U₁[:,index];\n",
    "    vᵢ = V₁[:,end - (index-1)]; # DQ: why are we going from the end?\n",
    "    dot(uᵢ,vᵢ) # inner product\n",
    "end"
   ]
  },
  {
   "cell_type": "markdown",
   "id": "00e9d1eb-cdce-44ed-80d0-1dff52686bce",
   "metadata": {},
   "source": [
    "### Claim 2: Singular vectors of a symmetric real positive definite matrix are the eigenvectors\n",
    "In cases where $\\mathbf{A}$ is symmetric (square) and positive definite (positive eigenvalues), the left and right singular vectors align with the eigenvectors. Let's test this claim by first computing the singular value decomposition of the covariance matrix $\\mathbf{\\Sigma}$, then we'll compute the eigenvalues and eigenvectors of $\\mathbf{\\Sigma}$, and finally, we'll compare the singular vectors with the eigenvectors."
   ]
  },
  {
   "cell_type": "code",
   "execution_count": 20,
   "id": "5c40f450-d5df-422e-b22b-c98ee44a10f5",
   "metadata": {},
   "outputs": [
    {
     "ename": "LoadError",
     "evalue": "MethodError: no method matching size(::Nothing)\nThe function `size` exists, but no method is defined for this combination of argument types.\n\n\u001b[0mClosest candidates are:\n\u001b[0m  size(\u001b[91m::Plots.EmptyLayout\u001b[39m)\n\u001b[0m\u001b[90m   @\u001b[39m \u001b[35mPlots\u001b[39m \u001b[90m~/.julia/packages/Plots/Ec1L1/src/\u001b[39m\u001b[90m\u001b[4mlayouts.jl:181\u001b[24m\u001b[39m\n\u001b[0m  size(\u001b[91m::Base.MethodList\u001b[39m)\n\u001b[0m\u001b[90m   @\u001b[39m \u001b[90mBase\u001b[39m \u001b[90m\u001b[4mreflection.jl:1193\u001b[24m\u001b[39m\n\u001b[0m  size(\u001b[91m::BitVector\u001b[39m)\n\u001b[0m\u001b[90m   @\u001b[39m \u001b[90mBase\u001b[39m \u001b[90m\u001b[4mbitarray.jl:104\u001b[24m\u001b[39m\n\u001b[0m  ...\n",
     "output_type": "error",
     "traceback": [
      "MethodError: no method matching size(::Nothing)\nThe function `size` exists, but no method is defined for this combination of argument types.\n\n\u001b[0mClosest candidates are:\n\u001b[0m  size(\u001b[91m::Plots.EmptyLayout\u001b[39m)\n\u001b[0m\u001b[90m   @\u001b[39m \u001b[35mPlots\u001b[39m \u001b[90m~/.julia/packages/Plots/Ec1L1/src/\u001b[39m\u001b[90m\u001b[4mlayouts.jl:181\u001b[24m\u001b[39m\n\u001b[0m  size(\u001b[91m::Base.MethodList\u001b[39m)\n\u001b[0m\u001b[90m   @\u001b[39m \u001b[90mBase\u001b[39m \u001b[90m\u001b[4mreflection.jl:1193\u001b[24m\u001b[39m\n\u001b[0m  size(\u001b[91m::BitVector\u001b[39m)\n\u001b[0m\u001b[90m   @\u001b[39m \u001b[90mBase\u001b[39m \u001b[90m\u001b[4mbitarray.jl:104\u001b[24m\u001b[39m\n\u001b[0m  ...\n",
      "",
      "Stacktrace:",
      " [1] top-level scope",
      "   @ In[20]:5"
     ]
    }
   ],
   "source": [
    "U₂,Σ₂,VT₂ = let\n",
    "\n",
    "    # compute SVD -\n",
    "    A = Σ̂; # matrix we want to decompose\n",
    "    (n,m) = size(A); # what is the dimension of A? (this should be square)\n",
    "    F = svd(A, full = true, alg=LinearAlgebra.QRIteration()); # notice we are using QR iteration!\n",
    "    U = F.U;\n",
    "    Σ = F.S;\n",
    "    V = F.V;\n",
    "\n",
    "    U, Σ, V\n",
    "end;"
   ]
  },
  {
   "cell_type": "markdown",
   "id": "7a47538e-7b12-4b05-bf3c-58abb6177d2e",
   "metadata": {},
   "source": [
    "Next, compute the eigendecomposition of the covariance matrix $\\mathbf{\\Sigma}$ using [the `eigen(...)` method exported by the `LinearAlgebra.jl` package](https://docs.julialang.org/en/v1/stdlib/LinearAlgebra/#LinearAlgebra.eigen). We'll store the eigenvalue data in the diagonal `Λ₂::Array{Float64,2}` matrix, and \n",
    "the eigenvector data in the `V₂::Array{Float64,2}` matrix."
   ]
  },
  {
   "cell_type": "code",
   "execution_count": 22,
   "id": "89b3cfdc-5749-4aa1-b839-3c2cdb1d0c20",
   "metadata": {},
   "outputs": [
    {
     "ename": "LoadError",
     "evalue": "MethodError: no method matching size(::Nothing)\nThe function `size` exists, but no method is defined for this combination of argument types.\n\n\u001b[0mClosest candidates are:\n\u001b[0m  size(\u001b[91m::Plots.EmptyLayout\u001b[39m)\n\u001b[0m\u001b[90m   @\u001b[39m \u001b[35mPlots\u001b[39m \u001b[90m~/.julia/packages/Plots/Ec1L1/src/\u001b[39m\u001b[90m\u001b[4mlayouts.jl:181\u001b[24m\u001b[39m\n\u001b[0m  size(\u001b[91m::Base.MethodList\u001b[39m)\n\u001b[0m\u001b[90m   @\u001b[39m \u001b[90mBase\u001b[39m \u001b[90m\u001b[4mreflection.jl:1193\u001b[24m\u001b[39m\n\u001b[0m  size(\u001b[91m::BitVector\u001b[39m)\n\u001b[0m\u001b[90m   @\u001b[39m \u001b[90mBase\u001b[39m \u001b[90m\u001b[4mbitarray.jl:104\u001b[24m\u001b[39m\n\u001b[0m  ...\n",
     "output_type": "error",
     "traceback": [
      "MethodError: no method matching size(::Nothing)\nThe function `size` exists, but no method is defined for this combination of argument types.\n\n\u001b[0mClosest candidates are:\n\u001b[0m  size(\u001b[91m::Plots.EmptyLayout\u001b[39m)\n\u001b[0m\u001b[90m   @\u001b[39m \u001b[35mPlots\u001b[39m \u001b[90m~/.julia/packages/Plots/Ec1L1/src/\u001b[39m\u001b[90m\u001b[4mlayouts.jl:181\u001b[24m\u001b[39m\n\u001b[0m  size(\u001b[91m::Base.MethodList\u001b[39m)\n\u001b[0m\u001b[90m   @\u001b[39m \u001b[90mBase\u001b[39m \u001b[90m\u001b[4mreflection.jl:1193\u001b[24m\u001b[39m\n\u001b[0m  size(\u001b[91m::BitVector\u001b[39m)\n\u001b[0m\u001b[90m   @\u001b[39m \u001b[90mBase\u001b[39m \u001b[90m\u001b[4mbitarray.jl:104\u001b[24m\u001b[39m\n\u001b[0m  ...\n",
      "",
      "Stacktrace:",
      " [1] top-level scope",
      "   @ ./In[22]:5"
     ]
    }
   ],
   "source": [
    "Λ₂,V₂ = let\n",
    "\n",
    "    # initialize -\n",
    "    A = Σ̂; # matrix we want to decompose\n",
    "    (n,m) = size(A); # what is the dimension of A?\n",
    "    Λ = Matrix{Float64}(1.0*I, n, n); # builds the I matrix, we'll update with λ -\n",
    "    \n",
    "    # Decompose using the built-in function\n",
    "    F = eigen(A) ;   # eigenvalues and vectors in F of type Eigen (biggest first)\n",
    "    λ = F.values;   # vector of eigenvalues\n",
    "    V = F.vectors;  # n x n matrix of eigenvectors, each col is an eigenvector\n",
    "\n",
    "    # package the eigenvalues into Λ -\n",
    "    reverse!(λ)\n",
    "    for i ∈ 1:n\n",
    "        Λ[i,i] = λ[i];\n",
    "    end\n",
    "\n",
    "    Λ,V\n",
    "end;"
   ]
  },
  {
   "cell_type": "markdown",
   "id": "1d7fee58-f5e8-49ed-b580-aea4abe9b912",
   "metadata": {},
   "source": [
    "Compare the left singular vectors with the eigenvectors. If the vectors are the same then $\\left<\\mathbf{u}_{i},\\mathbf{v}_{j}\\right> = \\delta_{ij}$ where $\\mathbf{u}_{i}$ denotes the ith left singular vector, $\\mathbf{v}_{i}$ denotes the ith eigenvector, and $\\delta_{ij}$ denotes [the Kronecker delta](https://en.wikipedia.org/wiki/Kronecker_delta#). Specify an index $i$ to look at and see the result stored in the `δ₂::Float64` variable:"
   ]
  },
  {
   "cell_type": "code",
   "execution_count": 24,
   "id": "aa45ab24-7884-4e9d-9db2-ba35b0438bf8",
   "metadata": {},
   "outputs": [
    {
     "ename": "LoadError",
     "evalue": "UndefVarError: `U₂` not defined in `Main`\nSuggestion: check for spelling errors or missing imports.",
     "output_type": "error",
     "traceback": [
      "UndefVarError: `U₂` not defined in `Main`\nSuggestion: check for spelling errors or missing imports.",
      "",
      "Stacktrace:",
      " [1] top-level scope",
      "   @ In[24]:3"
     ]
    }
   ],
   "source": [
    "δ₂ = let \n",
    "    index = 4; # index of the vector we want to look at \n",
    "    uᵢ = U₂[:,index];\n",
    "    vᵢ = V₂[:,end - (index-1)]; # DQ: why are we going from the end?\n",
    "    dot(uᵢ,vᵢ)\n",
    "end"
   ]
  },
  {
   "cell_type": "markdown",
   "id": "f4624ed5-9ddd-4d91-95bb-421a48715f22",
   "metadata": {},
   "source": [
    "### Claim 3: Connection between singular values and eigenvalues\n",
    "The singular values of a matrix $\\mathbf{A}$ are the square roots of the non-zero eigenvalues of either $\\mathbf{A}\\mathbf{A}^{\\top}$ or $\\mathbf{A}^{\\top}\\mathbf{A}$, establishing a direct connection between these two values. In cases where $\\mathbf{A}$ is symmetric (square) and positive definite (positive eigenvalues), the singular values correspond directly to the absolute values of the eigenvalues."
   ]
  },
  {
   "cell_type": "code",
   "execution_count": 26,
   "id": "ed125db9-3060-410c-a9b4-43ba7f507449",
   "metadata": {},
   "outputs": [
    {
     "ename": "LoadError",
     "evalue": "UndefVarError: `S` not defined in `Main`\nSuggestion: check for spelling errors or missing imports.",
     "output_type": "error",
     "traceback": [
      "UndefVarError: `S` not defined in `Main`\nSuggestion: check for spelling errors or missing imports.",
      "",
      "Stacktrace:",
      " [1] top-level scope",
      "   @ In[26]:4"
     ]
    }
   ],
   "source": [
    "U₃,Σ₃,VT₃ = let\n",
    "\n",
    "    # compute SVD -\n",
    "    A = S; # matrix we want to decompose\n",
    "    (n,m) = size(A); # what is the dimension of A? (this should be square)\n",
    "    F = svd(A, full = true, alg=LinearAlgebra.QRIteration()); # notice we are using QR iteration!\n",
    "    U = F.U;\n",
    "    Σ = F.S;\n",
    "    V = F.V;\n",
    "\n",
    "    U, Σ, V\n",
    "end;"
   ]
  },
  {
   "cell_type": "markdown",
   "id": "056c30ac-dfea-4475-85c9-4dd945033c28",
   "metadata": {},
   "source": [
    "Next, let's compare the singular values of $\\mathbf{S}$ with the eigenvalues of $\\mathbf{S}\\mathbf{S}^{\\top}$. If _claim 3_ is true, then we should see $\\sigma_{i}=\\sqrt{\\lambda_{i}}$ for all non-zero eigenvalues. For this test, we'll use [the `@assert` macro](https://docs.julialang.org/en/v1/base/base/#Base.@assert)"
   ]
  },
  {
   "cell_type": "code",
   "execution_count": 28,
   "id": "2a6f2bb8-defd-48aa-867c-425770e741d5",
   "metadata": {},
   "outputs": [
    {
     "ename": "LoadError",
     "evalue": "UndefVarError: `Λ₁` not defined in `Main`\nSuggestion: check for spelling errors or missing imports.",
     "output_type": "error",
     "traceback": [
      "UndefVarError: `Λ₁` not defined in `Main`\nSuggestion: check for spelling errors or missing imports.",
      "",
      "Stacktrace:",
      " [1] top-level scope",
      "   @ In[28]:2"
     ]
    }
   ],
   "source": [
    "let\n",
    "    λ = diag(Λ₁); # get list of eigenvalues of SS^T\n",
    "    σ = Σ₃; # signular values of S\n",
    "    index = 10;\n",
    "    @assert σ[index] ≈ √λ[index]\n",
    "end"
   ]
  },
  {
   "cell_type": "markdown",
   "id": "c262177a-702b-43a7-b403-fefb34223ea7",
   "metadata": {},
   "source": [
    "## Task 3: Dimensionality reduction with Principle Component Analysis (PCA)\n",
    "In this task, let's construct the transformation matrix $\\mathbf{P}$ which transforms the original feature vectors into a lower dimension, i.e., it takes a vector that was originally $m$-dimensional and reduces it to $k$-dimensions, where $k\\ll{m}$ such the reconstruction error is minimized (and the variance was captured). The new features (composite features) are saved in the $|\\mathcal{M}|\\times{k}$ composite feature $\\mathbf{Y}$-matrix and the transformation matrix is stored in the `P::Array{Float64,2}` variable."
   ]
  },
  {
   "cell_type": "code",
   "execution_count": 30,
   "id": "4a06fcd3-6a8a-4d8e-b07f-dd7a8af91bb6",
   "metadata": {
    "jupyter": {
     "source_hidden": true
    }
   },
   "outputs": [
    {
     "ename": "LoadError",
     "evalue": "UndefVarError: `U₂` not defined in `Main`\nSuggestion: check for spelling errors or missing imports.",
     "output_type": "error",
     "traceback": [
      "UndefVarError: `U₂` not defined in `Main`\nSuggestion: check for spelling errors or missing imports.",
      "",
      "Stacktrace:",
      " [1] top-level scope",
      "   @ ./In[30]:5"
     ]
    }
   ],
   "source": [
    "Y, P = let\n",
    "\n",
    "    # initialize -\n",
    "    k = 2; # reduced dimension\n",
    "    number_of_cols = size(U₂,2);\n",
    "    P = zeros(k,number_of_cols); # transformation matrix\n",
    "\n",
    "    # build P -\n",
    "    for i ∈ 1:k\n",
    "        for j ∈ 1:number_of_cols\n",
    "            P[i,j] = U₂[i,j]; \n",
    "        end\n",
    "    end\n",
    "    Y = P*transpose(S) |> transpose |> Matrix, P\n",
    "end;"
   ]
  },
  {
   "cell_type": "markdown",
   "id": "b92d84b9-4ab8-4df0-962a-0c28124b682e",
   "metadata": {},
   "source": [
    "### Visualize the reduced column space\n",
    "We reduced the column space (the set of reactions) from $|\\mathcal{R}|$-dimensional to `k = 2` dimensional. We can now plot the composite features and look at some of their properties. `Unhide` the code block below to see how we plotted the centroid and the values of the composite vector.\n",
    "* __Summary__: You'll see a different pattern depending on your chosen metabolic network. However, generally, you should expect to see a bunch of points clustered around the centroid and then points far away from the centroid. We hypothesize that the outlier points, i.e., far away from the centroid, represent _important_ data. "
   ]
  },
  {
   "cell_type": "code",
   "execution_count": 32,
   "id": "15d50e8a-b8f9-4994-9a4e-aabaff9849d8",
   "metadata": {
    "jupyter": {
     "source_hidden": true
    }
   },
   "outputs": [
    {
     "ename": "LoadError",
     "evalue": "UndefVarError: `y` not defined in `Main`\nSuggestion: check for spelling errors or missing imports.",
     "output_type": "error",
     "traceback": [
      "UndefVarError: `y` not defined in `Main`\nSuggestion: check for spelling errors or missing imports.",
      "",
      "Stacktrace:",
      " [1] top-level scope",
      "   @ In[32]:4"
     ]
    }
   ],
   "source": [
    "let\n",
    "\n",
    "    p = plot(bg=\"gray95\", background_color_outside=\"white\", framestyle = :box, fg_legend = :transparent); # make an empty plot\n",
    "    c = mean(y,dims=1); # compute the centroid -\n",
    "    scatter!(y[:,1], y[:,2], label=\"\", c=:white, msc=:navy)\n",
    "    scatter!([c[1]],[c[2]], ms=4, c=:red, label=\"centeroid\")\n",
    "    xlabel!(\"Composite feature 1\", fontsize=18)\n",
    "    ylabel!(\"Composite feature 2\", fontsize=18)\n",
    "end"
   ]
  },
  {
   "cell_type": "markdown",
   "id": "91313954-0ea7-474a-a6e2-2cbc2863cd0e",
   "metadata": {},
   "source": [
    "Following the hypothesis, let's compute the distance away from the centroid and sort these distances from high to low. We'll store the indexes of the sorted metabolites in the `î::Array{Int64,1}` array, while the unsorted distances are stored in the `distance_array::Array{Float64,1}` array. "
   ]
  },
  {
   "cell_type": "code",
   "execution_count": 34,
   "id": "8d06572f-3196-4ed1-aa26-74d77f4987f8",
   "metadata": {},
   "outputs": [
    {
     "ename": "LoadError",
     "evalue": "UndefVarError: `y` not defined in `Main`\nSuggestion: check for spelling errors or missing imports.",
     "output_type": "error",
     "traceback": [
      "UndefVarError: `y` not defined in `Main`\nSuggestion: check for spelling errors or missing imports.",
      "",
      "Stacktrace:",
      " [1] top-level scope",
      "   @ ./In[34]:4"
     ]
    }
   ],
   "source": [
    "î, distance_array = let\n",
    "\n",
    "    # initialize -\n",
    "    c = mean(y,dims=1); # compute the centroid\n",
    "    d = Euclidean(); # distance metric - Euclidean is a good choice, but what happens if we choose a different metric?\n",
    "    number_of_rows = size(y,1); # number of rows \n",
    "    distance_array = Array{Float64,1}(undef, number_of_rows); # storage\n",
    "\n",
    "    # let's process each row, and compute its distance from the centroid\n",
    "    for i ∈ 1:number_of_rows\n",
    "        distance_array[i] = d(y[i,:],c)^2; # how far away of the point from the centroid?\n",
    "    end\n",
    "\n",
    "    # let's sort this from largest to smallest distance\n",
    "    î = sortperm(distance_array, rev=true); # what does rev=true do?\n",
    "    \n",
    "    # return to caller\n",
    "    î, distance_array\n",
    "end;"
   ]
  },
  {
   "cell_type": "markdown",
   "id": "3408f8b1-dc6e-42a5-8004-72fca483bc6c",
   "metadata": {},
   "source": [
    "Let's use the `î::Array{Int64,1}` array to look up what the `outlier` metabolites are in the metabolites field of the `model::Dict{String, Any}` dictionary. Maybe they have some critical shared functionality in the system?\n",
    "* `Unhide` the code block below to see how we constructed a table holding the `outlier` metabolite information using [the `pretty_table(...)` method exported by the `PrettyTables.jl` package](https://github.com/ronisbr/PrettyTables.jl). The `logscore` field is [the `log10(...)` transformed](https://docs.julialang.org/en/v1/base/math/#Base.log10) distance."
   ]
  },
  {
   "cell_type": "code",
   "execution_count": 36,
   "id": "1066a81b-8a65-4f18-bc2b-74f7ca16a4c4",
   "metadata": {
    "jupyter": {
     "source_hidden": true
    }
   },
   "outputs": [
    {
     "ename": "LoadError",
     "evalue": "UndefVarError: `î` not defined in `Main`\nSuggestion: check for spelling errors or missing imports.",
     "output_type": "error",
     "traceback": [
      "UndefVarError: `î` not defined in `Main`\nSuggestion: check for spelling errors or missing imports.",
      "",
      "Stacktrace:",
      " [1] top-level scope",
      "   @ In[36]:7"
     ]
    }
   ],
   "source": [
    "let\n",
    "    number_of_rows_we_want_to_see = 10;\n",
    "    df = DataFrame();\n",
    "\n",
    "    for j ∈ 1:number_of_rows_we_want_to_see\n",
    "\n",
    "        k = î[j]; # index of metabolite\n",
    "        name = model[\"metabolites\"][k][\"name\"]; # name symbol of that metabolite\n",
    "        id = model[\"metabolites\"][k][\"id\"]; # id symbol of that metabolite\n",
    "        connections = findall(σᵢ -> σᵢ ≠ 0.0, S[k, :]) |> length; # how many connections?\n",
    "        \n",
    "        row_df = (\n",
    "            i = k,\n",
    "            id = id,\n",
    "            name = name,\n",
    "            connections = connections, \n",
    "            logscore = log10(distance_array[k])\n",
    "        );\n",
    "        push!(df, row_df);\n",
    "    end\n",
    "    pretty_table(df, tf=tf_simple)\n",
    "end"
   ]
  }
 ],
 "metadata": {
  "kernelspec": {
   "display_name": "Julia 1.11.3",
   "language": "julia",
   "name": "julia-1.11"
  },
  "language_info": {
   "file_extension": ".jl",
   "mimetype": "application/julia",
   "name": "julia",
   "version": "1.11.3"
  }
 },
 "nbformat": 4,
 "nbformat_minor": 5
}
