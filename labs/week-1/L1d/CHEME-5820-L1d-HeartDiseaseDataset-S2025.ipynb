{
 "cells": [
  {
   "cell_type": "markdown",
   "id": "c695f5e9-6b72-4869-972f-1f48e03fe7e5",
   "metadata": {},
   "source": [
    "# Lab 1d: K-Means Clustering Analysis of a Heart Failure Clinical Dataset\n",
    "In this lab, we will cluster a dataset describing the clinical risk factors linked with death from heart disease using [the K-means clustering algorithm](https://en.wikipedia.org/wiki/K-means_clustering). In this dataset, several risk factors (features) are measured per patient (some of these features are continuous, some are categorical), along with the binary clinical outcome (target variable) `{death | not death}.` \n",
    "\n",
    "Before we start, divide into teams and familiarize yourself with the lab. Then, execute the `Run All Cells` command to check if you (or your neighbor) have any code or setup issues. Code issues, then raise your hands - and let's get those fixed!\n",
    "\n",
    "### Tasks\n",
    "* __Task 1: Setup, Data, Constants (10 min)__: Let's take 10 minutes to review the dataset we'll explore today and set up some values we'll use in the other tasks. We'll load the data and do some initial _data munging_ (also called [data wrangling](https://en.wikipedia.org/wiki/Data_wrangling)) to get the clinical dataset in a form that we'll use in our analysis.\n",
    "* __Task 2: Cluster (20 min)__: In this task, you will set up the clustering problem and execute the clustering algorithm on our dataset using a default value for parameters (such as the number of clusters $K$). We'll check that the _energy_ of the system decreases to a minimum.\n",
    "* __Task 3: Analysis of clustering results (20 min)__: Now that we have clustered the data (using the specified number of clusters that we computed), let's take some time to explore what's in each cluster and what the clinical data says about heart disease and heart disease risk factors."
   ]
  },
  {
   "cell_type": "markdown",
   "id": "c0afa002-b0cc-44b2-92e7-8c7229d22a3a",
   "metadata": {},
   "source": [
    "## Task 1: Setup, Data, and Prerequisites\n",
    "We set up the computational environment by including the `Include.jl` file. The `Include.jl` file loads external packages, various functions that we will use in the exercise, and custom types to model the components of our lab problem."
   ]
  },
  {
   "cell_type": "code",
   "execution_count": 119,
   "id": "791e8a3f-3718-4848-ad53-93bd5827d2ed",
   "metadata": {},
   "outputs": [],
   "source": [
    "include(\"Include.jl\"); # this executes the Include.jl file - what does that do?"
   ]
  },
  {
   "cell_type": "markdown",
   "id": "829d7d60-1c00-406a-aedf-87037918dd6e",
   "metadata": {},
   "source": [
    "### Data\n",
    "Next, let's load up the dataset that we will explore. The data for this lab was taken from this `2020` publication:\n",
    "* [Davide Chicco, Giuseppe Jurman: \"Machine learning can predict survival of patients with heart failure from serum creatinine and ejection fraction alone.\" BMC Medical Informatics and Decision Making 20, 16 (2020). https://doi.org/10.1186/s12911-020-1023-5](https://pubmed.ncbi.nlm.nih.gov/32013925/)\n",
    "\n",
    "In this paper, the authors analyzed a dataset of 299 heart failure patients collected in 2015. The patients comprised 105 women and 194 men, aged between 40 and 95 years old. The dataset contains 13 features (a mixture of continuous and categorical data), which report clinical, body, and lifestyle information:\n",
    "* Some features are binary: anemia, high blood pressure, diabetes, sex, and smoking status.\n",
    "* The remaining features were continuous biochemical measurements, such as the level of the Creatinine phosphokinase (CPK) enzyme in the blood, the number of platelets, etc.\n",
    "* The class (target) variable is encoded as a binary (boolean) death event: `1` if the patient died during the follow-up period, `0` if the patient did not die during the follow-up period.\n",
    "\n",
    "We'll load this dataset as a [DataFrame instance](https://dataframes.juliadata.org/stable/) and store it in the `originaldataset::DataFrame` variable:"
   ]
  },
  {
   "cell_type": "code",
   "execution_count": 121,
   "id": "656d5710-9346-40b5-a3ba-74df8a44b85a",
   "metadata": {},
   "outputs": [
    {
     "data": {
      "text/html": [
       "<div><div style = \"float: left;\"><span>299×13 DataFrame</span></div><div style = \"float: right;\"><span style = \"font-style: italic;\">274 rows omitted</span></div><div style = \"clear: both;\"></div></div><div class = \"data-frame\" style = \"overflow-x: scroll;\"><table class = \"data-frame\" style = \"margin-bottom: 6px;\"><thead><tr class = \"header\"><th class = \"rowNumber\" style = \"font-weight: bold; text-align: right;\">Row</th><th style = \"text-align: left;\">age</th><th style = \"text-align: left;\">anaemia</th><th style = \"text-align: left;\">creatinine_phosphokinase</th><th style = \"text-align: left;\">diabetes</th><th style = \"text-align: left;\">ejection_fraction</th><th style = \"text-align: left;\">high_blood_pressure</th><th style = \"text-align: left;\">platelets</th><th style = \"text-align: left;\">serum_creatinine</th><th style = \"text-align: left;\">serum_sodium</th><th style = \"text-align: left;\">sex</th><th style = \"text-align: left;\">smoking</th><th style = \"text-align: left;\">time</th><th style = \"text-align: left;\">death_event</th></tr><tr class = \"subheader headerLastRow\"><th class = \"rowNumber\" style = \"font-weight: bold; text-align: right;\"></th><th title = \"Float64\" style = \"text-align: left;\">Float64</th><th title = \"Int64\" style = \"text-align: left;\">Int64</th><th title = \"Int64\" style = \"text-align: left;\">Int64</th><th title = \"Int64\" style = \"text-align: left;\">Int64</th><th title = \"Int64\" style = \"text-align: left;\">Int64</th><th title = \"Int64\" style = \"text-align: left;\">Int64</th><th title = \"Float64\" style = \"text-align: left;\">Float64</th><th title = \"Float64\" style = \"text-align: left;\">Float64</th><th title = \"Int64\" style = \"text-align: left;\">Int64</th><th title = \"Int64\" style = \"text-align: left;\">Int64</th><th title = \"Int64\" style = \"text-align: left;\">Int64</th><th title = \"Int64\" style = \"text-align: left;\">Int64</th><th title = \"Int64\" style = \"text-align: left;\">Int64</th></tr></thead><tbody><tr><td class = \"rowNumber\" style = \"font-weight: bold; text-align: right;\">1</td><td style = \"text-align: right;\">75.0</td><td style = \"text-align: right;\">0</td><td style = \"text-align: right;\">582</td><td style = \"text-align: right;\">0</td><td style = \"text-align: right;\">20</td><td style = \"text-align: right;\">1</td><td style = \"text-align: right;\">265000.0</td><td style = \"text-align: right;\">1.9</td><td style = \"text-align: right;\">130</td><td style = \"text-align: right;\">1</td><td style = \"text-align: right;\">0</td><td style = \"text-align: right;\">4</td><td style = \"text-align: right;\">1</td></tr><tr><td class = \"rowNumber\" style = \"font-weight: bold; text-align: right;\">2</td><td style = \"text-align: right;\">55.0</td><td style = \"text-align: right;\">0</td><td style = \"text-align: right;\">7861</td><td style = \"text-align: right;\">0</td><td style = \"text-align: right;\">38</td><td style = \"text-align: right;\">0</td><td style = \"text-align: right;\">263358.0</td><td style = \"text-align: right;\">1.1</td><td style = \"text-align: right;\">136</td><td style = \"text-align: right;\">1</td><td style = \"text-align: right;\">0</td><td style = \"text-align: right;\">6</td><td style = \"text-align: right;\">1</td></tr><tr><td class = \"rowNumber\" style = \"font-weight: bold; text-align: right;\">3</td><td style = \"text-align: right;\">65.0</td><td style = \"text-align: right;\">0</td><td style = \"text-align: right;\">146</td><td style = \"text-align: right;\">0</td><td style = \"text-align: right;\">20</td><td style = \"text-align: right;\">0</td><td style = \"text-align: right;\">162000.0</td><td style = \"text-align: right;\">1.3</td><td style = \"text-align: right;\">129</td><td style = \"text-align: right;\">1</td><td style = \"text-align: right;\">1</td><td style = \"text-align: right;\">7</td><td style = \"text-align: right;\">1</td></tr><tr><td class = \"rowNumber\" style = \"font-weight: bold; text-align: right;\">4</td><td style = \"text-align: right;\">50.0</td><td style = \"text-align: right;\">1</td><td style = \"text-align: right;\">111</td><td style = \"text-align: right;\">0</td><td style = \"text-align: right;\">20</td><td style = \"text-align: right;\">0</td><td style = \"text-align: right;\">210000.0</td><td style = \"text-align: right;\">1.9</td><td style = \"text-align: right;\">137</td><td style = \"text-align: right;\">1</td><td style = \"text-align: right;\">0</td><td style = \"text-align: right;\">7</td><td style = \"text-align: right;\">1</td></tr><tr><td class = \"rowNumber\" style = \"font-weight: bold; text-align: right;\">5</td><td style = \"text-align: right;\">65.0</td><td style = \"text-align: right;\">1</td><td style = \"text-align: right;\">160</td><td style = \"text-align: right;\">1</td><td style = \"text-align: right;\">20</td><td style = \"text-align: right;\">0</td><td style = \"text-align: right;\">327000.0</td><td style = \"text-align: right;\">2.7</td><td style = \"text-align: right;\">116</td><td style = \"text-align: right;\">0</td><td style = \"text-align: right;\">0</td><td style = \"text-align: right;\">8</td><td style = \"text-align: right;\">1</td></tr><tr><td class = \"rowNumber\" style = \"font-weight: bold; text-align: right;\">6</td><td style = \"text-align: right;\">90.0</td><td style = \"text-align: right;\">1</td><td style = \"text-align: right;\">47</td><td style = \"text-align: right;\">0</td><td style = \"text-align: right;\">40</td><td style = \"text-align: right;\">1</td><td style = \"text-align: right;\">204000.0</td><td style = \"text-align: right;\">2.1</td><td style = \"text-align: right;\">132</td><td style = \"text-align: right;\">1</td><td style = \"text-align: right;\">1</td><td style = \"text-align: right;\">8</td><td style = \"text-align: right;\">1</td></tr><tr><td class = \"rowNumber\" style = \"font-weight: bold; text-align: right;\">7</td><td style = \"text-align: right;\">75.0</td><td style = \"text-align: right;\">1</td><td style = \"text-align: right;\">246</td><td style = \"text-align: right;\">0</td><td style = \"text-align: right;\">15</td><td style = \"text-align: right;\">0</td><td style = \"text-align: right;\">127000.0</td><td style = \"text-align: right;\">1.2</td><td style = \"text-align: right;\">137</td><td style = \"text-align: right;\">1</td><td style = \"text-align: right;\">0</td><td style = \"text-align: right;\">10</td><td style = \"text-align: right;\">1</td></tr><tr><td class = \"rowNumber\" style = \"font-weight: bold; text-align: right;\">8</td><td style = \"text-align: right;\">60.0</td><td style = \"text-align: right;\">1</td><td style = \"text-align: right;\">315</td><td style = \"text-align: right;\">1</td><td style = \"text-align: right;\">60</td><td style = \"text-align: right;\">0</td><td style = \"text-align: right;\">454000.0</td><td style = \"text-align: right;\">1.1</td><td style = \"text-align: right;\">131</td><td style = \"text-align: right;\">1</td><td style = \"text-align: right;\">1</td><td style = \"text-align: right;\">10</td><td style = \"text-align: right;\">1</td></tr><tr><td class = \"rowNumber\" style = \"font-weight: bold; text-align: right;\">9</td><td style = \"text-align: right;\">65.0</td><td style = \"text-align: right;\">0</td><td style = \"text-align: right;\">157</td><td style = \"text-align: right;\">0</td><td style = \"text-align: right;\">65</td><td style = \"text-align: right;\">0</td><td style = \"text-align: right;\">263358.0</td><td style = \"text-align: right;\">1.5</td><td style = \"text-align: right;\">138</td><td style = \"text-align: right;\">0</td><td style = \"text-align: right;\">0</td><td style = \"text-align: right;\">10</td><td style = \"text-align: right;\">1</td></tr><tr><td class = \"rowNumber\" style = \"font-weight: bold; text-align: right;\">10</td><td style = \"text-align: right;\">80.0</td><td style = \"text-align: right;\">1</td><td style = \"text-align: right;\">123</td><td style = \"text-align: right;\">0</td><td style = \"text-align: right;\">35</td><td style = \"text-align: right;\">1</td><td style = \"text-align: right;\">388000.0</td><td style = \"text-align: right;\">9.4</td><td style = \"text-align: right;\">133</td><td style = \"text-align: right;\">1</td><td style = \"text-align: right;\">1</td><td style = \"text-align: right;\">10</td><td style = \"text-align: right;\">1</td></tr><tr><td class = \"rowNumber\" style = \"font-weight: bold; text-align: right;\">11</td><td style = \"text-align: right;\">75.0</td><td style = \"text-align: right;\">1</td><td style = \"text-align: right;\">81</td><td style = \"text-align: right;\">0</td><td style = \"text-align: right;\">38</td><td style = \"text-align: right;\">1</td><td style = \"text-align: right;\">368000.0</td><td style = \"text-align: right;\">4.0</td><td style = \"text-align: right;\">131</td><td style = \"text-align: right;\">1</td><td style = \"text-align: right;\">1</td><td style = \"text-align: right;\">10</td><td style = \"text-align: right;\">1</td></tr><tr><td class = \"rowNumber\" style = \"font-weight: bold; text-align: right;\">12</td><td style = \"text-align: right;\">62.0</td><td style = \"text-align: right;\">0</td><td style = \"text-align: right;\">231</td><td style = \"text-align: right;\">0</td><td style = \"text-align: right;\">25</td><td style = \"text-align: right;\">1</td><td style = \"text-align: right;\">253000.0</td><td style = \"text-align: right;\">0.9</td><td style = \"text-align: right;\">140</td><td style = \"text-align: right;\">1</td><td style = \"text-align: right;\">1</td><td style = \"text-align: right;\">10</td><td style = \"text-align: right;\">1</td></tr><tr><td class = \"rowNumber\" style = \"font-weight: bold; text-align: right;\">13</td><td style = \"text-align: right;\">45.0</td><td style = \"text-align: right;\">1</td><td style = \"text-align: right;\">981</td><td style = \"text-align: right;\">0</td><td style = \"text-align: right;\">30</td><td style = \"text-align: right;\">0</td><td style = \"text-align: right;\">136000.0</td><td style = \"text-align: right;\">1.1</td><td style = \"text-align: right;\">137</td><td style = \"text-align: right;\">1</td><td style = \"text-align: right;\">0</td><td style = \"text-align: right;\">11</td><td style = \"text-align: right;\">1</td></tr><tr><td style = \"text-align: right;\">&vellip;</td><td style = \"text-align: right;\">&vellip;</td><td style = \"text-align: right;\">&vellip;</td><td style = \"text-align: right;\">&vellip;</td><td style = \"text-align: right;\">&vellip;</td><td style = \"text-align: right;\">&vellip;</td><td style = \"text-align: right;\">&vellip;</td><td style = \"text-align: right;\">&vellip;</td><td style = \"text-align: right;\">&vellip;</td><td style = \"text-align: right;\">&vellip;</td><td style = \"text-align: right;\">&vellip;</td><td style = \"text-align: right;\">&vellip;</td><td style = \"text-align: right;\">&vellip;</td><td style = \"text-align: right;\">&vellip;</td></tr><tr><td class = \"rowNumber\" style = \"font-weight: bold; text-align: right;\">288</td><td style = \"text-align: right;\">45.0</td><td style = \"text-align: right;\">0</td><td style = \"text-align: right;\">582</td><td style = \"text-align: right;\">1</td><td style = \"text-align: right;\">55</td><td style = \"text-align: right;\">0</td><td style = \"text-align: right;\">543000.0</td><td style = \"text-align: right;\">1.0</td><td style = \"text-align: right;\">132</td><td style = \"text-align: right;\">0</td><td style = \"text-align: right;\">0</td><td style = \"text-align: right;\">250</td><td style = \"text-align: right;\">0</td></tr><tr><td class = \"rowNumber\" style = \"font-weight: bold; text-align: right;\">289</td><td style = \"text-align: right;\">65.0</td><td style = \"text-align: right;\">0</td><td style = \"text-align: right;\">892</td><td style = \"text-align: right;\">1</td><td style = \"text-align: right;\">35</td><td style = \"text-align: right;\">0</td><td style = \"text-align: right;\">263358.0</td><td style = \"text-align: right;\">1.1</td><td style = \"text-align: right;\">142</td><td style = \"text-align: right;\">0</td><td style = \"text-align: right;\">0</td><td style = \"text-align: right;\">256</td><td style = \"text-align: right;\">0</td></tr><tr><td class = \"rowNumber\" style = \"font-weight: bold; text-align: right;\">290</td><td style = \"text-align: right;\">90.0</td><td style = \"text-align: right;\">1</td><td style = \"text-align: right;\">337</td><td style = \"text-align: right;\">0</td><td style = \"text-align: right;\">38</td><td style = \"text-align: right;\">0</td><td style = \"text-align: right;\">390000.0</td><td style = \"text-align: right;\">0.9</td><td style = \"text-align: right;\">144</td><td style = \"text-align: right;\">0</td><td style = \"text-align: right;\">0</td><td style = \"text-align: right;\">256</td><td style = \"text-align: right;\">0</td></tr><tr><td class = \"rowNumber\" style = \"font-weight: bold; text-align: right;\">291</td><td style = \"text-align: right;\">45.0</td><td style = \"text-align: right;\">0</td><td style = \"text-align: right;\">615</td><td style = \"text-align: right;\">1</td><td style = \"text-align: right;\">55</td><td style = \"text-align: right;\">0</td><td style = \"text-align: right;\">222000.0</td><td style = \"text-align: right;\">0.8</td><td style = \"text-align: right;\">141</td><td style = \"text-align: right;\">0</td><td style = \"text-align: right;\">0</td><td style = \"text-align: right;\">257</td><td style = \"text-align: right;\">0</td></tr><tr><td class = \"rowNumber\" style = \"font-weight: bold; text-align: right;\">292</td><td style = \"text-align: right;\">60.0</td><td style = \"text-align: right;\">0</td><td style = \"text-align: right;\">320</td><td style = \"text-align: right;\">0</td><td style = \"text-align: right;\">35</td><td style = \"text-align: right;\">0</td><td style = \"text-align: right;\">133000.0</td><td style = \"text-align: right;\">1.4</td><td style = \"text-align: right;\">139</td><td style = \"text-align: right;\">1</td><td style = \"text-align: right;\">0</td><td style = \"text-align: right;\">258</td><td style = \"text-align: right;\">0</td></tr><tr><td class = \"rowNumber\" style = \"font-weight: bold; text-align: right;\">293</td><td style = \"text-align: right;\">52.0</td><td style = \"text-align: right;\">0</td><td style = \"text-align: right;\">190</td><td style = \"text-align: right;\">1</td><td style = \"text-align: right;\">38</td><td style = \"text-align: right;\">0</td><td style = \"text-align: right;\">382000.0</td><td style = \"text-align: right;\">1.0</td><td style = \"text-align: right;\">140</td><td style = \"text-align: right;\">1</td><td style = \"text-align: right;\">1</td><td style = \"text-align: right;\">258</td><td style = \"text-align: right;\">0</td></tr><tr><td class = \"rowNumber\" style = \"font-weight: bold; text-align: right;\">294</td><td style = \"text-align: right;\">63.0</td><td style = \"text-align: right;\">1</td><td style = \"text-align: right;\">103</td><td style = \"text-align: right;\">1</td><td style = \"text-align: right;\">35</td><td style = \"text-align: right;\">0</td><td style = \"text-align: right;\">179000.0</td><td style = \"text-align: right;\">0.9</td><td style = \"text-align: right;\">136</td><td style = \"text-align: right;\">1</td><td style = \"text-align: right;\">1</td><td style = \"text-align: right;\">270</td><td style = \"text-align: right;\">0</td></tr><tr><td class = \"rowNumber\" style = \"font-weight: bold; text-align: right;\">295</td><td style = \"text-align: right;\">62.0</td><td style = \"text-align: right;\">0</td><td style = \"text-align: right;\">61</td><td style = \"text-align: right;\">1</td><td style = \"text-align: right;\">38</td><td style = \"text-align: right;\">1</td><td style = \"text-align: right;\">155000.0</td><td style = \"text-align: right;\">1.1</td><td style = \"text-align: right;\">143</td><td style = \"text-align: right;\">1</td><td style = \"text-align: right;\">1</td><td style = \"text-align: right;\">270</td><td style = \"text-align: right;\">0</td></tr><tr><td class = \"rowNumber\" style = \"font-weight: bold; text-align: right;\">296</td><td style = \"text-align: right;\">55.0</td><td style = \"text-align: right;\">0</td><td style = \"text-align: right;\">1820</td><td style = \"text-align: right;\">0</td><td style = \"text-align: right;\">38</td><td style = \"text-align: right;\">0</td><td style = \"text-align: right;\">270000.0</td><td style = \"text-align: right;\">1.2</td><td style = \"text-align: right;\">139</td><td style = \"text-align: right;\">0</td><td style = \"text-align: right;\">0</td><td style = \"text-align: right;\">271</td><td style = \"text-align: right;\">0</td></tr><tr><td class = \"rowNumber\" style = \"font-weight: bold; text-align: right;\">297</td><td style = \"text-align: right;\">45.0</td><td style = \"text-align: right;\">0</td><td style = \"text-align: right;\">2060</td><td style = \"text-align: right;\">1</td><td style = \"text-align: right;\">60</td><td style = \"text-align: right;\">0</td><td style = \"text-align: right;\">742000.0</td><td style = \"text-align: right;\">0.8</td><td style = \"text-align: right;\">138</td><td style = \"text-align: right;\">0</td><td style = \"text-align: right;\">0</td><td style = \"text-align: right;\">278</td><td style = \"text-align: right;\">0</td></tr><tr><td class = \"rowNumber\" style = \"font-weight: bold; text-align: right;\">298</td><td style = \"text-align: right;\">45.0</td><td style = \"text-align: right;\">0</td><td style = \"text-align: right;\">2413</td><td style = \"text-align: right;\">0</td><td style = \"text-align: right;\">38</td><td style = \"text-align: right;\">0</td><td style = \"text-align: right;\">140000.0</td><td style = \"text-align: right;\">1.4</td><td style = \"text-align: right;\">140</td><td style = \"text-align: right;\">1</td><td style = \"text-align: right;\">1</td><td style = \"text-align: right;\">280</td><td style = \"text-align: right;\">0</td></tr><tr><td class = \"rowNumber\" style = \"font-weight: bold; text-align: right;\">299</td><td style = \"text-align: right;\">50.0</td><td style = \"text-align: right;\">0</td><td style = \"text-align: right;\">196</td><td style = \"text-align: right;\">0</td><td style = \"text-align: right;\">45</td><td style = \"text-align: right;\">0</td><td style = \"text-align: right;\">395000.0</td><td style = \"text-align: right;\">1.6</td><td style = \"text-align: right;\">136</td><td style = \"text-align: right;\">1</td><td style = \"text-align: right;\">1</td><td style = \"text-align: right;\">285</td><td style = \"text-align: right;\">0</td></tr></tbody></table></div>"
      ],
      "text/latex": [
       "\\begin{tabular}{r|ccccccc}\n",
       "\t& age & anaemia & creatinine\\_phosphokinase & diabetes & ejection\\_fraction & high\\_blood\\_pressure & \\\\\n",
       "\t\\hline\n",
       "\t& Float64 & Int64 & Int64 & Int64 & Int64 & Int64 & \\\\\n",
       "\t\\hline\n",
       "\t1 & 75.0 & 0 & 582 & 0 & 20 & 1 & $\\dots$ \\\\\n",
       "\t2 & 55.0 & 0 & 7861 & 0 & 38 & 0 & $\\dots$ \\\\\n",
       "\t3 & 65.0 & 0 & 146 & 0 & 20 & 0 & $\\dots$ \\\\\n",
       "\t4 & 50.0 & 1 & 111 & 0 & 20 & 0 & $\\dots$ \\\\\n",
       "\t5 & 65.0 & 1 & 160 & 1 & 20 & 0 & $\\dots$ \\\\\n",
       "\t6 & 90.0 & 1 & 47 & 0 & 40 & 1 & $\\dots$ \\\\\n",
       "\t7 & 75.0 & 1 & 246 & 0 & 15 & 0 & $\\dots$ \\\\\n",
       "\t8 & 60.0 & 1 & 315 & 1 & 60 & 0 & $\\dots$ \\\\\n",
       "\t9 & 65.0 & 0 & 157 & 0 & 65 & 0 & $\\dots$ \\\\\n",
       "\t10 & 80.0 & 1 & 123 & 0 & 35 & 1 & $\\dots$ \\\\\n",
       "\t11 & 75.0 & 1 & 81 & 0 & 38 & 1 & $\\dots$ \\\\\n",
       "\t12 & 62.0 & 0 & 231 & 0 & 25 & 1 & $\\dots$ \\\\\n",
       "\t13 & 45.0 & 1 & 981 & 0 & 30 & 0 & $\\dots$ \\\\\n",
       "\t14 & 50.0 & 1 & 168 & 0 & 38 & 1 & $\\dots$ \\\\\n",
       "\t15 & 49.0 & 1 & 80 & 0 & 30 & 1 & $\\dots$ \\\\\n",
       "\t16 & 82.0 & 1 & 379 & 0 & 50 & 0 & $\\dots$ \\\\\n",
       "\t17 & 87.0 & 1 & 149 & 0 & 38 & 0 & $\\dots$ \\\\\n",
       "\t18 & 45.0 & 0 & 582 & 0 & 14 & 0 & $\\dots$ \\\\\n",
       "\t19 & 70.0 & 1 & 125 & 0 & 25 & 1 & $\\dots$ \\\\\n",
       "\t20 & 48.0 & 1 & 582 & 1 & 55 & 0 & $\\dots$ \\\\\n",
       "\t21 & 65.0 & 1 & 52 & 0 & 25 & 1 & $\\dots$ \\\\\n",
       "\t22 & 65.0 & 1 & 128 & 1 & 30 & 1 & $\\dots$ \\\\\n",
       "\t23 & 68.0 & 1 & 220 & 0 & 35 & 1 & $\\dots$ \\\\\n",
       "\t24 & 53.0 & 0 & 63 & 1 & 60 & 0 & $\\dots$ \\\\\n",
       "\t25 & 75.0 & 0 & 582 & 1 & 30 & 1 & $\\dots$ \\\\\n",
       "\t26 & 80.0 & 0 & 148 & 1 & 38 & 0 & $\\dots$ \\\\\n",
       "\t27 & 95.0 & 1 & 112 & 0 & 40 & 1 & $\\dots$ \\\\\n",
       "\t28 & 70.0 & 0 & 122 & 1 & 45 & 1 & $\\dots$ \\\\\n",
       "\t29 & 58.0 & 1 & 60 & 0 & 38 & 0 & $\\dots$ \\\\\n",
       "\t30 & 82.0 & 0 & 70 & 1 & 30 & 0 & $\\dots$ \\\\\n",
       "\t$\\dots$ & $\\dots$ & $\\dots$ & $\\dots$ & $\\dots$ & $\\dots$ & $\\dots$ &  \\\\\n",
       "\\end{tabular}\n"
      ],
      "text/plain": [
       "\u001b[1m299×13 DataFrame\u001b[0m\n",
       "\u001b[1m Row \u001b[0m│\u001b[1m age     \u001b[0m\u001b[1m anaemia \u001b[0m\u001b[1m creatinine_phosphokinase \u001b[0m\u001b[1m diabetes \u001b[0m\u001b[1m ejection_fraction\u001b[0m ⋯\n",
       "     │\u001b[90m Float64 \u001b[0m\u001b[90m Int64   \u001b[0m\u001b[90m Int64                    \u001b[0m\u001b[90m Int64    \u001b[0m\u001b[90m Int64            \u001b[0m ⋯\n",
       "─────┼──────────────────────────────────────────────────────────────────────────\n",
       "   1 │    75.0        0                       582         0                 20 ⋯\n",
       "   2 │    55.0        0                      7861         0                 38\n",
       "   3 │    65.0        0                       146         0                 20\n",
       "   4 │    50.0        1                       111         0                 20\n",
       "   5 │    65.0        1                       160         1                 20 ⋯\n",
       "   6 │    90.0        1                        47         0                 40\n",
       "   7 │    75.0        1                       246         0                 15\n",
       "   8 │    60.0        1                       315         1                 60\n",
       "   9 │    65.0        0                       157         0                 65 ⋯\n",
       "  10 │    80.0        1                       123         0                 35\n",
       "  11 │    75.0        1                        81         0                 38\n",
       "  ⋮  │    ⋮        ⋮                ⋮                 ⋮              ⋮         ⋱\n",
       " 290 │    90.0        1                       337         0                 38\n",
       " 291 │    45.0        0                       615         1                 55 ⋯\n",
       " 292 │    60.0        0                       320         0                 35\n",
       " 293 │    52.0        0                       190         1                 38\n",
       " 294 │    63.0        1                       103         1                 35\n",
       " 295 │    62.0        0                        61         1                 38 ⋯\n",
       " 296 │    55.0        0                      1820         0                 38\n",
       " 297 │    45.0        0                      2060         1                 60\n",
       " 298 │    45.0        0                      2413         0                 38\n",
       " 299 │    50.0        0                       196         0                 45 ⋯\n",
       "\u001b[36m                                                  8 columns and 278 rows omitted\u001b[0m"
      ]
     },
     "execution_count": 121,
     "metadata": {},
     "output_type": "execute_result"
    }
   ],
   "source": [
    "originaldataset = CSV.read(joinpath(_PATH_TO_DATA, \"heart_failure_clinical_records_dataset.csv\"), DataFrame)"
   ]
  },
  {
   "cell_type": "markdown",
   "id": "bc960b2d-1c40-4dad-9a0f-665687ce0e55",
   "metadata": {},
   "source": [
    "#### Data scaling\n",
    "We know from lecture that [the K-means approach](https://en.wikipedia.org/wiki/K-means_clustering) works on [an instance of a `Matrix`](https://docs.julialang.org/en/v1/base/arrays/#Base.Matrix-Tuple{UndefInitializer,%20Any,%20Any}) and not [a `DataFrame` instance](https://dataframes.juliadata.org/stable/). Thus, we need to convert the data to [a `Matrix`](https://docs.julialang.org/en/v1/base/arrays/#Base.Matrix-Tuple{UndefInitializer,%20Any,%20Any}). In addition, there are several ways we can pretreat the data to make the clustering easier.\n",
    "* Convert `0,1` data to `-1,1`. This is a preference (not technically required), but it makes (binary) classification problems easier, so let's convert all categorical `0,1` data to `-1,1`. In this rescaled data, `0` will be replaced by `-1`. Thus, _false_ will be mapped to `-1`, and _true_ will remain `1`.\n",
    "* Next, let's [z-score center](https://en.wikipedia.org/wiki/Feature_scaling) the continous feature data. In [z-score feature scaling](https://en.wikipedia.org/wiki/Feature_scaling), we subtract off the mean of each feature and then divide by the standard deviation, i.e., $x^{\\prime} = (x - \\mu)/\\sigma$ where $x$ is the unscaled data, and $x^{\\prime}$ is the scaled data. Under this scaling regime, $x^{\\prime}\\leq{0}$ will be values that are less than or equal to the mean value $\\mu$, while $x^{\\prime}>0$ indicate values that are greater than the mean. The range of data is measured in quanta of the standard deviation $\\sigma$.\n",
    "* Finally, we can include (exclude) specific data from the clustering problem. For example, let's initially exclude the `death_event` label data and explore the hypothesis underlying [K-means](https://en.wikipedia.org/wiki/K-means_clustering) that feature vectors that are close together will be similar, i.e., have the same `death_event` label value."
   ]
  },
  {
   "cell_type": "code",
   "execution_count": 123,
   "id": "7031d366-1274-45f5-ba01-1629622056b4",
   "metadata": {
    "jupyter": {
     "source_hidden": true
    }
   },
   "outputs": [],
   "source": [
    "(D, dataset) = let\n",
    "\n",
    "    # convert 0,1 into -1,1\n",
    "    treated_dataset = copy(originaldataset);\n",
    "    transform!(treated_dataset, :anaemia => ByRow(x -> (x==0 ? -1 : 1)) => :anaemia); # maps anaemia to -1,1\n",
    "    transform!(treated_dataset, :diabetes => ByRow(x -> (x==0 ? -1 : 1)) => :diabetes); # maps diabetes to -1,1\n",
    "    transform!(treated_dataset, :high_blood_pressure => ByRow(x -> (x==0 ? -1 : 1)) => :high_blood_pressure); # maps high_blood_pressure to -1,1\n",
    "    transform!(treated_dataset, :sex => ByRow(x -> (x==0 ? -1 : 1)) => :sex); # maps sex to -1,1\n",
    "    transform!(treated_dataset, :smoking => ByRow(x -> (x==0 ? -1 : 1)) => :smoking); # maps smoking to -1,1\n",
    "    transform!(treated_dataset, :death_event => ByRow(x -> (x==0 ? -1 : 1)) => :death_event); # maps death_event to -1,1\n",
    "    \n",
    "    D = treated_dataset[:,1:end] |> Matrix; # build a data matrix from the DataFrame\n",
    "    (number_of_examples, number_of_features) = size(D);\n",
    "\n",
    "    # Which cols do we want to rescale?\n",
    "    index_to_z_scale = [\n",
    "        1 ; # 1 age\n",
    "        3 ; # 2 creatinine_phosphokinase\n",
    "        5 ; # 3 ejection_fraction\n",
    "        7 ; # 4 platelets\n",
    "        8 ; # 5 serum_creatinine\n",
    "        9 ; # 6 serum_sodium\n",
    "        12 ; # 7 time\n",
    "    ];\n",
    "\n",
    "    D̂ = copy(D);\n",
    "    for i ∈ eachindex(index_to_z_scale)\n",
    "        j = index_to_z_scale[i];\n",
    "        μ = mean(D[:,j]); # compute the mean\n",
    "        σ = std(D[:,j]); # compute std\n",
    "\n",
    "        # rescale -\n",
    "        for k ∈ 1:number_of_examples\n",
    "            D̂[k,j] = (D[k,j] - μ)/σ;\n",
    "        end\n",
    "    end\n",
    "\n",
    "    # remove categorical cols -\n",
    "    # D̂₂ = D̂[:,index_to_z_scale]; # z-scaled data, no label, no categorical\n",
    "    D̂₂ = D̂[:,1:end-1]; # z-scaled data, no label, with unscaled categorical\n",
    "    #D̂₂ = D̂[:,1:end-1]; # raw (unscaled) data, no label\n",
    "    \n",
    "    D̂₂, treated_dataset\n",
    "end;"
   ]
  },
  {
   "cell_type": "markdown",
   "id": "b0ea2fe9-57d8-4020-9ef8-a6bad7fbd078",
   "metadata": {},
   "source": [
    "What's in the `D::Array{Float64,2}` variable?"
   ]
  },
  {
   "cell_type": "code",
   "execution_count": 125,
   "id": "8a4435f4-e93f-4d4e-a59b-3607b6940fb8",
   "metadata": {},
   "outputs": [
    {
     "data": {
      "text/plain": [
       "299×12 Matrix{Float64}:\n",
       "  1.19095    -1.0   0.000165451  -1.0  …  -1.50152     1.0  -1.0  -1.62678\n",
       " -0.490457   -1.0   7.50206      -1.0     -0.141739    1.0  -1.0  -1.60101\n",
       "  0.350246   -1.0  -0.449186     -1.0     -1.72815     1.0   1.0  -1.58812\n",
       " -0.910808    1.0  -0.485257     -1.0      0.0848915   1.0  -1.0  -1.58812\n",
       "  0.350246    1.0  -0.434757      1.0     -4.67434    -1.0  -1.0  -1.57524\n",
       "  2.452       1.0  -0.551217     -1.0  …  -1.04826     1.0   1.0  -1.57524\n",
       "  1.19095     1.0  -0.346124     -1.0      0.0848915   1.0  -1.0  -1.54947\n",
       " -0.0701056   1.0  -0.275011      1.0     -1.27489     1.0   1.0  -1.54947\n",
       "  0.350246   -1.0  -0.437849     -1.0      0.311522   -1.0  -1.0  -1.54947\n",
       "  1.6113      1.0  -0.47289      -1.0     -0.821629    1.0   1.0  -1.54947\n",
       "  1.19095     1.0  -0.516176     -1.0  …  -1.27489     1.0   1.0  -1.54947\n",
       "  0.098035   -1.0  -0.361583     -1.0      0.764782    1.0   1.0  -1.54947\n",
       " -1.33116     1.0   0.411384     -1.0      0.0848915   1.0  -1.0  -1.53659\n",
       "  ⋮                                    ⋱                     ⋮    \n",
       " -1.33116    -1.0   0.000165451   1.0     -1.04826    -1.0  -1.0   1.54275\n",
       "  0.350246   -1.0   0.319658      1.0      1.21804    -1.0  -1.0   1.62005\n",
       "  2.452       1.0  -0.252337     -1.0      1.6713     -1.0  -1.0   1.62005\n",
       " -1.33116    -1.0   0.034176      1.0  …   0.991412   -1.0  -1.0   1.63294\n",
       " -0.0701056  -1.0  -0.269858     -1.0      0.538152    1.0  -1.0   1.64582\n",
       " -0.742668   -1.0  -0.403838      1.0      0.764782    1.0   1.0   1.64582\n",
       "  0.182105    1.0  -0.493502      1.0     -0.141739    1.0   1.0   1.80043\n",
       "  0.098035   -1.0  -0.536789      1.0      1.44467     1.0   1.0   1.80043\n",
       " -0.490457   -1.0   1.27608      -1.0  …   0.538152   -1.0  -1.0   1.81332\n",
       " -1.33116    -1.0   1.52342       1.0      0.311522   -1.0  -1.0   1.90351\n",
       " -1.33116    -1.0   1.88723      -1.0      0.764782    1.0   1.0   1.92927\n",
       " -0.910808   -1.0  -0.397655     -1.0     -0.141739    1.0   1.0   1.9937"
      ]
     },
     "execution_count": 125,
     "metadata": {},
     "output_type": "execute_result"
    }
   ],
   "source": [
    "D"
   ]
  },
  {
   "cell_type": "markdown",
   "id": "d84792cd-8632-4c74-ac2e-47826e779af0",
   "metadata": {},
   "source": [
    "Finally, let's set some constants that we'll need in the examples below. See the comment next to the constant for a description of what it is, it's permissible values, etc."
   ]
  },
  {
   "cell_type": "code",
   "execution_count": 260,
   "id": "1c6ac207-c756-4f20-b3e8-d8e019c9028b",
   "metadata": {},
   "outputs": [],
   "source": [
    "n = nrow(originaldataset); # how many example data points do we have?\n",
    "m = size(D,2); # number of features (number of cols)\n",
    "maxiter = 10000; # maximum iterations\n",
    "K = 5; # number of clusters. What number should we pick?\n",
    "ϵ = 1e-6; # tolerance for termination. We can set this to whatever we want"
   ]
  },
  {
   "cell_type": "markdown",
   "id": "930e6ac3-c305-479a-b6d6-e9d513aae614",
   "metadata": {},
   "source": [
    "## Task 2: Build a K-means model and cluster the data\n",
    "We've developed an [initial K-means implementation](src/Cluster.jl) based on [our pseudo-code](https://github.com/varnerlab/CHEME-5820-Lectures-Spring-2025/blob/main/lectures/week-1/L1c/docs/L1c-5820-S2025.pdf). Let's explore how this implementation performs on our sample dataset. There is [already a good clustering package `Clustering.jl` that is available](https://github.com/JuliaStats/Clustering.jl) that exports [a `K-means` function](https://juliastats.org/Clustering.jl/stable/kmeans.html). However, in this demo, we'll use our implementation.\n",
    "* __Problem model__: Build [a `MyNaiveKMeansClusteringAlgorithm` instance](src/Types.jl), which holds information about the clustering, i.e., the number of clusters `K::Int,` information about the dataset such as the number of features `m::Int,` and the number of points `n::Int,` and stopping criteria information such as the maximum number of iterations `maxiter::Int` and tolerance `ϵ::Float64`. We'll store this model in the `model::MyNaiveKMeansClusteringAlgorithm` variable.\n",
    "\n",
    "This is an example of [a factory type pattern](https://en.wikipedia.org/wiki/Factory_method_pattern), which uses [a `build(...)` method](src/Factory.jl) to construct and configure a complex object, i.e., set values for the properties on the model that must be computed. The [`build(...)` method](src/Factory.jl) takes the type of thing we want to build as the first argument, and the data required to construct the object (encoded [in a `NamedTupe` type](https://docs.julialang.org/en/v1/base/base/#Core.NamedTuple)) as the second argument."
   ]
  },
  {
   "cell_type": "code",
   "execution_count": 262,
   "id": "4f0de927-6c68-4ca0-addb-0b665ead7d16",
   "metadata": {},
   "outputs": [],
   "source": [
    "model = build(MyNaiveKMeansClusteringAlgorithm, (\n",
    "        maxiter = maxiter,\n",
    "        dimension = m,\n",
    "        number_of_points = n,\n",
    "        K = K,\n",
    "        ϵ = ϵ,\n",
    "        scale_factor = 1.0, # scale of the data\n",
    "));"
   ]
  },
  {
   "cell_type": "markdown",
   "id": "fc4c8883-9372-4134-bddc-8c9fde2bf664",
   "metadata": {},
   "source": [
    "### Initial clustering values\n",
    "The `model::MyNaiveKMeansClusteringAlgorithm` contains the data that we passed in, as well as two derived fields that we computed in [the `build(...)` method](src/Factory.jl), the centroids and initial assignments: \n",
    "* The `centroids::Dict{Int64, Vector{Float64}}` dictionary holds the centroid values $\\mu_1, \\dots, \\mu_K$ for each cluster. The dictionary's keys are the cluster index, while the values are the `m`-dimensional centroids (means) of the data points in that cluster. We initialize the centroids randomly.\n",
    "* The `assignments::Vector{Int64}` field is an `n`-dimensional vector holding the clustered index that each data point is assigned to. We initialize the assignments randomly.\n",
    "\n",
    "What is in the `centroids` and `assignments` fields of your model?"
   ]
  },
  {
   "cell_type": "code",
   "execution_count": 264,
   "id": "cc308bed-e6fa-478f-8f6b-56d3289eced1",
   "metadata": {},
   "outputs": [
    {
     "data": {
      "text/plain": [
       "Dict{Int64, Vector{Float64}} with 5 entries:\n",
       "  5 => [0.987218, 0.442792, 0.193818, 0.298061, 0.89699, 0.704643, 0.718349, 0.…\n",
       "  4 => [0.710661, 0.864965, 0.40176, 0.946278, 0.64242, 0.751623, 0.66673, 0.65…\n",
       "  2 => [0.948412, 0.427645, 0.274428, 0.98183, 0.813865, 0.32266, 0.822277, 0.5…\n",
       "  3 => [0.0838373, 0.620496, 0.433875, 0.453373, 0.736206, 0.338056, 0.0869289,…\n",
       "  1 => [0.426604, 0.124673, 0.37792, 0.677357, 0.634514, 0.628674, 0.794444, 0.…"
      ]
     },
     "execution_count": 264,
     "metadata": {},
     "output_type": "execute_result"
    }
   ],
   "source": [
    "model.centroids"
   ]
  },
  {
   "cell_type": "markdown",
   "id": "7bfb9469-f3b5-4257-b3b8-f32d60061182",
   "metadata": {},
   "source": [
    "### Execute the Clustering\n",
    "We'll call [the `cluster(...)` method](src/Cluster.jl) to refine our initial random cluster assignments and centroid values. The [`cluster(...)` method](src/Cluster.jl) takes a few arguments (and returns the clustering results):\n",
    "\n",
    "* __Data__: `D::Array{<:Number, 2}`: The first argument is the data matrix `D::Array{<:Number,2}` which we want to cluster. The data matrix has the feature vectors $\\mathbf{x}\\in\\mathbb{R}^{m}$ as columns. Its values can be any subtype [of Number](https://docs.julialang.org/en/v1/base/numbers/#Core.Number). \n",
    "* __Model__: `model::<: MyAbstractUnsupervisedClusteringAlgorithm`: The second argument is the cluster model instance, i.e.,  the `model::MyNaiveKMeansClusteringAlgorithm` instance that we built above. However, the model can be any subtype of ` MyAbstractUnsupervisedClusteringAlgorithm.`\n",
    "    * __Why an abstract generic type?__ Suppose we have different K-means implementations or different clustering logic altogether. In that case, we can take advantage of Julia's multiple dispatch functionality by passing in a different clustering model. This provides a single method for a user to call, which calls a different implementation.\n",
    "* __Verbose (optional)__: `verbose::Bool`: The `verbose::Bool` argument tells our implementation whether to save data from each algorithm iteration. The default value is `false`. However, if the value is set to `true,` a save file holding the assignments, centroids, and loop index is written at each iteration.\n",
    "* __Measure (optional)__:`d::Any`. The optional distance argument is the $d(p,q)$ function and can be used to change how the similarity between feature vectors $\\mathbf{x}\\in\\mathcal{D}$ is calculated. We can use [any metrics exported by the `Distances.jl` package](https://github.com/JuliaStats/Distances.jl); by default, we [use the Euclidian distance](https://en.wikipedia.org/wiki/Euclidean_distance). \n",
    "\n",
    "The [`cluster(...)` method](src/Cluster.jl) returns cluster centroids, the assignments, and the number of iterations that it took to reach the final assignment in the `result::NamedTuple.`\n",
    "* The `result` named tuple has the fields `{assignments|centroids|loopcount).` The `assignments` field is an array of integers that tells us which cluster each data point belongs to. The `centroids` field is a dictionary holding the centroids of the clusters. The `loopcount` field is an integer that tells us how many iterations the algorithm took to converge."
   ]
  },
  {
   "cell_type": "code",
   "execution_count": 266,
   "id": "830db8db-e689-4569-a8ef-caad986c7c8f",
   "metadata": {},
   "outputs": [],
   "source": [
    "result = cluster(D, model, verbose = true); # cluster the data, save each stage to disk in the tmp folder (verbose = true)"
   ]
  },
  {
   "cell_type": "code",
   "execution_count": 267,
   "id": "21cb3d0b-4df6-4237-8035-aad07b7bdbb5",
   "metadata": {},
   "outputs": [
    {
     "data": {
      "text/plain": [
       "299-element Vector{Int64}:\n",
       " 2\n",
       " 1\n",
       " 1\n",
       " 4\n",
       " 3\n",
       " 5\n",
       " 4\n",
       " 2\n",
       " 5\n",
       " 5\n",
       " 5\n",
       " 2\n",
       " 4\n",
       " ⋮\n",
       " 3\n",
       " 3\n",
       " 5\n",
       " 3\n",
       " 1\n",
       " 1\n",
       " 4\n",
       " 2\n",
       " 3\n",
       " 3\n",
       " 1\n",
       " 1"
      ]
     },
     "execution_count": 267,
     "metadata": {},
     "output_type": "execute_result"
    }
   ],
   "source": [
    "result.assignments"
   ]
  },
  {
   "cell_type": "code",
   "execution_count": 268,
   "id": "8988047b-f9d1-4089-88cc-e88e0d4781f4",
   "metadata": {},
   "outputs": [
    {
     "data": {
      "text/plain": [
       "Dict{Int64, Vector{Float64}} with 5 entries:\n",
       "  5 => [0.984335, 0.322034, -0.195076, -0.830508, 0.575816, 0.118644, 0.0967658…\n",
       "  4 => [-0.279969, 0.911111, -0.196134, -0.111111, -0.382604, -0.866667, -0.293…\n",
       "  2 => [0.220137, -0.809524, -0.212633, 0.809524, -0.133809, 0.0952381, 0.19670…\n",
       "  3 => [-0.296547, -0.0114943, -0.105302, 0.172414, 0.0949134, -0.218391, 0.137…\n",
       "  1 => [-0.438232, -1.0, 0.582233, -0.666667, -0.29384, -0.636364, -0.193145, -…"
      ]
     },
     "execution_count": 268,
     "metadata": {},
     "output_type": "execute_result"
    }
   ],
   "source": [
    "result.centroids"
   ]
  },
  {
   "cell_type": "markdown",
   "id": "be54a97e-9264-4d85-b078-a09b7ffd729b",
   "metadata": {},
   "source": [
    "Finally, how balanced are the clusters? Let's compute the fraction of our patient population in each cluster, and display this information in a table [using the `pretty_table(...)` function exported by the `PrettyTables.jl` package](https://github.com/ronisbr/PrettyTables.jl)"
   ]
  },
  {
   "cell_type": "code",
   "execution_count": 270,
   "id": "1b35f283-a24f-4aae-a891-70b4796ad6bd",
   "metadata": {
    "jupyter": {
     "source_hidden": true
    }
   },
   "outputs": [
    {
     "name": "stdout",
     "output_type": "stream",
     "text": [
      "========== ===========\n",
      " \u001b[1m cluster \u001b[0m \u001b[1m fraction \u001b[0m\n",
      " \u001b[90m   Int64 \u001b[0m \u001b[90m  Float64 \u001b[0m\n",
      "========== ===========\n",
      "        1   0.220736\n",
      "        2   0.140468\n",
      "        3    0.29097\n",
      "        4   0.150502\n",
      "        5   0.197324\n",
      "========== ===========\n"
     ]
    }
   ],
   "source": [
    "let\n",
    "\n",
    "    df = DataFrame(); # container for the fraction data\n",
    "    \n",
    "    for k ∈ 1:K # iterate over the number of clusters\n",
    "        Nᵢ = findall(x-> x == k, result.assignments) |> length;\n",
    "        row_df = (\n",
    "            cluster = k,\n",
    "            fraction = (Nᵢ/n)\n",
    "        );\n",
    "        push!(df, row_df)\n",
    "    end\n",
    "\n",
    "    pretty_table(df, tf=tf_simple)\n",
    "end"
   ]
  },
  {
   "cell_type": "markdown",
   "id": "81a49ead-3743-4900-95a5-40093f73c5dd",
   "metadata": {},
   "source": [
    "### Check: Does the Energy decrease?\n",
    "The problem of [K-means clustering](https://en.wikipedia.org/wiki/K-means_clustering) can be formulated as an optimization problem, \n",
    "where the objective is to minimize the sum of squared distances between each data point and its assigned cluster centroid. If we think about this objective in terms of a pseudo-energy $E(c_{1},\\dots,c_{K})$, then we are looking for the cluster assignments that minimize the energy:\n",
    "$$\n",
    "\\begin{equation}\n",
    "\\min_{c_{1},\\dots,c_{K}} E\\left(c_{1},\\dots,c_{K}\\right)= \\sum_{j=1}^{K}\\sum_{\\mathbf{x}\\in c_{j}}d(\\mathbf{x},\\mu_{j})^{2}\\quad\\text{where}\\,\\mu_{j} = |c_{j}|^{-1}\\cdot\\sum_{\\mathbf{x}\\in{c_{j}}}\\mathbf{x}\n",
    "\\end{equation}\n",
    "$$\n",
    "where $d(\\mathbf{x},\\mu_{j})$ denotes the distance (similarity) between two vectors (in this case, a feature vector and the cluster centroid), \n",
    "and $|c_{\\star}|$ denotes the number of elements in cluster $\\star$. By default, we [use the Euclidian distance](https://en.wikipedia.org/wiki/Euclidean_distance) as our similarity measure $d(\\mathbf{x},\\mu_{j})$. The K-means algorithm aims to find the optimal cluster assignments $\\mathcal{C}$ and cluster centroids $\\mu$ that minimize this objective function.\n",
    "\n",
    "We need to compute the pseudo-energy $E(c_{1},\\dots,c_{K})$ from the iteration data files. What's in these files?"
   ]
  },
  {
   "cell_type": "code",
   "execution_count": 272,
   "id": "08a1ace0-d606-415b-88d0-677882fab0f0",
   "metadata": {},
   "outputs": [
    {
     "data": {
      "text/plain": [
       "Dict{String, Any} with 3 entries:\n",
       "  \"centroids\"   => Dict(5=>[0.987218, 0.442792, 0.193818, 0.298061, 0.89699, 0.…\n",
       "  \"loopcount\"   => 1\n",
       "  \"assignments\" => [4, 2, 2, 3, 3, 1, 5, 5, 3, 1  …  2, 5, 3, 1, 4, 4, 3, 3, 3,…"
      ]
     },
     "execution_count": 272,
     "metadata": {},
     "output_type": "execute_result"
    }
   ],
   "source": [
    "tmp = load(joinpath(_PATH_TO_TMP, \"data-1.jld2\"))"
   ]
  },
  {
   "cell_type": "markdown",
   "id": "a50d314b-b87f-48f5-99a1-87a41e94c41c",
   "metadata": {},
   "source": [
    "Given the cluster results that we saved at each iteration (when `verbose = true`), we can compute the values for the pseudo-energy $E(c_{1},\\dots,c_{K})$ as a function iteration. Save that data in the `energy_array::Array{Float64,2}` array.\n",
    "* To compute pseudo-energy $E(c_{1},\\dots,c_{K})$, we call [the `configurationenergy(...)` function](src/Cluster.jl). This function takes the dataset $\\mathcal{D}$, the cluster assignment array, and the centroid array and returns the energy for that configuration. Because we don't care about the actual value of energy $E(c_{1},\\dots,c_{K})$, we'll scale this to be in the range `[0,1]`."
   ]
  },
  {
   "cell_type": "code",
   "execution_count": 274,
   "id": "4be8c799-5868-4199-bcc1-941b46adae38",
   "metadata": {},
   "outputs": [],
   "source": [
    "energy_array = let\n",
    "\n",
    "    number_of_iterations = result.loopcount; # how many iterations did we take to converge?\n",
    "    energy_array = Array{Float64,1}(undef, number_of_iterations);\n",
    "    \n",
    "    # compute the (unscaled) energy for each configuration\n",
    "    for i ∈ 1:number_of_iterations\n",
    "        tmp = load(joinpath(_PATH_TO_TMP, \"data-$(i).jld2\")); # returns a dictionary\n",
    "        a = tmp[\"assignments\"]; # get the assignment vector for this iteration\n",
    "        μ = tmp[\"centroids\"]; # get the cluster centroids for this iteration\n",
    "        energy_array[i] = configurationenergy(D, a, μ); # call the energy function with ith clustering resulys\n",
    "    end\n",
    "\n",
    "    # 0,1 scale the energy\n",
    "    L = minimum(energy_array); # low value\n",
    "    H = maximum(energy_array); # high value\n",
    "    scaled_energy_array = Array{Float64,2}(undef, number_of_iterations,2);\n",
    "    for i ∈ 1:number_of_iterations\n",
    "        scaled_energy_array[i,1] = i; # save the iteration count in col 1\n",
    "        scaled_energy_array[i,2] = (energy_array[i] - L)/(H - L); # save 0,1 scaled energy in col 2\n",
    "    end\n",
    "\n",
    "    # return \n",
    "    scaled_energy_array\n",
    "end;"
   ]
  },
  {
   "cell_type": "markdown",
   "id": "b6a2aacd-2514-41bb-9fd8-93af3836ef11",
   "metadata": {},
   "source": [
    "#### Visualize\n",
    "`Unhide` the code block below to see how we plotted the scaled energy as a function of the number of iterations of [our K-means implementation](src/Cluster.jl). If the clustering worked properly, we should see the energy (scaled) decrease and flatten out (converge) as the number of iterations increases."
   ]
  },
  {
   "cell_type": "code",
   "execution_count": 276,
   "id": "7c719a45-389f-4773-a2b7-e67053c53540",
   "metadata": {
    "jupyter": {
     "source_hidden": true
    }
   },
   "outputs": [
    {
     "data": {
      "image/png": "[encoded data removed]",
      "image/svg+xml": [
       "<?xml version=\"1.0\" encoding=\"utf-8\"?>\n",
       "<svg xmlns=\"http://www.w3.org/2000/svg\" xmlns:xlink=\"http://www.w3.org/1999/xlink\" width=\"600\" height=\"400\" viewBox=\"0 0 2400 1600\">\n",
       "<defs>\n",
       "  <clipPath id=\"clip680\">\n",
       "    <rect x=\"0\" y=\"0\" width=\"2400\" height=\"1600\"/>\n",
       "  </clipPath>\n",
       "</defs>\n",
       "<path clip-path=\"url(#clip680)\" d=\"M0 1600 L2400 1600 L2400 0 L0 0  Z\" fill=\"#ffffff\" fill-rule=\"evenodd\" fill-opacity=\"1\"/>\n",
       "<defs>\n",
       "  <clipPath id=\"clip681\">\n",
       "    <rect x=\"480\" y=\"0\" width=\"1681\" height=\"1600\"/>\n",
       "  </clipPath>\n",
       "</defs>\n",
       "<path clip-path=\"url(#clip680)\" d=\"M249.542 1423.18 L2352.76 1423.18 L2352.76 47.2441 L249.542 47.2441  Z\" fill=\"#ffffff\" fill-rule=\"evenodd\" fill-opacity=\"1\"/>\n",
       "<defs>\n",
       "  <clipPath id=\"clip682\">\n",
       "    <rect x=\"249\" y=\"47\" width=\"2104\" height=\"1377\"/>\n",
       "  </clipPath>\n",
       "</defs>\n",
       "<polyline clip-path=\"url(#clip682)\" style=\"stroke:#000000; stroke-linecap:round; stroke-linejoin:round; stroke-width:2; stroke-opacity:0.1; fill:none\" points=\"573.622,1423.18 573.622,47.2441 \"/>\n",
       "<polyline clip-path=\"url(#clip682)\" style=\"stroke:#000000; stroke-linecap:round; stroke-linejoin:round; stroke-width:2; stroke-opacity:0.1; fill:none\" points=\"970.455,1423.18 970.455,47.2441 \"/>\n",
       "<polyline clip-path=\"url(#clip682)\" style=\"stroke:#000000; stroke-linecap:round; stroke-linejoin:round; stroke-width:2; stroke-opacity:0.1; fill:none\" points=\"1367.29,1423.18 1367.29,47.2441 \"/>\n",
       "<polyline clip-path=\"url(#clip682)\" style=\"stroke:#000000; stroke-linecap:round; stroke-linejoin:round; stroke-width:2; stroke-opacity:0.1; fill:none\" points=\"1764.12,1423.18 1764.12,47.2441 \"/>\n",
       "<polyline clip-path=\"url(#clip682)\" style=\"stroke:#000000; stroke-linecap:round; stroke-linejoin:round; stroke-width:2; stroke-opacity:0.1; fill:none\" points=\"2160.95,1423.18 2160.95,47.2441 \"/>\n",
       "<polyline clip-path=\"url(#clip682)\" style=\"stroke:#000000; stroke-linecap:round; stroke-linejoin:round; stroke-width:2; stroke-opacity:0.1; fill:none\" points=\"249.542,1384.24 2352.76,1384.24 \"/>\n",
       "<polyline clip-path=\"url(#clip682)\" style=\"stroke:#000000; stroke-linecap:round; stroke-linejoin:round; stroke-width:2; stroke-opacity:0.1; fill:none\" points=\"249.542,1059.73 2352.76,1059.73 \"/>\n",
       "<polyline clip-path=\"url(#clip682)\" style=\"stroke:#000000; stroke-linecap:round; stroke-linejoin:round; stroke-width:2; stroke-opacity:0.1; fill:none\" points=\"249.542,735.212 2352.76,735.212 \"/>\n",
       "<polyline clip-path=\"url(#clip682)\" style=\"stroke:#000000; stroke-linecap:round; stroke-linejoin:round; stroke-width:2; stroke-opacity:0.1; fill:none\" points=\"249.542,410.699 2352.76,410.699 \"/>\n",
       "<polyline clip-path=\"url(#clip682)\" style=\"stroke:#000000; stroke-linecap:round; stroke-linejoin:round; stroke-width:2; stroke-opacity:0.1; fill:none\" points=\"249.542,86.1857 2352.76,86.1857 \"/>\n",
       "<polyline clip-path=\"url(#clip680)\" style=\"stroke:#000000; stroke-linecap:round; stroke-linejoin:round; stroke-width:4; stroke-opacity:1; fill:none\" points=\"249.542,1423.18 2352.76,1423.18 \"/>\n",
       "<polyline clip-path=\"url(#clip680)\" style=\"stroke:#000000; stroke-linecap:round; stroke-linejoin:round; stroke-width:4; stroke-opacity:1; fill:none\" points=\"573.622,1423.18 573.622,1404.28 \"/>\n",
       "<polyline clip-path=\"url(#clip680)\" style=\"stroke:#000000; stroke-linecap:round; stroke-linejoin:round; stroke-width:4; stroke-opacity:1; fill:none\" points=\"970.455,1423.18 970.455,1404.28 \"/>\n",
       "<polyline clip-path=\"url(#clip680)\" style=\"stroke:#000000; stroke-linecap:round; stroke-linejoin:round; stroke-width:4; stroke-opacity:1; fill:none\" points=\"1367.29,1423.18 1367.29,1404.28 \"/>\n",
       "<polyline clip-path=\"url(#clip680)\" style=\"stroke:#000000; stroke-linecap:round; stroke-linejoin:round; stroke-width:4; stroke-opacity:1; fill:none\" points=\"1764.12,1423.18 1764.12,1404.28 \"/>\n",
       "<polyline clip-path=\"url(#clip680)\" style=\"stroke:#000000; stroke-linecap:round; stroke-linejoin:round; stroke-width:4; stroke-opacity:1; fill:none\" points=\"2160.95,1423.18 2160.95,1404.28 \"/>\n",
       "<path clip-path=\"url(#clip680)\" d=\"M577.87 1466.95 Q581.226 1467.66 583.101 1469.93 Q584.999 1472.2 584.999 1475.53 Q584.999 1480.65 581.481 1483.45 Q577.962 1486.25 571.481 1486.25 Q569.305 1486.25 566.99 1485.81 Q564.699 1485.39 562.245 1484.54 L562.245 1480.02 Q564.189 1481.16 566.504 1481.74 Q568.819 1482.32 571.342 1482.32 Q575.74 1482.32 578.032 1480.58 Q580.347 1478.84 580.347 1475.53 Q580.347 1472.48 578.194 1470.77 Q576.064 1469.03 572.245 1469.03 L568.217 1469.03 L568.217 1465.19 L572.43 1465.19 Q575.879 1465.19 577.708 1463.82 Q579.536 1462.43 579.536 1459.84 Q579.536 1457.18 577.638 1455.77 Q575.763 1454.33 572.245 1454.33 Q570.324 1454.33 568.125 1454.75 Q565.925 1455.16 563.287 1456.04 L563.287 1451.88 Q565.949 1451.14 568.263 1450.77 Q570.601 1450.39 572.662 1450.39 Q577.986 1450.39 581.087 1452.83 Q584.189 1455.23 584.189 1459.35 Q584.189 1462.22 582.546 1464.21 Q580.902 1466.18 577.87 1466.95 Z\" fill=\"#000000\" fill-rule=\"nonzero\" fill-opacity=\"1\" /><path clip-path=\"url(#clip680)\" d=\"M970.86 1466.44 Q967.712 1466.44 965.86 1468.59 Q964.031 1470.74 964.031 1474.49 Q964.031 1478.22 965.86 1480.39 Q967.712 1482.55 970.86 1482.55 Q974.008 1482.55 975.837 1480.39 Q977.689 1478.22 977.689 1474.49 Q977.689 1470.74 975.837 1468.59 Q974.008 1466.44 970.86 1466.44 M980.142 1451.78 L980.142 1456.04 Q978.383 1455.21 976.578 1454.77 Q974.795 1454.33 973.036 1454.33 Q968.406 1454.33 965.953 1457.45 Q963.522 1460.58 963.175 1466.9 Q964.541 1464.89 966.601 1463.82 Q968.661 1462.73 971.138 1462.73 Q976.346 1462.73 979.355 1465.9 Q982.388 1469.05 982.388 1474.49 Q982.388 1479.82 979.24 1483.03 Q976.092 1486.25 970.86 1486.25 Q964.865 1486.25 961.693 1481.67 Q958.522 1477.06 958.522 1468.33 Q958.522 1460.14 962.411 1455.28 Q966.3 1450.39 972.851 1450.39 Q974.61 1450.39 976.392 1450.74 Q978.198 1451.09 980.142 1451.78 Z\" fill=\"#000000\" fill-rule=\"nonzero\" fill-opacity=\"1\" /><path clip-path=\"url(#clip680)\" d=\"M1357.59 1484.86 L1357.59 1480.6 Q1359.35 1481.44 1361.15 1481.88 Q1362.96 1482.32 1364.7 1482.32 Q1369.32 1482.32 1371.76 1479.21 Q1374.21 1476.09 1374.56 1469.75 Q1373.21 1471.74 1371.15 1472.8 Q1369.09 1473.87 1366.59 1473.87 Q1361.41 1473.87 1358.38 1470.74 Q1355.37 1467.59 1355.37 1462.15 Q1355.37 1456.83 1358.51 1453.61 Q1361.66 1450.39 1366.89 1450.39 Q1372.89 1450.39 1376.04 1455 Q1379.21 1459.58 1379.21 1468.33 Q1379.21 1476.51 1375.32 1481.39 Q1371.45 1486.25 1364.9 1486.25 Q1363.14 1486.25 1361.34 1485.9 Q1359.53 1485.56 1357.59 1484.86 M1366.89 1470.21 Q1370.04 1470.21 1371.87 1468.06 Q1373.72 1465.9 1373.72 1462.15 Q1373.72 1458.43 1371.87 1456.27 Q1370.04 1454.1 1366.89 1454.1 Q1363.75 1454.1 1361.89 1456.27 Q1360.07 1458.43 1360.07 1462.15 Q1360.07 1465.9 1361.89 1468.06 Q1363.75 1470.21 1366.89 1470.21 Z\" fill=\"#000000\" fill-rule=\"nonzero\" fill-opacity=\"1\" /><path clip-path=\"url(#clip680)\" d=\"M1739.61 1481.64 L1747.25 1481.64 L1747.25 1455.28 L1738.94 1456.95 L1738.94 1452.69 L1747.2 1451.02 L1751.88 1451.02 L1751.88 1481.64 L1759.51 1481.64 L1759.51 1485.58 L1739.61 1485.58 L1739.61 1481.64 Z\" fill=\"#000000\" fill-rule=\"nonzero\" fill-opacity=\"1\" /><path clip-path=\"url(#clip680)\" d=\"M1772.99 1481.64 L1789.31 1481.64 L1789.31 1485.58 L1767.36 1485.58 L1767.36 1481.64 Q1770.02 1478.89 1774.61 1474.26 Q1779.21 1469.61 1780.39 1468.27 Q1782.64 1465.74 1783.52 1464.01 Q1784.42 1462.25 1784.42 1460.56 Q1784.42 1457.8 1782.48 1456.07 Q1780.56 1454.33 1777.45 1454.33 Q1775.25 1454.33 1772.8 1455.09 Q1770.37 1455.86 1767.59 1457.41 L1767.59 1452.69 Q1770.42 1451.55 1772.87 1450.97 Q1775.32 1450.39 1777.36 1450.39 Q1782.73 1450.39 1785.93 1453.08 Q1789.12 1455.77 1789.12 1460.26 Q1789.12 1462.39 1788.31 1464.31 Q1787.52 1466.2 1785.42 1468.8 Q1784.84 1469.47 1781.74 1472.69 Q1778.63 1475.88 1772.99 1481.64 Z\" fill=\"#000000\" fill-rule=\"nonzero\" fill-opacity=\"1\" /><path clip-path=\"url(#clip680)\" d=\"M2136.14 1481.64 L2143.78 1481.64 L2143.78 1455.28 L2135.47 1456.95 L2135.47 1452.69 L2143.73 1451.02 L2148.41 1451.02 L2148.41 1481.64 L2156.05 1481.64 L2156.05 1485.58 L2136.14 1485.58 L2136.14 1481.64 Z\" fill=\"#000000\" fill-rule=\"nonzero\" fill-opacity=\"1\" /><path clip-path=\"url(#clip680)\" d=\"M2165.54 1451.02 L2183.89 1451.02 L2183.89 1454.96 L2169.82 1454.96 L2169.82 1463.43 Q2170.84 1463.08 2171.86 1462.92 Q2172.87 1462.73 2173.89 1462.73 Q2179.68 1462.73 2183.06 1465.9 Q2186.44 1469.08 2186.44 1474.49 Q2186.44 1480.07 2182.97 1483.17 Q2179.49 1486.25 2173.18 1486.25 Q2171 1486.25 2168.73 1485.88 Q2166.49 1485.51 2164.08 1484.77 L2164.08 1480.07 Q2166.16 1481.2 2168.38 1481.76 Q2170.61 1482.32 2173.08 1482.32 Q2177.09 1482.32 2179.43 1480.21 Q2181.76 1478.1 2181.76 1474.49 Q2181.76 1470.88 2179.43 1468.77 Q2177.09 1466.67 2173.08 1466.67 Q2171.21 1466.67 2169.33 1467.08 Q2167.48 1467.5 2165.54 1468.38 L2165.54 1451.02 Z\" fill=\"#000000\" fill-rule=\"nonzero\" fill-opacity=\"1\" /><path clip-path=\"url(#clip680)\" d=\"M970.451 1520.52 L976.88 1520.52 L976.88 1568.04 L970.451 1568.04 L970.451 1520.52 Z\" fill=\"#000000\" fill-rule=\"nonzero\" fill-opacity=\"1\" /><path clip-path=\"url(#clip680)\" d=\"M995.213 1522.27 L995.213 1532.4 L1007.28 1532.4 L1007.28 1536.95 L995.213 1536.95 L995.213 1556.3 Q995.213 1560.66 996.391 1561.9 Q997.6 1563.14 1001.26 1563.14 L1007.28 1563.14 L1007.28 1568.04 L1001.26 1568.04 Q994.481 1568.04 991.903 1565.53 Q989.325 1562.98 989.325 1556.3 L989.325 1536.95 L985.028 1536.95 L985.028 1532.4 L989.325 1532.4 L989.325 1522.27 L995.213 1522.27 Z\" fill=\"#000000\" fill-rule=\"nonzero\" fill-opacity=\"1\" /><path clip-path=\"url(#clip680)\" d=\"M1045.47 1548.76 L1045.47 1551.62 L1018.54 1551.62 Q1018.93 1557.67 1022.17 1560.85 Q1025.45 1564 1031.27 1564 Q1034.65 1564 1037.8 1563.17 Q1040.98 1562.35 1044.1 1560.69 L1044.1 1566.23 Q1040.95 1567.57 1037.64 1568.27 Q1034.33 1568.97 1030.92 1568.97 Q1022.39 1568.97 1017.4 1564 Q1012.43 1559.04 1012.43 1550.57 Q1012.43 1541.82 1017.14 1536.69 Q1021.89 1531.54 1029.91 1531.54 Q1037.1 1531.54 1041.27 1536.18 Q1045.47 1540.8 1045.47 1548.76 M1039.61 1547.04 Q1039.55 1542.23 1036.91 1539.37 Q1034.3 1536.5 1029.97 1536.5 Q1025.07 1536.5 1022.11 1539.27 Q1019.18 1542.04 1018.73 1547.07 L1039.61 1547.04 Z\" fill=\"#000000\" fill-rule=\"nonzero\" fill-opacity=\"1\" /><path clip-path=\"url(#clip680)\" d=\"M1075.74 1537.87 Q1074.75 1537.3 1073.57 1537.04 Q1072.43 1536.76 1071.03 1536.76 Q1066.06 1536.76 1063.39 1540 Q1060.75 1543.22 1060.75 1549.27 L1060.75 1568.04 L1054.86 1568.04 L1054.86 1532.4 L1060.75 1532.4 L1060.75 1537.93 Q1062.59 1534.69 1065.55 1533.13 Q1068.51 1531.54 1072.75 1531.54 Q1073.35 1531.54 1074.08 1531.63 Q1074.82 1531.7 1075.71 1531.85 L1075.74 1537.87 Z\" fill=\"#000000\" fill-rule=\"nonzero\" fill-opacity=\"1\" /><path clip-path=\"url(#clip680)\" d=\"M1098.08 1550.12 Q1090.99 1550.12 1088.25 1551.75 Q1085.51 1553.37 1085.51 1557.29 Q1085.51 1560.4 1087.55 1562.25 Q1089.62 1564.07 1093.15 1564.07 Q1098.02 1564.07 1100.95 1560.63 Q1103.91 1557.16 1103.91 1551.43 L1103.91 1550.12 L1098.08 1550.12 M1109.76 1547.71 L1109.76 1568.04 L1103.91 1568.04 L1103.91 1562.63 Q1101.9 1565.88 1098.91 1567.44 Q1095.92 1568.97 1091.59 1568.97 Q1086.12 1568.97 1082.87 1565.91 Q1079.65 1562.82 1079.65 1557.67 Q1079.65 1551.65 1083.66 1548.6 Q1087.71 1545.54 1095.7 1545.54 L1103.91 1545.54 L1103.91 1544.97 Q1103.91 1540.93 1101.23 1538.73 Q1098.59 1536.5 1093.79 1536.5 Q1090.73 1536.5 1087.83 1537.23 Q1084.94 1537.97 1082.26 1539.43 L1082.26 1534.02 Q1085.48 1532.78 1088.5 1532.17 Q1091.53 1531.54 1094.39 1531.54 Q1102.13 1531.54 1105.94 1535.55 Q1109.76 1539.56 1109.76 1547.71 Z\" fill=\"#000000\" fill-rule=\"nonzero\" fill-opacity=\"1\" /><path clip-path=\"url(#clip680)\" d=\"M1127.62 1522.27 L1127.62 1532.4 L1139.68 1532.4 L1139.68 1536.95 L1127.62 1536.95 L1127.62 1556.3 Q1127.62 1560.66 1128.8 1561.9 Q1130.01 1563.14 1133.67 1563.14 L1139.68 1563.14 L1139.68 1568.04 L1133.67 1568.04 Q1126.89 1568.04 1124.31 1565.53 Q1121.73 1562.98 1121.73 1556.3 L1121.73 1536.95 L1117.43 1536.95 L1117.43 1532.4 L1121.73 1532.4 L1121.73 1522.27 L1127.62 1522.27 Z\" fill=\"#000000\" fill-rule=\"nonzero\" fill-opacity=\"1\" /><path clip-path=\"url(#clip680)\" d=\"M1147.39 1532.4 L1153.24 1532.4 L1153.24 1568.04 L1147.39 1568.04 L1147.39 1532.4 M1147.39 1518.52 L1153.24 1518.52 L1153.24 1525.93 L1147.39 1525.93 L1147.39 1518.52 Z\" fill=\"#000000\" fill-rule=\"nonzero\" fill-opacity=\"1\" /><path clip-path=\"url(#clip680)\" d=\"M1179.31 1536.5 Q1174.6 1536.5 1171.86 1540.19 Q1169.12 1543.85 1169.12 1550.25 Q1169.12 1556.65 1171.83 1560.34 Q1174.57 1564 1179.31 1564 Q1183.99 1564 1186.73 1560.31 Q1189.46 1556.62 1189.46 1550.25 Q1189.46 1543.92 1186.73 1540.23 Q1183.99 1536.5 1179.31 1536.5 M1179.31 1531.54 Q1186.95 1531.54 1191.31 1536.5 Q1195.67 1541.47 1195.67 1550.25 Q1195.67 1559 1191.31 1564 Q1186.95 1568.97 1179.31 1568.97 Q1171.64 1568.97 1167.28 1564 Q1162.95 1559 1162.95 1550.25 Q1162.95 1541.47 1167.28 1536.5 Q1171.64 1531.54 1179.31 1531.54 Z\" fill=\"#000000\" fill-rule=\"nonzero\" fill-opacity=\"1\" /><path clip-path=\"url(#clip680)\" d=\"M1235.01 1546.53 L1235.01 1568.04 L1229.15 1568.04 L1229.15 1546.72 Q1229.15 1541.66 1227.18 1539.14 Q1225.21 1536.63 1221.26 1536.63 Q1216.52 1536.63 1213.78 1539.65 Q1211.04 1542.68 1211.04 1547.9 L1211.04 1568.04 L1205.15 1568.04 L1205.15 1532.4 L1211.04 1532.4 L1211.04 1537.93 Q1213.14 1534.72 1215.98 1533.13 Q1218.84 1531.54 1222.56 1531.54 Q1228.71 1531.54 1231.86 1535.36 Q1235.01 1539.14 1235.01 1546.53 Z\" fill=\"#000000\" fill-rule=\"nonzero\" fill-opacity=\"1\" /><path clip-path=\"url(#clip680)\" d=\"M1269.42 1533.45 L1269.42 1538.98 Q1266.93 1537.71 1264.26 1537.07 Q1261.59 1536.44 1258.72 1536.44 Q1254.36 1536.44 1252.16 1537.77 Q1250 1539.11 1250 1541.79 Q1250 1543.82 1251.56 1545 Q1253.12 1546.15 1257.83 1547.2 L1259.84 1547.64 Q1266.07 1548.98 1268.68 1551.43 Q1271.33 1553.85 1271.33 1558.21 Q1271.33 1563.17 1267.38 1566.07 Q1263.46 1568.97 1256.59 1568.97 Q1253.72 1568.97 1250.61 1568.39 Q1247.52 1567.85 1244.08 1566.74 L1244.08 1560.69 Q1247.33 1562.38 1250.48 1563.24 Q1253.63 1564.07 1256.72 1564.07 Q1260.85 1564.07 1263.08 1562.66 Q1265.31 1561.23 1265.31 1558.65 Q1265.31 1556.27 1263.69 1554.99 Q1262.1 1553.72 1256.65 1552.54 L1254.62 1552.07 Q1249.17 1550.92 1246.75 1548.56 Q1244.34 1546.18 1244.34 1542.04 Q1244.34 1537.01 1247.9 1534.27 Q1251.46 1531.54 1258.02 1531.54 Q1261.27 1531.54 1264.13 1532.01 Q1267 1532.49 1269.42 1533.45 Z\" fill=\"#000000\" fill-rule=\"nonzero\" fill-opacity=\"1\" /><path clip-path=\"url(#clip680)\" d=\"M1301.37 1532.4 L1307.23 1532.4 L1307.23 1568.04 L1301.37 1568.04 L1301.37 1532.4 M1301.37 1518.52 L1307.23 1518.52 L1307.23 1525.93 L1301.37 1525.93 L1301.37 1518.52 Z\" fill=\"#000000\" fill-rule=\"nonzero\" fill-opacity=\"1\" /><path clip-path=\"url(#clip680)\" d=\"M1349.11 1546.53 L1349.11 1568.04 L1343.26 1568.04 L1343.26 1546.72 Q1343.26 1541.66 1341.28 1539.14 Q1339.31 1536.63 1335.36 1536.63 Q1330.62 1536.63 1327.88 1539.65 Q1325.15 1542.68 1325.15 1547.9 L1325.15 1568.04 L1319.26 1568.04 L1319.26 1532.4 L1325.15 1532.4 L1325.15 1537.93 Q1327.25 1534.72 1330.08 1533.13 Q1332.95 1531.54 1336.67 1531.54 Q1342.81 1531.54 1345.96 1535.36 Q1349.11 1539.14 1349.11 1546.53 Z\" fill=\"#000000\" fill-rule=\"nonzero\" fill-opacity=\"1\" /><path clip-path=\"url(#clip680)\" d=\"M1384.25 1537.81 L1384.25 1518.52 L1390.11 1518.52 L1390.11 1568.04 L1384.25 1568.04 L1384.25 1562.7 Q1382.41 1565.88 1379.57 1567.44 Q1376.77 1568.97 1372.83 1568.97 Q1366.37 1568.97 1362.29 1563.81 Q1358.25 1558.65 1358.25 1550.25 Q1358.25 1541.85 1362.29 1536.69 Q1366.37 1531.54 1372.83 1531.54 Q1376.77 1531.54 1379.57 1533.1 Q1382.41 1534.62 1384.25 1537.81 M1364.3 1550.25 Q1364.3 1556.71 1366.94 1560.4 Q1369.61 1564.07 1374.26 1564.07 Q1378.91 1564.07 1381.58 1560.4 Q1384.25 1556.71 1384.25 1550.25 Q1384.25 1543.79 1381.58 1540.13 Q1378.91 1536.44 1374.26 1536.44 Q1369.61 1536.44 1366.94 1540.13 Q1364.3 1543.79 1364.3 1550.25 Z\" fill=\"#000000\" fill-rule=\"nonzero\" fill-opacity=\"1\" /><path clip-path=\"url(#clip680)\" d=\"M1432.66 1548.76 L1432.66 1551.62 L1405.74 1551.62 Q1406.12 1557.67 1409.37 1560.85 Q1412.64 1564 1418.47 1564 Q1421.84 1564 1424.99 1563.17 Q1428.18 1562.35 1431.3 1560.69 L1431.3 1566.23 Q1428.14 1567.57 1424.83 1568.27 Q1421.52 1568.97 1418.12 1568.97 Q1409.59 1568.97 1404.59 1564 Q1399.63 1559.04 1399.63 1550.57 Q1399.63 1541.82 1404.34 1536.69 Q1409.08 1531.54 1417.1 1531.54 Q1424.29 1531.54 1428.46 1536.18 Q1432.66 1540.8 1432.66 1548.76 M1426.81 1547.04 Q1426.74 1542.23 1424.1 1539.37 Q1421.49 1536.5 1417.16 1536.5 Q1412.26 1536.5 1409.3 1539.27 Q1406.37 1542.04 1405.93 1547.07 L1426.81 1547.04 Z\" fill=\"#000000\" fill-rule=\"nonzero\" fill-opacity=\"1\" /><path clip-path=\"url(#clip680)\" d=\"M1470.76 1532.4 L1457.87 1549.74 L1471.43 1568.04 L1464.52 1568.04 L1454.15 1554.04 L1443.77 1568.04 L1436.87 1568.04 L1450.71 1549.39 L1438.04 1532.4 L1444.95 1532.4 L1454.4 1545.1 L1463.86 1532.4 L1470.76 1532.4 Z\" fill=\"#000000\" fill-rule=\"nonzero\" fill-opacity=\"1\" /><path clip-path=\"url(#clip680)\" d=\"M1514.5 1518.58 Q1510.23 1525.9 1508.16 1533.06 Q1506.09 1540.23 1506.09 1547.58 Q1506.09 1554.93 1508.16 1562.16 Q1510.26 1569.35 1514.5 1576.64 L1509.4 1576.64 Q1504.63 1569.16 1502.24 1561.93 Q1499.89 1554.71 1499.89 1547.58 Q1499.89 1540.48 1502.24 1533.29 Q1504.6 1526.09 1509.4 1518.58 L1514.5 1518.58 Z\" fill=\"#000000\" fill-rule=\"nonzero\" fill-opacity=\"1\" /><path clip-path=\"url(#clip680)\" d=\"M1542 1526.86 L1533.27 1550.51 L1550.75 1550.51 L1542 1526.86 M1538.37 1520.52 L1545.66 1520.52 L1563.77 1568.04 L1557.08 1568.04 L1552.75 1555.85 L1531.33 1555.85 L1527 1568.04 L1520.22 1568.04 L1538.37 1520.52 Z\" fill=\"#000000\" fill-rule=\"nonzero\" fill-opacity=\"1\" /><path clip-path=\"url(#clip680)\" d=\"M1569.97 1520.52 L1576.43 1520.52 L1576.43 1549.39 Q1576.43 1557.03 1579.2 1560.4 Q1581.97 1563.75 1588.18 1563.75 Q1594.35 1563.75 1597.12 1560.4 Q1599.89 1557.03 1599.89 1549.39 L1599.89 1520.52 L1606.35 1520.52 L1606.35 1550.19 Q1606.35 1559.48 1601.74 1564.22 Q1597.15 1568.97 1588.18 1568.97 Q1579.17 1568.97 1574.56 1564.22 Q1569.97 1559.48 1569.97 1550.19 L1569.97 1520.52 Z\" fill=\"#000000\" fill-rule=\"nonzero\" fill-opacity=\"1\" /><path clip-path=\"url(#clip680)\" d=\"M1617.24 1518.58 L1622.33 1518.58 Q1627.1 1526.09 1629.46 1533.29 Q1631.85 1540.48 1631.85 1547.58 Q1631.85 1554.71 1629.46 1561.93 Q1627.1 1569.16 1622.33 1576.64 L1617.24 1576.64 Q1621.47 1569.35 1623.54 1562.16 Q1625.64 1554.93 1625.64 1547.58 Q1625.64 1540.23 1623.54 1533.06 Q1621.47 1525.9 1617.24 1518.58 Z\" fill=\"#000000\" fill-rule=\"nonzero\" fill-opacity=\"1\" /><polyline clip-path=\"url(#clip680)\" style=\"stroke:#000000; stroke-linecap:round; stroke-linejoin:round; stroke-width:4; stroke-opacity:1; fill:none\" points=\"249.542,1423.18 249.542,47.2441 \"/>\n",
       "<polyline clip-path=\"url(#clip680)\" style=\"stroke:#000000; stroke-linecap:round; stroke-linejoin:round; stroke-width:4; stroke-opacity:1; fill:none\" points=\"249.542,1384.24 268.44,1384.24 \"/>\n",
       "<polyline clip-path=\"url(#clip680)\" style=\"stroke:#000000; stroke-linecap:round; stroke-linejoin:round; stroke-width:4; stroke-opacity:1; fill:none\" points=\"249.542,1059.73 268.44,1059.73 \"/>\n",
       "<polyline clip-path=\"url(#clip680)\" style=\"stroke:#000000; stroke-linecap:round; stroke-linejoin:round; stroke-width:4; stroke-opacity:1; fill:none\" points=\"249.542,735.212 268.44,735.212 \"/>\n",
       "<polyline clip-path=\"url(#clip680)\" style=\"stroke:#000000; stroke-linecap:round; stroke-linejoin:round; stroke-width:4; stroke-opacity:1; fill:none\" points=\"249.542,410.699 268.44,410.699 \"/>\n",
       "<polyline clip-path=\"url(#clip680)\" style=\"stroke:#000000; stroke-linecap:round; stroke-linejoin:round; stroke-width:4; stroke-opacity:1; fill:none\" points=\"249.542,86.1857 268.44,86.1857 \"/>\n",
       "<path clip-path=\"url(#clip680)\" d=\"M126.205 1370.04 Q122.593 1370.04 120.765 1373.6 Q118.959 1377.14 118.959 1384.27 Q118.959 1391.38 120.765 1394.94 Q122.593 1398.49 126.205 1398.49 Q129.839 1398.49 131.644 1394.94 Q133.473 1391.38 133.473 1384.27 Q133.473 1377.14 131.644 1373.6 Q129.839 1370.04 126.205 1370.04 M126.205 1366.33 Q132.015 1366.33 135.07 1370.94 Q138.149 1375.52 138.149 1384.27 Q138.149 1393 135.07 1397.61 Q132.015 1402.19 126.205 1402.19 Q120.394 1402.19 117.316 1397.61 Q114.26 1393 114.26 1384.27 Q114.26 1375.52 117.316 1370.94 Q120.394 1366.33 126.205 1366.33 Z\" fill=\"#000000\" fill-rule=\"nonzero\" fill-opacity=\"1\" /><path clip-path=\"url(#clip680)\" d=\"M146.366 1395.64 L151.251 1395.64 L151.251 1401.52 L146.366 1401.52 L146.366 1395.64 Z\" fill=\"#000000\" fill-rule=\"nonzero\" fill-opacity=\"1\" /><path clip-path=\"url(#clip680)\" d=\"M171.436 1370.04 Q167.825 1370.04 165.996 1373.6 Q164.19 1377.14 164.19 1384.27 Q164.19 1391.38 165.996 1394.94 Q167.825 1398.49 171.436 1398.49 Q175.07 1398.49 176.876 1394.94 Q178.704 1391.38 178.704 1384.27 Q178.704 1377.14 176.876 1373.6 Q175.07 1370.04 171.436 1370.04 M171.436 1366.33 Q177.246 1366.33 180.301 1370.94 Q183.38 1375.52 183.38 1384.27 Q183.38 1393 180.301 1397.61 Q177.246 1402.19 171.436 1402.19 Q165.626 1402.19 162.547 1397.61 Q159.491 1393 159.491 1384.27 Q159.491 1375.52 162.547 1370.94 Q165.626 1366.33 171.436 1366.33 Z\" fill=\"#000000\" fill-rule=\"nonzero\" fill-opacity=\"1\" /><path clip-path=\"url(#clip680)\" d=\"M201.598 1370.04 Q197.987 1370.04 196.158 1373.6 Q194.352 1377.14 194.352 1384.27 Q194.352 1391.38 196.158 1394.94 Q197.987 1398.49 201.598 1398.49 Q205.232 1398.49 207.037 1394.94 Q208.866 1391.38 208.866 1384.27 Q208.866 1377.14 207.037 1373.6 Q205.232 1370.04 201.598 1370.04 M201.598 1366.33 Q207.408 1366.33 210.463 1370.94 Q213.542 1375.52 213.542 1384.27 Q213.542 1393 210.463 1397.61 Q207.408 1402.19 201.598 1402.19 Q195.787 1402.19 192.709 1397.61 Q189.653 1393 189.653 1384.27 Q189.653 1375.52 192.709 1370.94 Q195.787 1366.33 201.598 1366.33 Z\" fill=\"#000000\" fill-rule=\"nonzero\" fill-opacity=\"1\" /><path clip-path=\"url(#clip680)\" d=\"M127.2 1045.52 Q123.589 1045.52 121.76 1049.09 Q119.955 1052.63 119.955 1059.76 Q119.955 1066.87 121.76 1070.43 Q123.589 1073.97 127.2 1073.97 Q130.834 1073.97 132.64 1070.43 Q134.468 1066.87 134.468 1059.76 Q134.468 1052.63 132.64 1049.09 Q130.834 1045.52 127.2 1045.52 M127.2 1041.82 Q133.01 1041.82 136.066 1046.43 Q139.144 1051.01 139.144 1059.76 Q139.144 1068.49 136.066 1073.09 Q133.01 1077.68 127.2 1077.68 Q121.39 1077.68 118.311 1073.09 Q115.256 1068.49 115.256 1059.76 Q115.256 1051.01 118.311 1046.43 Q121.39 1041.82 127.2 1041.82 Z\" fill=\"#000000\" fill-rule=\"nonzero\" fill-opacity=\"1\" /><path clip-path=\"url(#clip680)\" d=\"M147.362 1071.13 L152.246 1071.13 L152.246 1077.01 L147.362 1077.01 L147.362 1071.13 Z\" fill=\"#000000\" fill-rule=\"nonzero\" fill-opacity=\"1\" /><path clip-path=\"url(#clip680)\" d=\"M166.459 1073.07 L182.778 1073.07 L182.778 1077.01 L160.834 1077.01 L160.834 1073.07 Q163.496 1070.32 168.079 1065.69 Q172.686 1061.03 173.866 1059.69 Q176.112 1057.17 176.991 1055.43 Q177.894 1053.67 177.894 1051.98 Q177.894 1049.23 175.95 1047.49 Q174.028 1045.76 170.927 1045.76 Q168.727 1045.76 166.274 1046.52 Q163.843 1047.28 161.065 1048.83 L161.065 1044.11 Q163.89 1042.98 166.343 1042.4 Q168.797 1041.82 170.834 1041.82 Q176.204 1041.82 179.399 1044.51 Q182.593 1047.19 182.593 1051.68 Q182.593 1053.81 181.783 1055.73 Q180.996 1057.63 178.889 1060.22 Q178.311 1060.89 175.209 1064.11 Q172.107 1067.31 166.459 1073.07 Z\" fill=\"#000000\" fill-rule=\"nonzero\" fill-opacity=\"1\" /><path clip-path=\"url(#clip680)\" d=\"M192.639 1042.45 L210.996 1042.45 L210.996 1046.38 L196.922 1046.38 L196.922 1054.85 Q197.94 1054.51 198.959 1054.34 Q199.977 1054.16 200.996 1054.16 Q206.783 1054.16 210.162 1057.33 Q213.542 1060.5 213.542 1065.92 Q213.542 1071.5 210.07 1074.6 Q206.598 1077.68 200.278 1077.68 Q198.102 1077.68 195.834 1077.31 Q193.588 1076.94 191.181 1076.19 L191.181 1071.5 Q193.264 1072.63 195.487 1073.19 Q197.709 1073.74 200.186 1073.74 Q204.19 1073.74 206.528 1071.63 Q208.866 1069.53 208.866 1065.92 Q208.866 1062.31 206.528 1060.2 Q204.19 1058.09 200.186 1058.09 Q198.311 1058.09 196.436 1058.51 Q194.584 1058.93 192.639 1059.81 L192.639 1042.45 Z\" fill=\"#000000\" fill-rule=\"nonzero\" fill-opacity=\"1\" /><path clip-path=\"url(#clip680)\" d=\"M126.205 721.011 Q122.593 721.011 120.765 724.575 Q118.959 728.117 118.959 735.247 Q118.959 742.353 120.765 745.918 Q122.593 749.46 126.205 749.46 Q129.839 749.46 131.644 745.918 Q133.473 742.353 133.473 735.247 Q133.473 728.117 131.644 724.575 Q129.839 721.011 126.205 721.011 M126.205 717.307 Q132.015 717.307 135.07 721.913 Q138.149 726.497 138.149 735.247 Q138.149 743.973 135.07 748.58 Q132.015 753.163 126.205 753.163 Q120.394 753.163 117.316 748.58 Q114.26 743.973 114.26 735.247 Q114.26 726.497 117.316 721.913 Q120.394 717.307 126.205 717.307 Z\" fill=\"#000000\" fill-rule=\"nonzero\" fill-opacity=\"1\" /><path clip-path=\"url(#clip680)\" d=\"M146.366 746.612 L151.251 746.612 L151.251 752.492 L146.366 752.492 L146.366 746.612 Z\" fill=\"#000000\" fill-rule=\"nonzero\" fill-opacity=\"1\" /><path clip-path=\"url(#clip680)\" d=\"M161.482 717.932 L179.839 717.932 L179.839 721.867 L165.765 721.867 L165.765 730.339 Q166.783 729.992 167.802 729.83 Q168.82 729.645 169.839 729.645 Q175.626 729.645 179.005 732.816 Q182.385 735.987 182.385 741.404 Q182.385 746.983 178.913 750.085 Q175.44 753.163 169.121 753.163 Q166.945 753.163 164.677 752.793 Q162.431 752.423 160.024 751.682 L160.024 746.983 Q162.107 748.117 164.329 748.673 Q166.552 749.228 169.028 749.228 Q173.033 749.228 175.371 747.122 Q177.709 745.015 177.709 741.404 Q177.709 737.793 175.371 735.687 Q173.033 733.58 169.028 733.58 Q167.153 733.58 165.278 733.997 Q163.427 734.413 161.482 735.293 L161.482 717.932 Z\" fill=\"#000000\" fill-rule=\"nonzero\" fill-opacity=\"1\" /><path clip-path=\"url(#clip680)\" d=\"M201.598 721.011 Q197.987 721.011 196.158 724.575 Q194.352 728.117 194.352 735.247 Q194.352 742.353 196.158 745.918 Q197.987 749.46 201.598 749.46 Q205.232 749.46 207.037 745.918 Q208.866 742.353 208.866 735.247 Q208.866 728.117 207.037 724.575 Q205.232 721.011 201.598 721.011 M201.598 717.307 Q207.408 717.307 210.463 721.913 Q213.542 726.497 213.542 735.247 Q213.542 743.973 210.463 748.58 Q207.408 753.163 201.598 753.163 Q195.787 753.163 192.709 748.58 Q189.653 743.973 189.653 735.247 Q189.653 726.497 192.709 721.913 Q195.787 717.307 201.598 717.307 Z\" fill=\"#000000\" fill-rule=\"nonzero\" fill-opacity=\"1\" /><path clip-path=\"url(#clip680)\" d=\"M127.2 396.498 Q123.589 396.498 121.76 400.062 Q119.955 403.604 119.955 410.734 Q119.955 417.84 121.76 421.405 Q123.589 424.946 127.2 424.946 Q130.834 424.946 132.64 421.405 Q134.468 417.84 134.468 410.734 Q134.468 403.604 132.64 400.062 Q130.834 396.498 127.2 396.498 M127.2 392.794 Q133.01 392.794 136.066 397.4 Q139.144 401.984 139.144 410.734 Q139.144 419.46 136.066 424.067 Q133.01 428.65 127.2 428.65 Q121.39 428.65 118.311 424.067 Q115.256 419.46 115.256 410.734 Q115.256 401.984 118.311 397.4 Q121.39 392.794 127.2 392.794 Z\" fill=\"#000000\" fill-rule=\"nonzero\" fill-opacity=\"1\" /><path clip-path=\"url(#clip680)\" d=\"M147.362 422.099 L152.246 422.099 L152.246 427.979 L147.362 427.979 L147.362 422.099 Z\" fill=\"#000000\" fill-rule=\"nonzero\" fill-opacity=\"1\" /><path clip-path=\"url(#clip680)\" d=\"M161.251 393.419 L183.473 393.419 L183.473 395.41 L170.927 427.979 L166.042 427.979 L177.848 397.354 L161.251 397.354 L161.251 393.419 Z\" fill=\"#000000\" fill-rule=\"nonzero\" fill-opacity=\"1\" /><path clip-path=\"url(#clip680)\" d=\"M192.639 393.419 L210.996 393.419 L210.996 397.354 L196.922 397.354 L196.922 405.826 Q197.94 405.479 198.959 405.317 Q199.977 405.132 200.996 405.132 Q206.783 405.132 210.162 408.303 Q213.542 411.474 213.542 416.891 Q213.542 422.47 210.07 425.571 Q206.598 428.65 200.278 428.65 Q198.102 428.65 195.834 428.28 Q193.588 427.909 191.181 427.169 L191.181 422.47 Q193.264 423.604 195.487 424.159 Q197.709 424.715 200.186 424.715 Q204.19 424.715 206.528 422.608 Q208.866 420.502 208.866 416.891 Q208.866 413.28 206.528 411.173 Q204.19 409.067 200.186 409.067 Q198.311 409.067 196.436 409.484 Q194.584 409.9 192.639 410.78 L192.639 393.419 Z\" fill=\"#000000\" fill-rule=\"nonzero\" fill-opacity=\"1\" /><path clip-path=\"url(#clip680)\" d=\"M117.015 99.5305 L124.654 99.5305 L124.654 73.1649 L116.343 74.8316 L116.343 70.5723 L124.607 68.9057 L129.283 68.9057 L129.283 99.5305 L136.922 99.5305 L136.922 103.466 L117.015 103.466 L117.015 99.5305 Z\" fill=\"#000000\" fill-rule=\"nonzero\" fill-opacity=\"1\" /><path clip-path=\"url(#clip680)\" d=\"M146.366 97.5861 L151.251 97.5861 L151.251 103.466 L146.366 103.466 L146.366 97.5861 Z\" fill=\"#000000\" fill-rule=\"nonzero\" fill-opacity=\"1\" /><path clip-path=\"url(#clip680)\" d=\"M171.436 71.9844 Q167.825 71.9844 165.996 75.5492 Q164.19 79.0908 164.19 86.2204 Q164.19 93.3268 165.996 96.8916 Q167.825 100.433 171.436 100.433 Q175.07 100.433 176.876 96.8916 Q178.704 93.3268 178.704 86.2204 Q178.704 79.0908 176.876 75.5492 Q175.07 71.9844 171.436 71.9844 M171.436 68.2807 Q177.246 68.2807 180.301 72.8871 Q183.38 77.4704 183.38 86.2204 Q183.38 94.9472 180.301 99.5537 Q177.246 104.137 171.436 104.137 Q165.626 104.137 162.547 99.5537 Q159.491 94.9472 159.491 86.2204 Q159.491 77.4704 162.547 72.8871 Q165.626 68.2807 171.436 68.2807 Z\" fill=\"#000000\" fill-rule=\"nonzero\" fill-opacity=\"1\" /><path clip-path=\"url(#clip680)\" d=\"M201.598 71.9844 Q197.987 71.9844 196.158 75.5492 Q194.352 79.0908 194.352 86.2204 Q194.352 93.3268 196.158 96.8916 Q197.987 100.433 201.598 100.433 Q205.232 100.433 207.037 96.8916 Q208.866 93.3268 208.866 86.2204 Q208.866 79.0908 207.037 75.5492 Q205.232 71.9844 201.598 71.9844 M201.598 68.2807 Q207.408 68.2807 210.463 72.8871 Q213.542 77.4704 213.542 86.2204 Q213.542 94.9472 210.463 99.5537 Q207.408 104.137 201.598 104.137 Q195.787 104.137 192.709 99.5537 Q189.653 94.9472 189.653 86.2204 Q189.653 77.4704 192.709 72.8871 Q195.787 68.2807 201.598 68.2807 Z\" fill=\"#000000\" fill-rule=\"nonzero\" fill-opacity=\"1\" /><path clip-path=\"url(#clip680)\" d=\"M20.7174 1219.98 Q20.7174 1224.94 25.6189 1227.46 Q30.4887 1229.94 40.2919 1229.94 Q50.0633 1229.94 54.9649 1227.46 Q59.8346 1224.94 59.8346 1219.98 Q59.8346 1214.98 54.9649 1212.5 Q50.0633 1209.98 40.2919 1209.98 Q30.4887 1209.98 25.6189 1212.5 Q20.7174 1214.98 20.7174 1219.98 M15.6248 1219.98 Q15.6248 1211.99 21.9587 1207.79 Q28.2607 1203.55 40.2919 1203.55 Q52.2913 1203.55 58.6251 1207.79 Q64.9272 1211.99 64.9272 1219.98 Q64.9272 1227.97 58.6251 1232.2 Q52.2913 1236.4 40.2919 1236.4 Q28.2607 1236.4 21.9587 1232.2 Q15.6248 1227.97 15.6248 1219.98 Z\" fill=\"#000000\" fill-rule=\"nonzero\" fill-opacity=\"1\" /><path clip-path=\"url(#clip680)\" d=\"M55.9197 1191.59 L55.9197 1184.87 L61.3942 1184.87 L71.5793 1190.09 L71.5793 1194.2 L61.3942 1191.59 L55.9197 1191.59 Z\" fill=\"#000000\" fill-rule=\"nonzero\" fill-opacity=\"1\" /><path clip-path=\"url(#clip680)\" d=\"M58.5933 1170.42 L58.5933 1159.92 L22.3406 1159.92 L24.6323 1171.34 L18.7758 1171.34 L16.4842 1159.98 L16.4842 1153.55 L58.5933 1153.55 L58.5933 1143.05 L64.0042 1143.05 L64.0042 1170.42 L58.5933 1170.42 Z\" fill=\"#000000\" fill-rule=\"nonzero\" fill-opacity=\"1\" /><path clip-path=\"url(#clip680)\" d=\"M43.5384 1133.85 L43.5384 1116.69 L48.7583 1116.69 L48.7583 1133.85 L43.5384 1133.85 Z\" fill=\"#000000\" fill-rule=\"nonzero\" fill-opacity=\"1\" /><path clip-path=\"url(#clip680)\" d=\"M18.0438 1078.63 L24.314 1078.63 Q22.5634 1082.29 21.704 1085.53 Q20.8447 1088.78 20.8447 1091.8 Q20.8447 1097.05 22.8817 1099.92 Q24.9187 1102.75 28.6745 1102.75 Q31.8255 1102.75 33.4488 1100.87 Q35.0402 1098.96 36.0269 1093.68 L36.8226 1089.8 Q38.1912 1082.6 41.6605 1079.2 Q45.098 1075.76 50.8908 1075.76 Q57.7976 1075.76 61.3624 1080.41 Q64.9272 1085.02 64.9272 1093.97 Q64.9272 1097.34 64.1633 1101.16 Q63.3994 1104.95 61.9035 1109.02 L55.2831 1109.02 Q57.4793 1105.11 58.5933 1101.35 Q59.7073 1097.6 59.7073 1093.97 Q59.7073 1088.46 57.543 1085.47 Q55.3786 1082.48 51.3682 1082.48 Q47.8671 1082.48 45.8937 1084.64 Q43.9204 1086.77 42.9337 1091.68 L42.1698 1095.59 Q40.7375 1102.78 37.682 1106 Q34.6264 1109.21 29.1837 1109.21 Q22.8817 1109.21 19.2532 1104.79 Q15.6248 1100.33 15.6248 1092.53 Q15.6248 1089.19 16.2295 1085.72 Q16.8343 1082.25 18.0438 1078.63 Z\" fill=\"#000000\" fill-rule=\"nonzero\" fill-opacity=\"1\" /><path clip-path=\"url(#clip680)\" d=\"M29.7248 1040.34 L35.1993 1040.34 Q33.8307 1042.82 33.1623 1045.33 Q32.4621 1047.82 32.4621 1050.36 Q32.4621 1056.06 36.0905 1059.21 Q39.6872 1062.36 46.212 1062.36 Q52.7369 1062.36 56.3653 1059.21 Q59.9619 1056.06 59.9619 1050.36 Q59.9619 1047.82 59.2935 1045.33 Q58.5933 1042.82 57.2247 1040.34 L62.6355 1040.34 Q63.7814 1042.79 64.3543 1045.43 Q64.9272 1048.04 64.9272 1051 Q64.9272 1059.05 59.8664 1063.79 Q54.8057 1068.54 46.212 1068.54 Q37.491 1068.54 32.4939 1063.76 Q27.4968 1058.96 27.4968 1050.62 Q27.4968 1047.91 28.0697 1045.33 Q28.6108 1042.76 29.7248 1040.34 Z\" fill=\"#000000\" fill-rule=\"nonzero\" fill-opacity=\"1\" /><path clip-path=\"url(#clip680)\" d=\"M46.0847 1013.95 Q46.0847 1021.05 47.7079 1023.79 Q49.3312 1026.52 53.2461 1026.52 Q56.3653 1026.52 58.2114 1024.49 Q60.0256 1022.42 60.0256 1018.88 Q60.0256 1014.01 56.5881 1011.09 Q53.1188 1008.13 47.3897 1008.13 L46.0847 1008.13 L46.0847 1013.95 M43.6657 1002.27 L64.0042 1002.27 L64.0042 1008.13 L58.5933 1008.13 Q61.8398 1010.13 63.3994 1013.12 Q64.9272 1016.11 64.9272 1020.44 Q64.9272 1025.92 61.8716 1029.16 Q58.7843 1032.38 53.6281 1032.38 Q47.6125 1032.38 44.5569 1028.37 Q41.5014 1024.33 41.5014 1016.34 L41.5014 1008.13 L40.9285 1008.13 Q36.8862 1008.13 34.6901 1010.8 Q32.4621 1013.44 32.4621 1018.25 Q32.4621 1021.3 33.1941 1024.2 Q33.9262 1027.1 35.3903 1029.77 L29.9795 1029.77 Q28.7381 1026.55 28.1334 1023.53 Q27.4968 1020.51 27.4968 1017.64 Q27.4968 1009.91 31.5072 1006.09 Q35.5176 1002.27 43.6657 1002.27 Z\" fill=\"#000000\" fill-rule=\"nonzero\" fill-opacity=\"1\" /><path clip-path=\"url(#clip680)\" d=\"M14.479 990.206 L14.479 984.35 L64.0042 984.35 L64.0042 990.206 L14.479 990.206 Z\" fill=\"#000000\" fill-rule=\"nonzero\" fill-opacity=\"1\" /><path clip-path=\"url(#clip680)\" d=\"M44.7161 941.604 L47.5806 941.604 L47.5806 968.531 Q53.6281 968.149 56.8109 964.903 Q59.9619 961.624 59.9619 955.8 Q59.9619 952.426 59.1344 949.275 Q58.3069 946.092 56.6518 942.973 L62.1899 942.973 Q63.5267 946.124 64.227 949.434 Q64.9272 952.744 64.9272 956.15 Q64.9272 964.68 59.9619 969.677 Q54.9967 974.642 46.5303 974.642 Q37.7774 974.642 32.6531 969.931 Q27.4968 965.189 27.4968 957.168 Q27.4968 949.975 32.1438 945.805 Q36.7589 941.604 44.7161 941.604 M42.9973 947.461 Q38.1912 947.524 35.3266 950.166 Q32.4621 952.776 32.4621 957.105 Q32.4621 962.006 35.2312 964.966 Q38.0002 967.894 43.0292 968.34 L42.9973 947.461 Z\" fill=\"#000000\" fill-rule=\"nonzero\" fill-opacity=\"1\" /><path clip-path=\"url(#clip680)\" d=\"M33.7671 908.534 L14.479 908.534 L14.479 902.678 L64.0042 902.678 L64.0042 908.534 L58.657 908.534 Q61.8398 910.38 63.3994 913.213 Q64.9272 916.014 64.9272 919.961 Q64.9272 926.422 59.771 930.496 Q54.6147 934.538 46.212 934.538 Q37.8093 934.538 32.6531 930.496 Q27.4968 926.422 27.4968 919.961 Q27.4968 916.014 29.0564 913.213 Q30.5842 910.38 33.7671 908.534 M46.212 928.491 Q52.6732 928.491 56.3653 925.849 Q60.0256 923.175 60.0256 918.528 Q60.0256 913.881 56.3653 911.208 Q52.6732 908.534 46.212 908.534 Q39.7508 908.534 36.0905 911.208 Q32.3984 913.881 32.3984 918.528 Q32.3984 923.175 36.0905 925.849 Q39.7508 928.491 46.212 928.491 Z\" fill=\"#000000\" fill-rule=\"nonzero\" fill-opacity=\"1\" /><path clip-path=\"url(#clip680)\" d=\"M21.7677 863.21 L39.6235 863.21 L39.6235 855.126 Q39.6235 850.638 37.3 848.187 Q34.9765 845.737 30.6797 845.737 Q26.4147 845.737 24.0912 848.187 Q21.7677 850.638 21.7677 855.126 L21.7677 863.21 M16.4842 869.64 L16.4842 855.126 Q16.4842 847.137 20.1126 843.063 Q23.7092 838.957 30.6797 838.957 Q37.7138 838.957 41.3104 843.063 Q44.907 847.137 44.907 855.126 L44.907 863.21 L64.0042 863.21 L64.0042 869.64 L16.4842 869.64 Z\" fill=\"#000000\" fill-rule=\"nonzero\" fill-opacity=\"1\" /><path clip-path=\"url(#clip680)\" d=\"M29.4065 809.006 L34.9447 809.006 Q33.6716 811.489 33.035 814.163 Q32.3984 816.836 32.3984 819.701 Q32.3984 824.061 33.7352 826.257 Q35.072 828.422 37.7456 828.422 Q39.7826 828.422 40.9603 826.862 Q42.1061 825.303 43.1565 820.592 L43.6021 818.587 Q44.9389 812.348 47.3897 809.738 Q49.8086 807.097 54.1691 807.097 Q59.1344 807.097 62.0308 811.043 Q64.9272 814.958 64.9272 821.833 Q64.9272 824.698 64.3543 827.817 Q63.8132 830.904 62.6992 834.342 L56.6518 834.342 Q58.3387 831.095 59.198 827.944 Q60.0256 824.793 60.0256 821.706 Q60.0256 817.568 58.6251 815.34 Q57.1929 813.112 54.6147 813.112 Q52.2276 813.112 50.9545 814.736 Q49.6813 816.327 48.5037 821.77 L48.0262 823.807 Q46.8804 829.249 44.5251 831.668 Q42.138 834.087 38.0002 834.087 Q32.9713 834.087 30.2341 830.523 Q27.4968 826.958 27.4968 820.401 Q27.4968 817.155 27.9743 814.29 Q28.4517 811.425 29.4065 809.006 Z\" fill=\"#000000\" fill-rule=\"nonzero\" fill-opacity=\"1\" /><path clip-path=\"url(#clip680)\" d=\"M44.7161 767.279 L47.5806 767.279 L47.5806 794.206 Q53.6281 793.824 56.8109 790.578 Q59.9619 787.299 59.9619 781.475 Q59.9619 778.101 59.1344 774.95 Q58.3069 771.767 56.6518 768.648 L62.1899 768.648 Q63.5267 771.799 64.227 775.109 Q64.9272 778.419 64.9272 781.825 Q64.9272 790.355 59.9619 795.352 Q54.9967 800.317 46.5303 800.317 Q37.7774 800.317 32.6531 795.607 Q27.4968 790.864 27.4968 782.843 Q27.4968 775.65 32.1438 771.481 Q36.7589 767.279 44.7161 767.279 M42.9973 773.136 Q38.1912 773.199 35.3266 775.841 Q32.4621 778.451 32.4621 782.78 Q32.4621 787.681 35.2312 790.641 Q38.0002 793.57 43.0292 794.015 L42.9973 773.136 Z\" fill=\"#000000\" fill-rule=\"nonzero\" fill-opacity=\"1\" /><path clip-path=\"url(#clip680)\" d=\"M49.9359 758.272 L28.3562 758.272 L28.3562 752.415 L49.7131 752.415 Q54.7739 752.415 57.3202 750.442 Q59.8346 748.469 59.8346 744.522 Q59.8346 739.779 56.8109 737.042 Q53.7872 734.273 48.5673 734.273 L28.3562 734.273 L28.3562 728.417 L64.0042 728.417 L64.0042 734.273 L58.5296 734.273 Q61.7762 736.406 63.3676 739.238 Q64.9272 742.039 64.9272 745.763 Q64.9272 751.906 61.1078 755.089 Q57.2883 758.272 49.9359 758.272 M27.4968 743.535 L27.4968 743.535 Z\" fill=\"#000000\" fill-rule=\"nonzero\" fill-opacity=\"1\" /><path clip-path=\"url(#clip680)\" d=\"M33.7671 692.896 L14.479 692.896 L14.479 687.039 L64.0042 687.039 L64.0042 692.896 L58.657 692.896 Q61.8398 694.742 63.3994 697.575 Q64.9272 700.376 64.9272 704.322 Q64.9272 710.784 59.771 714.858 Q54.6147 718.9 46.212 718.9 Q37.8093 718.9 32.6531 714.858 Q27.4968 710.784 27.4968 704.322 Q27.4968 700.376 29.0564 697.575 Q30.5842 694.742 33.7671 692.896 M46.212 712.852 Q52.6732 712.852 56.3653 710.211 Q60.0256 707.537 60.0256 702.89 Q60.0256 698.243 56.3653 695.57 Q52.6732 692.896 46.212 692.896 Q39.7508 692.896 36.0905 695.57 Q32.3984 698.243 32.3984 702.89 Q32.3984 707.537 36.0905 710.211 Q39.7508 712.852 46.212 712.852 Z\" fill=\"#000000\" fill-rule=\"nonzero\" fill-opacity=\"1\" /><path clip-path=\"url(#clip680)\" d=\"M32.4621 661.163 Q32.4621 665.874 36.1542 668.611 Q39.8145 671.348 46.212 671.348 Q52.6095 671.348 56.3017 668.643 Q59.9619 665.905 59.9619 661.163 Q59.9619 656.484 56.2698 653.747 Q52.5777 651.01 46.212 651.01 Q39.8781 651.01 36.186 653.747 Q32.4621 656.484 32.4621 661.163 M27.4968 661.163 Q27.4968 653.524 32.4621 649.164 Q37.4273 644.803 46.212 644.803 Q54.9649 644.803 59.9619 649.164 Q64.9272 653.524 64.9272 661.163 Q64.9272 668.834 59.9619 673.194 Q54.9649 677.523 46.212 677.523 Q37.4273 677.523 32.4621 673.194 Q27.4968 668.834 27.4968 661.163 Z\" fill=\"#000000\" fill-rule=\"nonzero\" fill-opacity=\"1\" /><path clip-path=\"url(#clip680)\" d=\"M16.4842 614.12 L16.4842 584.074 L21.895 584.074 L21.895 607.691 L35.9632 607.691 L35.9632 585.061 L41.3741 585.061 L41.3741 607.691 L58.5933 607.691 L58.5933 583.501 L64.0042 583.501 L64.0042 614.12 L16.4842 614.12 Z\" fill=\"#000000\" fill-rule=\"nonzero\" fill-opacity=\"1\" /><path clip-path=\"url(#clip680)\" d=\"M42.4881 543.556 L64.0042 543.556 L64.0042 549.413 L42.679 549.413 Q37.6183 549.413 35.1038 551.386 Q32.5894 553.36 32.5894 557.306 Q32.5894 562.049 35.6131 564.786 Q38.6368 567.523 43.8567 567.523 L64.0042 567.523 L64.0042 573.412 L28.3562 573.412 L28.3562 567.523 L33.8944 567.523 Q30.6797 565.423 29.0883 562.59 Q27.4968 559.725 27.4968 556.001 Q27.4968 549.859 31.3163 546.707 Q35.1038 543.556 42.4881 543.556 Z\" fill=\"#000000\" fill-rule=\"nonzero\" fill-opacity=\"1\" /><path clip-path=\"url(#clip680)\" d=\"M44.7161 501.384 L47.5806 501.384 L47.5806 528.311 Q53.6281 527.929 56.8109 524.682 Q59.9619 521.404 59.9619 515.579 Q59.9619 512.205 59.1344 509.054 Q58.3069 505.871 56.6518 502.752 L62.1899 502.752 Q63.5267 505.903 64.227 509.213 Q64.9272 512.524 64.9272 515.929 Q64.9272 524.459 59.9619 529.456 Q54.9967 534.422 46.5303 534.422 Q37.7774 534.422 32.6531 529.711 Q27.4968 524.969 27.4968 516.948 Q27.4968 509.755 32.1438 505.585 Q36.7589 501.384 44.7161 501.384 M42.9973 507.24 Q38.1912 507.304 35.3266 509.946 Q32.4621 512.555 32.4621 516.884 Q32.4621 521.786 35.2312 524.746 Q38.0002 527.674 43.0292 528.12 L42.9973 507.24 Z\" fill=\"#000000\" fill-rule=\"nonzero\" fill-opacity=\"1\" /><path clip-path=\"url(#clip680)\" d=\"M33.8307 471.115 Q33.2578 472.101 33.0032 473.279 Q32.7167 474.425 32.7167 475.825 Q32.7167 480.791 35.9632 483.464 Q39.1779 486.106 45.2253 486.106 L64.0042 486.106 L64.0042 491.994 L28.3562 491.994 L28.3562 486.106 L33.8944 486.106 Q30.6479 484.26 29.0883 481.3 Q27.4968 478.34 27.4968 474.107 Q27.4968 473.502 27.5923 472.77 Q27.656 472.038 27.8151 471.147 L33.8307 471.115 Z\" fill=\"#000000\" fill-rule=\"nonzero\" fill-opacity=\"1\" /><path clip-path=\"url(#clip680)\" d=\"M45.7664 442.66 Q39.4007 442.66 35.8996 445.302 Q32.3984 447.912 32.3984 452.654 Q32.3984 457.365 35.8996 460.007 Q39.4007 462.616 45.7664 462.616 Q52.1003 462.616 55.6014 460.007 Q59.1026 457.365 59.1026 452.654 Q59.1026 447.912 55.6014 445.302 Q52.1003 442.66 45.7664 442.66 M59.58 436.804 Q68.683 436.804 73.1071 440.846 Q77.5631 444.888 77.5631 453.227 Q77.5631 456.314 77.0857 459.052 Q76.6401 461.789 75.6852 464.367 L69.9879 464.367 Q71.3884 461.789 72.0568 459.275 Q72.7252 456.76 72.7252 454.15 Q72.7252 448.389 69.7015 445.525 Q66.7096 442.66 60.6303 442.66 L57.7339 442.66 Q60.885 444.474 62.4446 447.307 Q64.0042 450.14 64.0042 454.086 Q64.0042 460.643 59.0071 464.654 Q54.01 468.664 45.7664 468.664 Q37.491 468.664 32.4939 464.654 Q27.4968 460.643 27.4968 454.086 Q27.4968 450.14 29.0564 447.307 Q30.616 444.474 33.7671 442.66 L28.3562 442.66 L28.3562 436.804 L59.58 436.804 Z\" fill=\"#000000\" fill-rule=\"nonzero\" fill-opacity=\"1\" /><path clip-path=\"url(#clip680)\" d=\"M67.3143 409.908 Q73.68 412.391 75.6216 414.746 Q77.5631 417.102 77.5631 421.048 L77.5631 425.727 L72.6615 425.727 L72.6615 422.29 Q72.6615 419.871 71.5157 418.534 Q70.3699 417.197 66.1048 415.574 L63.4312 414.524 L28.3562 428.942 L28.3562 422.735 L56.238 411.595 L28.3562 400.455 L28.3562 394.249 L67.3143 409.908 Z\" fill=\"#000000\" fill-rule=\"nonzero\" fill-opacity=\"1\" /><path clip-path=\"url(#clip680)\" d=\"M14.5426 351.376 Q21.8632 355.641 29.0246 357.71 Q36.186 359.779 43.5384 359.779 Q50.8908 359.779 58.1159 357.71 Q65.3091 355.609 72.5979 351.376 L72.5979 356.468 Q65.1182 361.243 57.8931 363.63 Q50.668 365.985 43.5384 365.985 Q36.4406 365.985 29.2474 363.63 Q22.0542 361.274 14.5426 356.468 L14.5426 351.376 Z\" fill=\"#000000\" fill-rule=\"nonzero\" fill-opacity=\"1\" /><path clip-path=\"url(#clip680)\" d=\"M22.818 323.876 L46.4666 332.597 L46.4666 315.123 L22.818 323.876 M16.4842 327.504 L16.4842 320.216 L64.0042 302.105 L64.0042 308.789 L51.8138 313.118 L51.8138 334.538 L64.0042 338.867 L64.0042 345.647 L16.4842 327.504 Z\" fill=\"#000000\" fill-rule=\"nonzero\" fill-opacity=\"1\" /><path clip-path=\"url(#clip680)\" d=\"M16.4842 295.899 L16.4842 289.437 L45.3526 289.437 Q52.9915 289.437 56.3653 286.668 Q59.7073 283.899 59.7073 277.693 Q59.7073 271.518 56.3653 268.749 Q52.9915 265.98 45.3526 265.98 L16.4842 265.98 L16.4842 259.519 L46.1484 259.519 Q55.4423 259.519 60.1847 264.134 Q64.9272 268.717 64.9272 277.693 Q64.9272 286.7 60.1847 291.315 Q55.4423 295.899 46.1484 295.899 L16.4842 295.899 Z\" fill=\"#000000\" fill-rule=\"nonzero\" fill-opacity=\"1\" /><path clip-path=\"url(#clip680)\" d=\"M14.5426 248.633 L14.5426 243.541 Q22.0542 238.766 29.2474 236.411 Q36.4406 234.024 43.5384 234.024 Q50.668 234.024 57.8931 236.411 Q65.1182 238.766 72.5979 243.541 L72.5979 248.633 Q65.3091 244.4 58.1159 242.331 Q50.8908 240.231 43.5384 240.231 Q36.186 240.231 29.0246 242.331 Q21.8632 244.4 14.5426 248.633 Z\" fill=\"#000000\" fill-rule=\"nonzero\" fill-opacity=\"1\" /><polyline clip-path=\"url(#clip682)\" style=\"stroke:#000080; stroke-linecap:round; stroke-linejoin:round; stroke-width:8; stroke-opacity:1; fill:none\" points=\"309.067,86.1857 441.345,1157.7 573.622,1253.17 705.9,1310.71 838.177,1334.91 970.455,1358.58 1102.73,1372.73 1235.01,1375.48 1367.29,1378.23 1499.57,1379.2 1631.84,1379.39 1764.12,1379.61 1896.4,1380.86 2028.68,1382.67 2160.95,1383.46 2293.23,1384.24 \"/>\n",
       "<circle clip-path=\"url(#clip682)\" cx=\"309.067\" cy=\"86.1857\" r=\"14.4\" fill=\"#000080\" fill-rule=\"evenodd\" fill-opacity=\"1\" stroke=\"#000000\" stroke-opacity=\"1\" stroke-width=\"3.2\"/>\n",
       "<circle clip-path=\"url(#clip682)\" cx=\"441.345\" cy=\"1157.7\" r=\"14.4\" fill=\"#000080\" fill-rule=\"evenodd\" fill-opacity=\"1\" stroke=\"#000000\" stroke-opacity=\"1\" stroke-width=\"3.2\"/>\n",
       "<circle clip-path=\"url(#clip682)\" cx=\"573.622\" cy=\"1253.17\" r=\"14.4\" fill=\"#000080\" fill-rule=\"evenodd\" fill-opacity=\"1\" stroke=\"#000000\" stroke-opacity=\"1\" stroke-width=\"3.2\"/>\n",
       "<circle clip-path=\"url(#clip682)\" cx=\"705.9\" cy=\"1310.71\" r=\"14.4\" fill=\"#000080\" fill-rule=\"evenodd\" fill-opacity=\"1\" stroke=\"#000000\" stroke-opacity=\"1\" stroke-width=\"3.2\"/>\n",
       "<circle clip-path=\"url(#clip682)\" cx=\"838.177\" cy=\"1334.91\" r=\"14.4\" fill=\"#000080\" fill-rule=\"evenodd\" fill-opacity=\"1\" stroke=\"#000000\" stroke-opacity=\"1\" stroke-width=\"3.2\"/>\n",
       "<circle clip-path=\"url(#clip682)\" cx=\"970.455\" cy=\"1358.58\" r=\"14.4\" fill=\"#000080\" fill-rule=\"evenodd\" fill-opacity=\"1\" stroke=\"#000000\" stroke-opacity=\"1\" stroke-width=\"3.2\"/>\n",
       "<circle clip-path=\"url(#clip682)\" cx=\"1102.73\" cy=\"1372.73\" r=\"14.4\" fill=\"#000080\" fill-rule=\"evenodd\" fill-opacity=\"1\" stroke=\"#000000\" stroke-opacity=\"1\" stroke-width=\"3.2\"/>\n",
       "<circle clip-path=\"url(#clip682)\" cx=\"1235.01\" cy=\"1375.48\" r=\"14.4\" fill=\"#000080\" fill-rule=\"evenodd\" fill-opacity=\"1\" stroke=\"#000000\" stroke-opacity=\"1\" stroke-width=\"3.2\"/>\n",
       "<circle clip-path=\"url(#clip682)\" cx=\"1367.29\" cy=\"1378.23\" r=\"14.4\" fill=\"#000080\" fill-rule=\"evenodd\" fill-opacity=\"1\" stroke=\"#000000\" stroke-opacity=\"1\" stroke-width=\"3.2\"/>\n",
       "<circle clip-path=\"url(#clip682)\" cx=\"1499.57\" cy=\"1379.2\" r=\"14.4\" fill=\"#000080\" fill-rule=\"evenodd\" fill-opacity=\"1\" stroke=\"#000000\" stroke-opacity=\"1\" stroke-width=\"3.2\"/>\n",
       "<circle clip-path=\"url(#clip682)\" cx=\"1631.84\" cy=\"1379.39\" r=\"14.4\" fill=\"#000080\" fill-rule=\"evenodd\" fill-opacity=\"1\" stroke=\"#000000\" stroke-opacity=\"1\" stroke-width=\"3.2\"/>\n",
       "<circle clip-path=\"url(#clip682)\" cx=\"1764.12\" cy=\"1379.61\" r=\"14.4\" fill=\"#000080\" fill-rule=\"evenodd\" fill-opacity=\"1\" stroke=\"#000000\" stroke-opacity=\"1\" stroke-width=\"3.2\"/>\n",
       "<circle clip-path=\"url(#clip682)\" cx=\"1896.4\" cy=\"1380.86\" r=\"14.4\" fill=\"#000080\" fill-rule=\"evenodd\" fill-opacity=\"1\" stroke=\"#000000\" stroke-opacity=\"1\" stroke-width=\"3.2\"/>\n",
       "<circle clip-path=\"url(#clip682)\" cx=\"2028.68\" cy=\"1382.67\" r=\"14.4\" fill=\"#000080\" fill-rule=\"evenodd\" fill-opacity=\"1\" stroke=\"#000000\" stroke-opacity=\"1\" stroke-width=\"3.2\"/>\n",
       "<circle clip-path=\"url(#clip682)\" cx=\"2160.95\" cy=\"1383.46\" r=\"14.4\" fill=\"#000080\" fill-rule=\"evenodd\" fill-opacity=\"1\" stroke=\"#000000\" stroke-opacity=\"1\" stroke-width=\"3.2\"/>\n",
       "<circle clip-path=\"url(#clip682)\" cx=\"2293.23\" cy=\"1384.24\" r=\"14.4\" fill=\"#000080\" fill-rule=\"evenodd\" fill-opacity=\"1\" stroke=\"#000000\" stroke-opacity=\"1\" stroke-width=\"3.2\"/>\n",
       "</svg>\n"
      ],
      "text/html": [
       "<?xml version=\"1.0\" encoding=\"utf-8\"?>\n",
       "<svg xmlns=\"http://www.w3.org/2000/svg\" xmlns:xlink=\"http://www.w3.org/1999/xlink\" width=\"600\" height=\"400\" viewBox=\"0 0 2400 1600\">\n",
       "<defs>\n",
       "  <clipPath id=\"clip730\">\n",
       "    <rect x=\"0\" y=\"0\" width=\"2400\" height=\"1600\"/>\n",
       "  </clipPath>\n",
       "</defs>\n",
       "<path clip-path=\"url(#clip730)\" d=\"M0 1600 L2400 1600 L2400 0 L0 0  Z\" fill=\"#ffffff\" fill-rule=\"evenodd\" fill-opacity=\"1\"/>\n",
       "<defs>\n",
       "  <clipPath id=\"clip731\">\n",
       "    <rect x=\"480\" y=\"0\" width=\"1681\" height=\"1600\"/>\n",
       "  </clipPath>\n",
       "</defs>\n",
       "<path clip-path=\"url(#clip730)\" d=\"M249.542 1423.18 L2352.76 1423.18 L2352.76 47.2441 L249.542 47.2441  Z\" fill=\"#ffffff\" fill-rule=\"evenodd\" fill-opacity=\"1\"/>\n",
       "<defs>\n",
       "  <clipPath id=\"clip732\">\n",
       "    <rect x=\"249\" y=\"47\" width=\"2104\" height=\"1377\"/>\n",
       "  </clipPath>\n",
       "</defs>\n",
       "<polyline clip-path=\"url(#clip732)\" style=\"stroke:#000000; stroke-linecap:round; stroke-linejoin:round; stroke-width:2; stroke-opacity:0.1; fill:none\" points=\"573.622,1423.18 573.622,47.2441 \"/>\n",
       "<polyline clip-path=\"url(#clip732)\" style=\"stroke:#000000; stroke-linecap:round; stroke-linejoin:round; stroke-width:2; stroke-opacity:0.1; fill:none\" points=\"970.455,1423.18 970.455,47.2441 \"/>\n",
       "<polyline clip-path=\"url(#clip732)\" style=\"stroke:#000000; stroke-linecap:round; stroke-linejoin:round; stroke-width:2; stroke-opacity:0.1; fill:none\" points=\"1367.29,1423.18 1367.29,47.2441 \"/>\n",
       "<polyline clip-path=\"url(#clip732)\" style=\"stroke:#000000; stroke-linecap:round; stroke-linejoin:round; stroke-width:2; stroke-opacity:0.1; fill:none\" points=\"1764.12,1423.18 1764.12,47.2441 \"/>\n",
       "<polyline clip-path=\"url(#clip732)\" style=\"stroke:#000000; stroke-linecap:round; stroke-linejoin:round; stroke-width:2; stroke-opacity:0.1; fill:none\" points=\"2160.95,1423.18 2160.95,47.2441 \"/>\n",
       "<polyline clip-path=\"url(#clip732)\" style=\"stroke:#000000; stroke-linecap:round; stroke-linejoin:round; stroke-width:2; stroke-opacity:0.1; fill:none\" points=\"249.542,1384.24 2352.76,1384.24 \"/>\n",
       "<polyline clip-path=\"url(#clip732)\" style=\"stroke:#000000; stroke-linecap:round; stroke-linejoin:round; stroke-width:2; stroke-opacity:0.1; fill:none\" points=\"249.542,1059.73 2352.76,1059.73 \"/>\n",
       "<polyline clip-path=\"url(#clip732)\" style=\"stroke:#000000; stroke-linecap:round; stroke-linejoin:round; stroke-width:2; stroke-opacity:0.1; fill:none\" points=\"249.542,735.212 2352.76,735.212 \"/>\n",
       "<polyline clip-path=\"url(#clip732)\" style=\"stroke:#000000; stroke-linecap:round; stroke-linejoin:round; stroke-width:2; stroke-opacity:0.1; fill:none\" points=\"249.542,410.699 2352.76,410.699 \"/>\n",
       "<polyline clip-path=\"url(#clip732)\" style=\"stroke:#000000; stroke-linecap:round; stroke-linejoin:round; stroke-width:2; stroke-opacity:0.1; fill:none\" points=\"249.542,86.1857 2352.76,86.1857 \"/>\n",
       "<polyline clip-path=\"url(#clip730)\" style=\"stroke:#000000; stroke-linecap:round; stroke-linejoin:round; stroke-width:4; stroke-opacity:1; fill:none\" points=\"249.542,1423.18 2352.76,1423.18 \"/>\n",
       "<polyline clip-path=\"url(#clip730)\" style=\"stroke:#000000; stroke-linecap:round; stroke-linejoin:round; stroke-width:4; stroke-opacity:1; fill:none\" points=\"573.622,1423.18 573.622,1404.28 \"/>\n",
       "<polyline clip-path=\"url(#clip730)\" style=\"stroke:#000000; stroke-linecap:round; stroke-linejoin:round; stroke-width:4; stroke-opacity:1; fill:none\" points=\"970.455,1423.18 970.455,1404.28 \"/>\n",
       "<polyline clip-path=\"url(#clip730)\" style=\"stroke:#000000; stroke-linecap:round; stroke-linejoin:round; stroke-width:4; stroke-opacity:1; fill:none\" points=\"1367.29,1423.18 1367.29,1404.28 \"/>\n",
       "<polyline clip-path=\"url(#clip730)\" style=\"stroke:#000000; stroke-linecap:round; stroke-linejoin:round; stroke-width:4; stroke-opacity:1; fill:none\" points=\"1764.12,1423.18 1764.12,1404.28 \"/>\n",
       "<polyline clip-path=\"url(#clip730)\" style=\"stroke:#000000; stroke-linecap:round; stroke-linejoin:round; stroke-width:4; stroke-opacity:1; fill:none\" points=\"2160.95,1423.18 2160.95,1404.28 \"/>\n",
       "<path clip-path=\"url(#clip730)\" d=\"M577.87 1466.95 Q581.226 1467.66 583.101 1469.93 Q584.999 1472.2 584.999 1475.53 Q584.999 1480.65 581.481 1483.45 Q577.962 1486.25 571.481 1486.25 Q569.305 1486.25 566.99 1485.81 Q564.699 1485.39 562.245 1484.54 L562.245 1480.02 Q564.189 1481.16 566.504 1481.74 Q568.819 1482.32 571.342 1482.32 Q575.74 1482.32 578.032 1480.58 Q580.347 1478.84 580.347 1475.53 Q580.347 1472.48 578.194 1470.77 Q576.064 1469.03 572.245 1469.03 L568.217 1469.03 L568.217 1465.19 L572.43 1465.19 Q575.879 1465.19 577.708 1463.82 Q579.536 1462.43 579.536 1459.84 Q579.536 1457.18 577.638 1455.77 Q575.763 1454.33 572.245 1454.33 Q570.324 1454.33 568.125 1454.75 Q565.925 1455.16 563.287 1456.04 L563.287 1451.88 Q565.949 1451.14 568.263 1450.77 Q570.601 1450.39 572.662 1450.39 Q577.986 1450.39 581.087 1452.83 Q584.189 1455.23 584.189 1459.35 Q584.189 1462.22 582.546 1464.21 Q580.902 1466.18 577.87 1466.95 Z\" fill=\"#000000\" fill-rule=\"nonzero\" fill-opacity=\"1\" /><path clip-path=\"url(#clip730)\" d=\"M970.86 1466.44 Q967.712 1466.44 965.86 1468.59 Q964.031 1470.74 964.031 1474.49 Q964.031 1478.22 965.86 1480.39 Q967.712 1482.55 970.86 1482.55 Q974.008 1482.55 975.837 1480.39 Q977.689 1478.22 977.689 1474.49 Q977.689 1470.74 975.837 1468.59 Q974.008 1466.44 970.86 1466.44 M980.142 1451.78 L980.142 1456.04 Q978.383 1455.21 976.578 1454.77 Q974.795 1454.33 973.036 1454.33 Q968.406 1454.33 965.953 1457.45 Q963.522 1460.58 963.175 1466.9 Q964.541 1464.89 966.601 1463.82 Q968.661 1462.73 971.138 1462.73 Q976.346 1462.73 979.355 1465.9 Q982.388 1469.05 982.388 1474.49 Q982.388 1479.82 979.24 1483.03 Q976.092 1486.25 970.86 1486.25 Q964.865 1486.25 961.693 1481.67 Q958.522 1477.06 958.522 1468.33 Q958.522 1460.14 962.411 1455.28 Q966.3 1450.39 972.851 1450.39 Q974.61 1450.39 976.392 1450.74 Q978.198 1451.09 980.142 1451.78 Z\" fill=\"#000000\" fill-rule=\"nonzero\" fill-opacity=\"1\" /><path clip-path=\"url(#clip730)\" d=\"M1357.59 1484.86 L1357.59 1480.6 Q1359.35 1481.44 1361.15 1481.88 Q1362.96 1482.32 1364.7 1482.32 Q1369.32 1482.32 1371.76 1479.21 Q1374.21 1476.09 1374.56 1469.75 Q1373.21 1471.74 1371.15 1472.8 Q1369.09 1473.87 1366.59 1473.87 Q1361.41 1473.87 1358.38 1470.74 Q1355.37 1467.59 1355.37 1462.15 Q1355.37 1456.83 1358.51 1453.61 Q1361.66 1450.39 1366.89 1450.39 Q1372.89 1450.39 1376.04 1455 Q1379.21 1459.58 1379.21 1468.33 Q1379.21 1476.51 1375.32 1481.39 Q1371.45 1486.25 1364.9 1486.25 Q1363.14 1486.25 1361.34 1485.9 Q1359.53 1485.56 1357.59 1484.86 M1366.89 1470.21 Q1370.04 1470.21 1371.87 1468.06 Q1373.72 1465.9 1373.72 1462.15 Q1373.72 1458.43 1371.87 1456.27 Q1370.04 1454.1 1366.89 1454.1 Q1363.75 1454.1 1361.89 1456.27 Q1360.07 1458.43 1360.07 1462.15 Q1360.07 1465.9 1361.89 1468.06 Q1363.75 1470.21 1366.89 1470.21 Z\" fill=\"#000000\" fill-rule=\"nonzero\" fill-opacity=\"1\" /><path clip-path=\"url(#clip730)\" d=\"M1739.61 1481.64 L1747.25 1481.64 L1747.25 1455.28 L1738.94 1456.95 L1738.94 1452.69 L1747.2 1451.02 L1751.88 1451.02 L1751.88 1481.64 L1759.51 1481.64 L1759.51 1485.58 L1739.61 1485.58 L1739.61 1481.64 Z\" fill=\"#000000\" fill-rule=\"nonzero\" fill-opacity=\"1\" /><path clip-path=\"url(#clip730)\" d=\"M1772.99 1481.64 L1789.31 1481.64 L1789.31 1485.58 L1767.36 1485.58 L1767.36 1481.64 Q1770.02 1478.89 1774.61 1474.26 Q1779.21 1469.61 1780.39 1468.27 Q1782.64 1465.74 1783.52 1464.01 Q1784.42 1462.25 1784.42 1460.56 Q1784.42 1457.8 1782.48 1456.07 Q1780.56 1454.33 1777.45 1454.33 Q1775.25 1454.33 1772.8 1455.09 Q1770.37 1455.86 1767.59 1457.41 L1767.59 1452.69 Q1770.42 1451.55 1772.87 1450.97 Q1775.32 1450.39 1777.36 1450.39 Q1782.73 1450.39 1785.93 1453.08 Q1789.12 1455.77 1789.12 1460.26 Q1789.12 1462.39 1788.31 1464.31 Q1787.52 1466.2 1785.42 1468.8 Q1784.84 1469.47 1781.74 1472.69 Q1778.63 1475.88 1772.99 1481.64 Z\" fill=\"#000000\" fill-rule=\"nonzero\" fill-opacity=\"1\" /><path clip-path=\"url(#clip730)\" d=\"M2136.14 1481.64 L2143.78 1481.64 L2143.78 1455.28 L2135.47 1456.95 L2135.47 1452.69 L2143.73 1451.02 L2148.41 1451.02 L2148.41 1481.64 L2156.05 1481.64 L2156.05 1485.58 L2136.14 1485.58 L2136.14 1481.64 Z\" fill=\"#000000\" fill-rule=\"nonzero\" fill-opacity=\"1\" /><path clip-path=\"url(#clip730)\" d=\"M2165.54 1451.02 L2183.89 1451.02 L2183.89 1454.96 L2169.82 1454.96 L2169.82 1463.43 Q2170.84 1463.08 2171.86 1462.92 Q2172.87 1462.73 2173.89 1462.73 Q2179.68 1462.73 2183.06 1465.9 Q2186.44 1469.08 2186.44 1474.49 Q2186.44 1480.07 2182.97 1483.17 Q2179.49 1486.25 2173.18 1486.25 Q2171 1486.25 2168.73 1485.88 Q2166.49 1485.51 2164.08 1484.77 L2164.08 1480.07 Q2166.16 1481.2 2168.38 1481.76 Q2170.61 1482.32 2173.08 1482.32 Q2177.09 1482.32 2179.43 1480.21 Q2181.76 1478.1 2181.76 1474.49 Q2181.76 1470.88 2179.43 1468.77 Q2177.09 1466.67 2173.08 1466.67 Q2171.21 1466.67 2169.33 1467.08 Q2167.48 1467.5 2165.54 1468.38 L2165.54 1451.02 Z\" fill=\"#000000\" fill-rule=\"nonzero\" fill-opacity=\"1\" /><path clip-path=\"url(#clip730)\" d=\"M970.451 1520.52 L976.88 1520.52 L976.88 1568.04 L970.451 1568.04 L970.451 1520.52 Z\" fill=\"#000000\" fill-rule=\"nonzero\" fill-opacity=\"1\" /><path clip-path=\"url(#clip730)\" d=\"M995.213 1522.27 L995.213 1532.4 L1007.28 1532.4 L1007.28 1536.95 L995.213 1536.95 L995.213 1556.3 Q995.213 1560.66 996.391 1561.9 Q997.6 1563.14 1001.26 1563.14 L1007.28 1563.14 L1007.28 1568.04 L1001.26 1568.04 Q994.481 1568.04 991.903 1565.53 Q989.325 1562.98 989.325 1556.3 L989.325 1536.95 L985.028 1536.95 L985.028 1532.4 L989.325 1532.4 L989.325 1522.27 L995.213 1522.27 Z\" fill=\"#000000\" fill-rule=\"nonzero\" fill-opacity=\"1\" /><path clip-path=\"url(#clip730)\" d=\"M1045.47 1548.76 L1045.47 1551.62 L1018.54 1551.62 Q1018.93 1557.67 1022.17 1560.85 Q1025.45 1564 1031.27 1564 Q1034.65 1564 1037.8 1563.17 Q1040.98 1562.35 1044.1 1560.69 L1044.1 1566.23 Q1040.95 1567.57 1037.64 1568.27 Q1034.33 1568.97 1030.92 1568.97 Q1022.39 1568.97 1017.4 1564 Q1012.43 1559.04 1012.43 1550.57 Q1012.43 1541.82 1017.14 1536.69 Q1021.89 1531.54 1029.91 1531.54 Q1037.1 1531.54 1041.27 1536.18 Q1045.47 1540.8 1045.47 1548.76 M1039.61 1547.04 Q1039.55 1542.23 1036.91 1539.37 Q1034.3 1536.5 1029.97 1536.5 Q1025.07 1536.5 1022.11 1539.27 Q1019.18 1542.04 1018.73 1547.07 L1039.61 1547.04 Z\" fill=\"#000000\" fill-rule=\"nonzero\" fill-opacity=\"1\" /><path clip-path=\"url(#clip730)\" d=\"M1075.74 1537.87 Q1074.75 1537.3 1073.57 1537.04 Q1072.43 1536.76 1071.03 1536.76 Q1066.06 1536.76 1063.39 1540 Q1060.75 1543.22 1060.75 1549.27 L1060.75 1568.04 L1054.86 1568.04 L1054.86 1532.4 L1060.75 1532.4 L1060.75 1537.93 Q1062.59 1534.69 1065.55 1533.13 Q1068.51 1531.54 1072.75 1531.54 Q1073.35 1531.54 1074.08 1531.63 Q1074.82 1531.7 1075.71 1531.85 L1075.74 1537.87 Z\" fill=\"#000000\" fill-rule=\"nonzero\" fill-opacity=\"1\" /><path clip-path=\"url(#clip730)\" d=\"M1098.08 1550.12 Q1090.99 1550.12 1088.25 1551.75 Q1085.51 1553.37 1085.51 1557.29 Q1085.51 1560.4 1087.55 1562.25 Q1089.62 1564.07 1093.15 1564.07 Q1098.02 1564.07 1100.95 1560.63 Q1103.91 1557.16 1103.91 1551.43 L1103.91 1550.12 L1098.08 1550.12 M1109.76 1547.71 L1109.76 1568.04 L1103.91 1568.04 L1103.91 1562.63 Q1101.9 1565.88 1098.91 1567.44 Q1095.92 1568.97 1091.59 1568.97 Q1086.12 1568.97 1082.87 1565.91 Q1079.65 1562.82 1079.65 1557.67 Q1079.65 1551.65 1083.66 1548.6 Q1087.71 1545.54 1095.7 1545.54 L1103.91 1545.54 L1103.91 1544.97 Q1103.91 1540.93 1101.23 1538.73 Q1098.59 1536.5 1093.79 1536.5 Q1090.73 1536.5 1087.83 1537.23 Q1084.94 1537.97 1082.26 1539.43 L1082.26 1534.02 Q1085.48 1532.78 1088.5 1532.17 Q1091.53 1531.54 1094.39 1531.54 Q1102.13 1531.54 1105.94 1535.55 Q1109.76 1539.56 1109.76 1547.71 Z\" fill=\"#000000\" fill-rule=\"nonzero\" fill-opacity=\"1\" /><path clip-path=\"url(#clip730)\" d=\"M1127.62 1522.27 L1127.62 1532.4 L1139.68 1532.4 L1139.68 1536.95 L1127.62 1536.95 L1127.62 1556.3 Q1127.62 1560.66 1128.8 1561.9 Q1130.01 1563.14 1133.67 1563.14 L1139.68 1563.14 L1139.68 1568.04 L1133.67 1568.04 Q1126.89 1568.04 1124.31 1565.53 Q1121.73 1562.98 1121.73 1556.3 L1121.73 1536.95 L1117.43 1536.95 L1117.43 1532.4 L1121.73 1532.4 L1121.73 1522.27 L1127.62 1522.27 Z\" fill=\"#000000\" fill-rule=\"nonzero\" fill-opacity=\"1\" /><path clip-path=\"url(#clip730)\" d=\"M1147.39 1532.4 L1153.24 1532.4 L1153.24 1568.04 L1147.39 1568.04 L1147.39 1532.4 M1147.39 1518.52 L1153.24 1518.52 L1153.24 1525.93 L1147.39 1525.93 L1147.39 1518.52 Z\" fill=\"#000000\" fill-rule=\"nonzero\" fill-opacity=\"1\" /><path clip-path=\"url(#clip730)\" d=\"M1179.31 1536.5 Q1174.6 1536.5 1171.86 1540.19 Q1169.12 1543.85 1169.12 1550.25 Q1169.12 1556.65 1171.83 1560.34 Q1174.57 1564 1179.31 1564 Q1183.99 1564 1186.73 1560.31 Q1189.46 1556.62 1189.46 1550.25 Q1189.46 1543.92 1186.73 1540.23 Q1183.99 1536.5 1179.31 1536.5 M1179.31 1531.54 Q1186.95 1531.54 1191.31 1536.5 Q1195.67 1541.47 1195.67 1550.25 Q1195.67 1559 1191.31 1564 Q1186.95 1568.97 1179.31 1568.97 Q1171.64 1568.97 1167.28 1564 Q1162.95 1559 1162.95 1550.25 Q1162.95 1541.47 1167.28 1536.5 Q1171.64 1531.54 1179.31 1531.54 Z\" fill=\"#000000\" fill-rule=\"nonzero\" fill-opacity=\"1\" /><path clip-path=\"url(#clip730)\" d=\"M1235.01 1546.53 L1235.01 1568.04 L1229.15 1568.04 L1229.15 1546.72 Q1229.15 1541.66 1227.18 1539.14 Q1225.21 1536.63 1221.26 1536.63 Q1216.52 1536.63 1213.78 1539.65 Q1211.04 1542.68 1211.04 1547.9 L1211.04 1568.04 L1205.15 1568.04 L1205.15 1532.4 L1211.04 1532.4 L1211.04 1537.93 Q1213.14 1534.72 1215.98 1533.13 Q1218.84 1531.54 1222.56 1531.54 Q1228.71 1531.54 1231.86 1535.36 Q1235.01 1539.14 1235.01 1546.53 Z\" fill=\"#000000\" fill-rule=\"nonzero\" fill-opacity=\"1\" /><path clip-path=\"url(#clip730)\" d=\"M1269.42 1533.45 L1269.42 1538.98 Q1266.93 1537.71 1264.26 1537.07 Q1261.59 1536.44 1258.72 1536.44 Q1254.36 1536.44 1252.16 1537.77 Q1250 1539.11 1250 1541.79 Q1250 1543.82 1251.56 1545 Q1253.12 1546.15 1257.83 1547.2 L1259.84 1547.64 Q1266.07 1548.98 1268.68 1551.43 Q1271.33 1553.85 1271.33 1558.21 Q1271.33 1563.17 1267.38 1566.07 Q1263.46 1568.97 1256.59 1568.97 Q1253.72 1568.97 1250.61 1568.39 Q1247.52 1567.85 1244.08 1566.74 L1244.08 1560.69 Q1247.33 1562.38 1250.48 1563.24 Q1253.63 1564.07 1256.72 1564.07 Q1260.85 1564.07 1263.08 1562.66 Q1265.31 1561.23 1265.31 1558.65 Q1265.31 1556.27 1263.69 1554.99 Q1262.1 1553.72 1256.65 1552.54 L1254.62 1552.07 Q1249.17 1550.92 1246.75 1548.56 Q1244.34 1546.18 1244.34 1542.04 Q1244.34 1537.01 1247.9 1534.27 Q1251.46 1531.54 1258.02 1531.54 Q1261.27 1531.54 1264.13 1532.01 Q1267 1532.49 1269.42 1533.45 Z\" fill=\"#000000\" fill-rule=\"nonzero\" fill-opacity=\"1\" /><path clip-path=\"url(#clip730)\" d=\"M1301.37 1532.4 L1307.23 1532.4 L1307.23 1568.04 L1301.37 1568.04 L1301.37 1532.4 M1301.37 1518.52 L1307.23 1518.52 L1307.23 1525.93 L1301.37 1525.93 L1301.37 1518.52 Z\" fill=\"#000000\" fill-rule=\"nonzero\" fill-opacity=\"1\" /><path clip-path=\"url(#clip730)\" d=\"M1349.11 1546.53 L1349.11 1568.04 L1343.26 1568.04 L1343.26 1546.72 Q1343.26 1541.66 1341.28 1539.14 Q1339.31 1536.63 1335.36 1536.63 Q1330.62 1536.63 1327.88 1539.65 Q1325.15 1542.68 1325.15 1547.9 L1325.15 1568.04 L1319.26 1568.04 L1319.26 1532.4 L1325.15 1532.4 L1325.15 1537.93 Q1327.25 1534.72 1330.08 1533.13 Q1332.95 1531.54 1336.67 1531.54 Q1342.81 1531.54 1345.96 1535.36 Q1349.11 1539.14 1349.11 1546.53 Z\" fill=\"#000000\" fill-rule=\"nonzero\" fill-opacity=\"1\" /><path clip-path=\"url(#clip730)\" d=\"M1384.25 1537.81 L1384.25 1518.52 L1390.11 1518.52 L1390.11 1568.04 L1384.25 1568.04 L1384.25 1562.7 Q1382.41 1565.88 1379.57 1567.44 Q1376.77 1568.97 1372.83 1568.97 Q1366.37 1568.97 1362.29 1563.81 Q1358.25 1558.65 1358.25 1550.25 Q1358.25 1541.85 1362.29 1536.69 Q1366.37 1531.54 1372.83 1531.54 Q1376.77 1531.54 1379.57 1533.1 Q1382.41 1534.62 1384.25 1537.81 M1364.3 1550.25 Q1364.3 1556.71 1366.94 1560.4 Q1369.61 1564.07 1374.26 1564.07 Q1378.91 1564.07 1381.58 1560.4 Q1384.25 1556.71 1384.25 1550.25 Q1384.25 1543.79 1381.58 1540.13 Q1378.91 1536.44 1374.26 1536.44 Q1369.61 1536.44 1366.94 1540.13 Q1364.3 1543.79 1364.3 1550.25 Z\" fill=\"#000000\" fill-rule=\"nonzero\" fill-opacity=\"1\" /><path clip-path=\"url(#clip730)\" d=\"M1432.66 1548.76 L1432.66 1551.62 L1405.74 1551.62 Q1406.12 1557.67 1409.37 1560.85 Q1412.64 1564 1418.47 1564 Q1421.84 1564 1424.99 1563.17 Q1428.18 1562.35 1431.3 1560.69 L1431.3 1566.23 Q1428.14 1567.57 1424.83 1568.27 Q1421.52 1568.97 1418.12 1568.97 Q1409.59 1568.97 1404.59 1564 Q1399.63 1559.04 1399.63 1550.57 Q1399.63 1541.82 1404.34 1536.69 Q1409.08 1531.54 1417.1 1531.54 Q1424.29 1531.54 1428.46 1536.18 Q1432.66 1540.8 1432.66 1548.76 M1426.81 1547.04 Q1426.74 1542.23 1424.1 1539.37 Q1421.49 1536.5 1417.16 1536.5 Q1412.26 1536.5 1409.3 1539.27 Q1406.37 1542.04 1405.93 1547.07 L1426.81 1547.04 Z\" fill=\"#000000\" fill-rule=\"nonzero\" fill-opacity=\"1\" /><path clip-path=\"url(#clip730)\" d=\"M1470.76 1532.4 L1457.87 1549.74 L1471.43 1568.04 L1464.52 1568.04 L1454.15 1554.04 L1443.77 1568.04 L1436.87 1568.04 L1450.71 1549.39 L1438.04 1532.4 L1444.95 1532.4 L1454.4 1545.1 L1463.86 1532.4 L1470.76 1532.4 Z\" fill=\"#000000\" fill-rule=\"nonzero\" fill-opacity=\"1\" /><path clip-path=\"url(#clip730)\" d=\"M1514.5 1518.58 Q1510.23 1525.9 1508.16 1533.06 Q1506.09 1540.23 1506.09 1547.58 Q1506.09 1554.93 1508.16 1562.16 Q1510.26 1569.35 1514.5 1576.64 L1509.4 1576.64 Q1504.63 1569.16 1502.24 1561.93 Q1499.89 1554.71 1499.89 1547.58 Q1499.89 1540.48 1502.24 1533.29 Q1504.6 1526.09 1509.4 1518.58 L1514.5 1518.58 Z\" fill=\"#000000\" fill-rule=\"nonzero\" fill-opacity=\"1\" /><path clip-path=\"url(#clip730)\" d=\"M1542 1526.86 L1533.27 1550.51 L1550.75 1550.51 L1542 1526.86 M1538.37 1520.52 L1545.66 1520.52 L1563.77 1568.04 L1557.08 1568.04 L1552.75 1555.85 L1531.33 1555.85 L1527 1568.04 L1520.22 1568.04 L1538.37 1520.52 Z\" fill=\"#000000\" fill-rule=\"nonzero\" fill-opacity=\"1\" /><path clip-path=\"url(#clip730)\" d=\"M1569.97 1520.52 L1576.43 1520.52 L1576.43 1549.39 Q1576.43 1557.03 1579.2 1560.4 Q1581.97 1563.75 1588.18 1563.75 Q1594.35 1563.75 1597.12 1560.4 Q1599.89 1557.03 1599.89 1549.39 L1599.89 1520.52 L1606.35 1520.52 L1606.35 1550.19 Q1606.35 1559.48 1601.74 1564.22 Q1597.15 1568.97 1588.18 1568.97 Q1579.17 1568.97 1574.56 1564.22 Q1569.97 1559.48 1569.97 1550.19 L1569.97 1520.52 Z\" fill=\"#000000\" fill-rule=\"nonzero\" fill-opacity=\"1\" /><path clip-path=\"url(#clip730)\" d=\"M1617.24 1518.58 L1622.33 1518.58 Q1627.1 1526.09 1629.46 1533.29 Q1631.85 1540.48 1631.85 1547.58 Q1631.85 1554.71 1629.46 1561.93 Q1627.1 1569.16 1622.33 1576.64 L1617.24 1576.64 Q1621.47 1569.35 1623.54 1562.16 Q1625.64 1554.93 1625.64 1547.58 Q1625.64 1540.23 1623.54 1533.06 Q1621.47 1525.9 1617.24 1518.58 Z\" fill=\"#000000\" fill-rule=\"nonzero\" fill-opacity=\"1\" /><polyline clip-path=\"url(#clip730)\" style=\"stroke:#000000; stroke-linecap:round; stroke-linejoin:round; stroke-width:4; stroke-opacity:1; fill:none\" points=\"249.542,1423.18 249.542,47.2441 \"/>\n",
       "<polyline clip-path=\"url(#clip730)\" style=\"stroke:#000000; stroke-linecap:round; stroke-linejoin:round; stroke-width:4; stroke-opacity:1; fill:none\" points=\"249.542,1384.24 268.44,1384.24 \"/>\n",
       "<polyline clip-path=\"url(#clip730)\" style=\"stroke:#000000; stroke-linecap:round; stroke-linejoin:round; stroke-width:4; stroke-opacity:1; fill:none\" points=\"249.542,1059.73 268.44,1059.73 \"/>\n",
       "<polyline clip-path=\"url(#clip730)\" style=\"stroke:#000000; stroke-linecap:round; stroke-linejoin:round; stroke-width:4; stroke-opacity:1; fill:none\" points=\"249.542,735.212 268.44,735.212 \"/>\n",
       "<polyline clip-path=\"url(#clip730)\" style=\"stroke:#000000; stroke-linecap:round; stroke-linejoin:round; stroke-width:4; stroke-opacity:1; fill:none\" points=\"249.542,410.699 268.44,410.699 \"/>\n",
       "<polyline clip-path=\"url(#clip730)\" style=\"stroke:#000000; stroke-linecap:round; stroke-linejoin:round; stroke-width:4; stroke-opacity:1; fill:none\" points=\"249.542,86.1857 268.44,86.1857 \"/>\n",
       "<path clip-path=\"url(#clip730)\" d=\"M126.205 1370.04 Q122.593 1370.04 120.765 1373.6 Q118.959 1377.14 118.959 1384.27 Q118.959 1391.38 120.765 1394.94 Q122.593 1398.49 126.205 1398.49 Q129.839 1398.49 131.644 1394.94 Q133.473 1391.38 133.473 1384.27 Q133.473 1377.14 131.644 1373.6 Q129.839 1370.04 126.205 1370.04 M126.205 1366.33 Q132.015 1366.33 135.07 1370.94 Q138.149 1375.52 138.149 1384.27 Q138.149 1393 135.07 1397.61 Q132.015 1402.19 126.205 1402.19 Q120.394 1402.19 117.316 1397.61 Q114.26 1393 114.26 1384.27 Q114.26 1375.52 117.316 1370.94 Q120.394 1366.33 126.205 1366.33 Z\" fill=\"#000000\" fill-rule=\"nonzero\" fill-opacity=\"1\" /><path clip-path=\"url(#clip730)\" d=\"M146.366 1395.64 L151.251 1395.64 L151.251 1401.52 L146.366 1401.52 L146.366 1395.64 Z\" fill=\"#000000\" fill-rule=\"nonzero\" fill-opacity=\"1\" /><path clip-path=\"url(#clip730)\" d=\"M171.436 1370.04 Q167.825 1370.04 165.996 1373.6 Q164.19 1377.14 164.19 1384.27 Q164.19 1391.38 165.996 1394.94 Q167.825 1398.49 171.436 1398.49 Q175.07 1398.49 176.876 1394.94 Q178.704 1391.38 178.704 1384.27 Q178.704 1377.14 176.876 1373.6 Q175.07 1370.04 171.436 1370.04 M171.436 1366.33 Q177.246 1366.33 180.301 1370.94 Q183.38 1375.52 183.38 1384.27 Q183.38 1393 180.301 1397.61 Q177.246 1402.19 171.436 1402.19 Q165.626 1402.19 162.547 1397.61 Q159.491 1393 159.491 1384.27 Q159.491 1375.52 162.547 1370.94 Q165.626 1366.33 171.436 1366.33 Z\" fill=\"#000000\" fill-rule=\"nonzero\" fill-opacity=\"1\" /><path clip-path=\"url(#clip730)\" d=\"M201.598 1370.04 Q197.987 1370.04 196.158 1373.6 Q194.352 1377.14 194.352 1384.27 Q194.352 1391.38 196.158 1394.94 Q197.987 1398.49 201.598 1398.49 Q205.232 1398.49 207.037 1394.94 Q208.866 1391.38 208.866 1384.27 Q208.866 1377.14 207.037 1373.6 Q205.232 1370.04 201.598 1370.04 M201.598 1366.33 Q207.408 1366.33 210.463 1370.94 Q213.542 1375.52 213.542 1384.27 Q213.542 1393 210.463 1397.61 Q207.408 1402.19 201.598 1402.19 Q195.787 1402.19 192.709 1397.61 Q189.653 1393 189.653 1384.27 Q189.653 1375.52 192.709 1370.94 Q195.787 1366.33 201.598 1366.33 Z\" fill=\"#000000\" fill-rule=\"nonzero\" fill-opacity=\"1\" /><path clip-path=\"url(#clip730)\" d=\"M127.2 1045.52 Q123.589 1045.52 121.76 1049.09 Q119.955 1052.63 119.955 1059.76 Q119.955 1066.87 121.76 1070.43 Q123.589 1073.97 127.2 1073.97 Q130.834 1073.97 132.64 1070.43 Q134.468 1066.87 134.468 1059.76 Q134.468 1052.63 132.64 1049.09 Q130.834 1045.52 127.2 1045.52 M127.2 1041.82 Q133.01 1041.82 136.066 1046.43 Q139.144 1051.01 139.144 1059.76 Q139.144 1068.49 136.066 1073.09 Q133.01 1077.68 127.2 1077.68 Q121.39 1077.68 118.311 1073.09 Q115.256 1068.49 115.256 1059.76 Q115.256 1051.01 118.311 1046.43 Q121.39 1041.82 127.2 1041.82 Z\" fill=\"#000000\" fill-rule=\"nonzero\" fill-opacity=\"1\" /><path clip-path=\"url(#clip730)\" d=\"M147.362 1071.13 L152.246 1071.13 L152.246 1077.01 L147.362 1077.01 L147.362 1071.13 Z\" fill=\"#000000\" fill-rule=\"nonzero\" fill-opacity=\"1\" /><path clip-path=\"url(#clip730)\" d=\"M166.459 1073.07 L182.778 1073.07 L182.778 1077.01 L160.834 1077.01 L160.834 1073.07 Q163.496 1070.32 168.079 1065.69 Q172.686 1061.03 173.866 1059.69 Q176.112 1057.17 176.991 1055.43 Q177.894 1053.67 177.894 1051.98 Q177.894 1049.23 175.95 1047.49 Q174.028 1045.76 170.927 1045.76 Q168.727 1045.76 166.274 1046.52 Q163.843 1047.28 161.065 1048.83 L161.065 1044.11 Q163.89 1042.98 166.343 1042.4 Q168.797 1041.82 170.834 1041.82 Q176.204 1041.82 179.399 1044.51 Q182.593 1047.19 182.593 1051.68 Q182.593 1053.81 181.783 1055.73 Q180.996 1057.63 178.889 1060.22 Q178.311 1060.89 175.209 1064.11 Q172.107 1067.31 166.459 1073.07 Z\" fill=\"#000000\" fill-rule=\"nonzero\" fill-opacity=\"1\" /><path clip-path=\"url(#clip730)\" d=\"M192.639 1042.45 L210.996 1042.45 L210.996 1046.38 L196.922 1046.38 L196.922 1054.85 Q197.94 1054.51 198.959 1054.34 Q199.977 1054.16 200.996 1054.16 Q206.783 1054.16 210.162 1057.33 Q213.542 1060.5 213.542 1065.92 Q213.542 1071.5 210.07 1074.6 Q206.598 1077.68 200.278 1077.68 Q198.102 1077.68 195.834 1077.31 Q193.588 1076.94 191.181 1076.19 L191.181 1071.5 Q193.264 1072.63 195.487 1073.19 Q197.709 1073.74 200.186 1073.74 Q204.19 1073.74 206.528 1071.63 Q208.866 1069.53 208.866 1065.92 Q208.866 1062.31 206.528 1060.2 Q204.19 1058.09 200.186 1058.09 Q198.311 1058.09 196.436 1058.51 Q194.584 1058.93 192.639 1059.81 L192.639 1042.45 Z\" fill=\"#000000\" fill-rule=\"nonzero\" fill-opacity=\"1\" /><path clip-path=\"url(#clip730)\" d=\"M126.205 721.011 Q122.593 721.011 120.765 724.575 Q118.959 728.117 118.959 735.247 Q118.959 742.353 120.765 745.918 Q122.593 749.46 126.205 749.46 Q129.839 749.46 131.644 745.918 Q133.473 742.353 133.473 735.247 Q133.473 728.117 131.644 724.575 Q129.839 721.011 126.205 721.011 M126.205 717.307 Q132.015 717.307 135.07 721.913 Q138.149 726.497 138.149 735.247 Q138.149 743.973 135.07 748.58 Q132.015 753.163 126.205 753.163 Q120.394 753.163 117.316 748.58 Q114.26 743.973 114.26 735.247 Q114.26 726.497 117.316 721.913 Q120.394 717.307 126.205 717.307 Z\" fill=\"#000000\" fill-rule=\"nonzero\" fill-opacity=\"1\" /><path clip-path=\"url(#clip730)\" d=\"M146.366 746.612 L151.251 746.612 L151.251 752.492 L146.366 752.492 L146.366 746.612 Z\" fill=\"#000000\" fill-rule=\"nonzero\" fill-opacity=\"1\" /><path clip-path=\"url(#clip730)\" d=\"M161.482 717.932 L179.839 717.932 L179.839 721.867 L165.765 721.867 L165.765 730.339 Q166.783 729.992 167.802 729.83 Q168.82 729.645 169.839 729.645 Q175.626 729.645 179.005 732.816 Q182.385 735.987 182.385 741.404 Q182.385 746.983 178.913 750.085 Q175.44 753.163 169.121 753.163 Q166.945 753.163 164.677 752.793 Q162.431 752.423 160.024 751.682 L160.024 746.983 Q162.107 748.117 164.329 748.673 Q166.552 749.228 169.028 749.228 Q173.033 749.228 175.371 747.122 Q177.709 745.015 177.709 741.404 Q177.709 737.793 175.371 735.687 Q173.033 733.58 169.028 733.58 Q167.153 733.58 165.278 733.997 Q163.427 734.413 161.482 735.293 L161.482 717.932 Z\" fill=\"#000000\" fill-rule=\"nonzero\" fill-opacity=\"1\" /><path clip-path=\"url(#clip730)\" d=\"M201.598 721.011 Q197.987 721.011 196.158 724.575 Q194.352 728.117 194.352 735.247 Q194.352 742.353 196.158 745.918 Q197.987 749.46 201.598 749.46 Q205.232 749.46 207.037 745.918 Q208.866 742.353 208.866 735.247 Q208.866 728.117 207.037 724.575 Q205.232 721.011 201.598 721.011 M201.598 717.307 Q207.408 717.307 210.463 721.913 Q213.542 726.497 213.542 735.247 Q213.542 743.973 210.463 748.58 Q207.408 753.163 201.598 753.163 Q195.787 753.163 192.709 748.58 Q189.653 743.973 189.653 735.247 Q189.653 726.497 192.709 721.913 Q195.787 717.307 201.598 717.307 Z\" fill=\"#000000\" fill-rule=\"nonzero\" fill-opacity=\"1\" /><path clip-path=\"url(#clip730)\" d=\"M127.2 396.498 Q123.589 396.498 121.76 400.062 Q119.955 403.604 119.955 410.734 Q119.955 417.84 121.76 421.405 Q123.589 424.946 127.2 424.946 Q130.834 424.946 132.64 421.405 Q134.468 417.84 134.468 410.734 Q134.468 403.604 132.64 400.062 Q130.834 396.498 127.2 396.498 M127.2 392.794 Q133.01 392.794 136.066 397.4 Q139.144 401.984 139.144 410.734 Q139.144 419.46 136.066 424.067 Q133.01 428.65 127.2 428.65 Q121.39 428.65 118.311 424.067 Q115.256 419.46 115.256 410.734 Q115.256 401.984 118.311 397.4 Q121.39 392.794 127.2 392.794 Z\" fill=\"#000000\" fill-rule=\"nonzero\" fill-opacity=\"1\" /><path clip-path=\"url(#clip730)\" d=\"M147.362 422.099 L152.246 422.099 L152.246 427.979 L147.362 427.979 L147.362 422.099 Z\" fill=\"#000000\" fill-rule=\"nonzero\" fill-opacity=\"1\" /><path clip-path=\"url(#clip730)\" d=\"M161.251 393.419 L183.473 393.419 L183.473 395.41 L170.927 427.979 L166.042 427.979 L177.848 397.354 L161.251 397.354 L161.251 393.419 Z\" fill=\"#000000\" fill-rule=\"nonzero\" fill-opacity=\"1\" /><path clip-path=\"url(#clip730)\" d=\"M192.639 393.419 L210.996 393.419 L210.996 397.354 L196.922 397.354 L196.922 405.826 Q197.94 405.479 198.959 405.317 Q199.977 405.132 200.996 405.132 Q206.783 405.132 210.162 408.303 Q213.542 411.474 213.542 416.891 Q213.542 422.47 210.07 425.571 Q206.598 428.65 200.278 428.65 Q198.102 428.65 195.834 428.28 Q193.588 427.909 191.181 427.169 L191.181 422.47 Q193.264 423.604 195.487 424.159 Q197.709 424.715 200.186 424.715 Q204.19 424.715 206.528 422.608 Q208.866 420.502 208.866 416.891 Q208.866 413.28 206.528 411.173 Q204.19 409.067 200.186 409.067 Q198.311 409.067 196.436 409.484 Q194.584 409.9 192.639 410.78 L192.639 393.419 Z\" fill=\"#000000\" fill-rule=\"nonzero\" fill-opacity=\"1\" /><path clip-path=\"url(#clip730)\" d=\"M117.015 99.5305 L124.654 99.5305 L124.654 73.1649 L116.343 74.8316 L116.343 70.5723 L124.607 68.9057 L129.283 68.9057 L129.283 99.5305 L136.922 99.5305 L136.922 103.466 L117.015 103.466 L117.015 99.5305 Z\" fill=\"#000000\" fill-rule=\"nonzero\" fill-opacity=\"1\" /><path clip-path=\"url(#clip730)\" d=\"M146.366 97.5861 L151.251 97.5861 L151.251 103.466 L146.366 103.466 L146.366 97.5861 Z\" fill=\"#000000\" fill-rule=\"nonzero\" fill-opacity=\"1\" /><path clip-path=\"url(#clip730)\" d=\"M171.436 71.9844 Q167.825 71.9844 165.996 75.5492 Q164.19 79.0908 164.19 86.2204 Q164.19 93.3268 165.996 96.8916 Q167.825 100.433 171.436 100.433 Q175.07 100.433 176.876 96.8916 Q178.704 93.3268 178.704 86.2204 Q178.704 79.0908 176.876 75.5492 Q175.07 71.9844 171.436 71.9844 M171.436 68.2807 Q177.246 68.2807 180.301 72.8871 Q183.38 77.4704 183.38 86.2204 Q183.38 94.9472 180.301 99.5537 Q177.246 104.137 171.436 104.137 Q165.626 104.137 162.547 99.5537 Q159.491 94.9472 159.491 86.2204 Q159.491 77.4704 162.547 72.8871 Q165.626 68.2807 171.436 68.2807 Z\" fill=\"#000000\" fill-rule=\"nonzero\" fill-opacity=\"1\" /><path clip-path=\"url(#clip730)\" d=\"M201.598 71.9844 Q197.987 71.9844 196.158 75.5492 Q194.352 79.0908 194.352 86.2204 Q194.352 93.3268 196.158 96.8916 Q197.987 100.433 201.598 100.433 Q205.232 100.433 207.037 96.8916 Q208.866 93.3268 208.866 86.2204 Q208.866 79.0908 207.037 75.5492 Q205.232 71.9844 201.598 71.9844 M201.598 68.2807 Q207.408 68.2807 210.463 72.8871 Q213.542 77.4704 213.542 86.2204 Q213.542 94.9472 210.463 99.5537 Q207.408 104.137 201.598 104.137 Q195.787 104.137 192.709 99.5537 Q189.653 94.9472 189.653 86.2204 Q189.653 77.4704 192.709 72.8871 Q195.787 68.2807 201.598 68.2807 Z\" fill=\"#000000\" fill-rule=\"nonzero\" fill-opacity=\"1\" /><path clip-path=\"url(#clip730)\" d=\"M20.7174 1219.98 Q20.7174 1224.94 25.6189 1227.46 Q30.4887 1229.94 40.2919 1229.94 Q50.0633 1229.94 54.9649 1227.46 Q59.8346 1224.94 59.8346 1219.98 Q59.8346 1214.98 54.9649 1212.5 Q50.0633 1209.98 40.2919 1209.98 Q30.4887 1209.98 25.6189 1212.5 Q20.7174 1214.98 20.7174 1219.98 M15.6248 1219.98 Q15.6248 1211.99 21.9587 1207.79 Q28.2607 1203.55 40.2919 1203.55 Q52.2913 1203.55 58.6251 1207.79 Q64.9272 1211.99 64.9272 1219.98 Q64.9272 1227.97 58.6251 1232.2 Q52.2913 1236.4 40.2919 1236.4 Q28.2607 1236.4 21.9587 1232.2 Q15.6248 1227.97 15.6248 1219.98 Z\" fill=\"#000000\" fill-rule=\"nonzero\" fill-opacity=\"1\" /><path clip-path=\"url(#clip730)\" d=\"M55.9197 1191.59 L55.9197 1184.87 L61.3942 1184.87 L71.5793 1190.09 L71.5793 1194.2 L61.3942 1191.59 L55.9197 1191.59 Z\" fill=\"#000000\" fill-rule=\"nonzero\" fill-opacity=\"1\" /><path clip-path=\"url(#clip730)\" d=\"M58.5933 1170.42 L58.5933 1159.92 L22.3406 1159.92 L24.6323 1171.34 L18.7758 1171.34 L16.4842 1159.98 L16.4842 1153.55 L58.5933 1153.55 L58.5933 1143.05 L64.0042 1143.05 L64.0042 1170.42 L58.5933 1170.42 Z\" fill=\"#000000\" fill-rule=\"nonzero\" fill-opacity=\"1\" /><path clip-path=\"url(#clip730)\" d=\"M43.5384 1133.85 L43.5384 1116.69 L48.7583 1116.69 L48.7583 1133.85 L43.5384 1133.85 Z\" fill=\"#000000\" fill-rule=\"nonzero\" fill-opacity=\"1\" /><path clip-path=\"url(#clip730)\" d=\"M18.0438 1078.63 L24.314 1078.63 Q22.5634 1082.29 21.704 1085.53 Q20.8447 1088.78 20.8447 1091.8 Q20.8447 1097.05 22.8817 1099.92 Q24.9187 1102.75 28.6745 1102.75 Q31.8255 1102.75 33.4488 1100.87 Q35.0402 1098.96 36.0269 1093.68 L36.8226 1089.8 Q38.1912 1082.6 41.6605 1079.2 Q45.098 1075.76 50.8908 1075.76 Q57.7976 1075.76 61.3624 1080.41 Q64.9272 1085.02 64.9272 1093.97 Q64.9272 1097.34 64.1633 1101.16 Q63.3994 1104.95 61.9035 1109.02 L55.2831 1109.02 Q57.4793 1105.11 58.5933 1101.35 Q59.7073 1097.6 59.7073 1093.97 Q59.7073 1088.46 57.543 1085.47 Q55.3786 1082.48 51.3682 1082.48 Q47.8671 1082.48 45.8937 1084.64 Q43.9204 1086.77 42.9337 1091.68 L42.1698 1095.59 Q40.7375 1102.78 37.682 1106 Q34.6264 1109.21 29.1837 1109.21 Q22.8817 1109.21 19.2532 1104.79 Q15.6248 1100.33 15.6248 1092.53 Q15.6248 1089.19 16.2295 1085.72 Q16.8343 1082.25 18.0438 1078.63 Z\" fill=\"#000000\" fill-rule=\"nonzero\" fill-opacity=\"1\" /><path clip-path=\"url(#clip730)\" d=\"M29.7248 1040.34 L35.1993 1040.34 Q33.8307 1042.82 33.1623 1045.33 Q32.4621 1047.82 32.4621 1050.36 Q32.4621 1056.06 36.0905 1059.21 Q39.6872 1062.36 46.212 1062.36 Q52.7369 1062.36 56.3653 1059.21 Q59.9619 1056.06 59.9619 1050.36 Q59.9619 1047.82 59.2935 1045.33 Q58.5933 1042.82 57.2247 1040.34 L62.6355 1040.34 Q63.7814 1042.79 64.3543 1045.43 Q64.9272 1048.04 64.9272 1051 Q64.9272 1059.05 59.8664 1063.79 Q54.8057 1068.54 46.212 1068.54 Q37.491 1068.54 32.4939 1063.76 Q27.4968 1058.96 27.4968 1050.62 Q27.4968 1047.91 28.0697 1045.33 Q28.6108 1042.76 29.7248 1040.34 Z\" fill=\"#000000\" fill-rule=\"nonzero\" fill-opacity=\"1\" /><path clip-path=\"url(#clip730)\" d=\"M46.0847 1013.95 Q46.0847 1021.05 47.7079 1023.79 Q49.3312 1026.52 53.2461 1026.52 Q56.3653 1026.52 58.2114 1024.49 Q60.0256 1022.42 60.0256 1018.88 Q60.0256 1014.01 56.5881 1011.09 Q53.1188 1008.13 47.3897 1008.13 L46.0847 1008.13 L46.0847 1013.95 M43.6657 1002.27 L64.0042 1002.27 L64.0042 1008.13 L58.5933 1008.13 Q61.8398 1010.13 63.3994 1013.12 Q64.9272 1016.11 64.9272 1020.44 Q64.9272 1025.92 61.8716 1029.16 Q58.7843 1032.38 53.6281 1032.38 Q47.6125 1032.38 44.5569 1028.37 Q41.5014 1024.33 41.5014 1016.34 L41.5014 1008.13 L40.9285 1008.13 Q36.8862 1008.13 34.6901 1010.8 Q32.4621 1013.44 32.4621 1018.25 Q32.4621 1021.3 33.1941 1024.2 Q33.9262 1027.1 35.3903 1029.77 L29.9795 1029.77 Q28.7381 1026.55 28.1334 1023.53 Q27.4968 1020.51 27.4968 1017.64 Q27.4968 1009.91 31.5072 1006.09 Q35.5176 1002.27 43.6657 1002.27 Z\" fill=\"#000000\" fill-rule=\"nonzero\" fill-opacity=\"1\" /><path clip-path=\"url(#clip730)\" d=\"M14.479 990.206 L14.479 984.35 L64.0042 984.35 L64.0042 990.206 L14.479 990.206 Z\" fill=\"#000000\" fill-rule=\"nonzero\" fill-opacity=\"1\" /><path clip-path=\"url(#clip730)\" d=\"M44.7161 941.604 L47.5806 941.604 L47.5806 968.531 Q53.6281 968.149 56.8109 964.903 Q59.9619 961.624 59.9619 955.8 Q59.9619 952.426 59.1344 949.275 Q58.3069 946.092 56.6518 942.973 L62.1899 942.973 Q63.5267 946.124 64.227 949.434 Q64.9272 952.744 64.9272 956.15 Q64.9272 964.68 59.9619 969.677 Q54.9967 974.642 46.5303 974.642 Q37.7774 974.642 32.6531 969.931 Q27.4968 965.189 27.4968 957.168 Q27.4968 949.975 32.1438 945.805 Q36.7589 941.604 44.7161 941.604 M42.9973 947.461 Q38.1912 947.524 35.3266 950.166 Q32.4621 952.776 32.4621 957.105 Q32.4621 962.006 35.2312 964.966 Q38.0002 967.894 43.0292 968.34 L42.9973 947.461 Z\" fill=\"#000000\" fill-rule=\"nonzero\" fill-opacity=\"1\" /><path clip-path=\"url(#clip730)\" d=\"M33.7671 908.534 L14.479 908.534 L14.479 902.678 L64.0042 902.678 L64.0042 908.534 L58.657 908.534 Q61.8398 910.38 63.3994 913.213 Q64.9272 916.014 64.9272 919.961 Q64.9272 926.422 59.771 930.496 Q54.6147 934.538 46.212 934.538 Q37.8093 934.538 32.6531 930.496 Q27.4968 926.422 27.4968 919.961 Q27.4968 916.014 29.0564 913.213 Q30.5842 910.38 33.7671 908.534 M46.212 928.491 Q52.6732 928.491 56.3653 925.849 Q60.0256 923.175 60.0256 918.528 Q60.0256 913.881 56.3653 911.208 Q52.6732 908.534 46.212 908.534 Q39.7508 908.534 36.0905 911.208 Q32.3984 913.881 32.3984 918.528 Q32.3984 923.175 36.0905 925.849 Q39.7508 928.491 46.212 928.491 Z\" fill=\"#000000\" fill-rule=\"nonzero\" fill-opacity=\"1\" /><path clip-path=\"url(#clip730)\" d=\"M21.7677 863.21 L39.6235 863.21 L39.6235 855.126 Q39.6235 850.638 37.3 848.187 Q34.9765 845.737 30.6797 845.737 Q26.4147 845.737 24.0912 848.187 Q21.7677 850.638 21.7677 855.126 L21.7677 863.21 M16.4842 869.64 L16.4842 855.126 Q16.4842 847.137 20.1126 843.063 Q23.7092 838.957 30.6797 838.957 Q37.7138 838.957 41.3104 843.063 Q44.907 847.137 44.907 855.126 L44.907 863.21 L64.0042 863.21 L64.0042 869.64 L16.4842 869.64 Z\" fill=\"#000000\" fill-rule=\"nonzero\" fill-opacity=\"1\" /><path clip-path=\"url(#clip730)\" d=\"M29.4065 809.006 L34.9447 809.006 Q33.6716 811.489 33.035 814.163 Q32.3984 816.836 32.3984 819.701 Q32.3984 824.061 33.7352 826.257 Q35.072 828.422 37.7456 828.422 Q39.7826 828.422 40.9603 826.862 Q42.1061 825.303 43.1565 820.592 L43.6021 818.587 Q44.9389 812.348 47.3897 809.738 Q49.8086 807.097 54.1691 807.097 Q59.1344 807.097 62.0308 811.043 Q64.9272 814.958 64.9272 821.833 Q64.9272 824.698 64.3543 827.817 Q63.8132 830.904 62.6992 834.342 L56.6518 834.342 Q58.3387 831.095 59.198 827.944 Q60.0256 824.793 60.0256 821.706 Q60.0256 817.568 58.6251 815.34 Q57.1929 813.112 54.6147 813.112 Q52.2276 813.112 50.9545 814.736 Q49.6813 816.327 48.5037 821.77 L48.0262 823.807 Q46.8804 829.249 44.5251 831.668 Q42.138 834.087 38.0002 834.087 Q32.9713 834.087 30.2341 830.523 Q27.4968 826.958 27.4968 820.401 Q27.4968 817.155 27.9743 814.29 Q28.4517 811.425 29.4065 809.006 Z\" fill=\"#000000\" fill-rule=\"nonzero\" fill-opacity=\"1\" /><path clip-path=\"url(#clip730)\" d=\"M44.7161 767.279 L47.5806 767.279 L47.5806 794.206 Q53.6281 793.824 56.8109 790.578 Q59.9619 787.299 59.9619 781.475 Q59.9619 778.101 59.1344 774.95 Q58.3069 771.767 56.6518 768.648 L62.1899 768.648 Q63.5267 771.799 64.227 775.109 Q64.9272 778.419 64.9272 781.825 Q64.9272 790.355 59.9619 795.352 Q54.9967 800.317 46.5303 800.317 Q37.7774 800.317 32.6531 795.607 Q27.4968 790.864 27.4968 782.843 Q27.4968 775.65 32.1438 771.481 Q36.7589 767.279 44.7161 767.279 M42.9973 773.136 Q38.1912 773.199 35.3266 775.841 Q32.4621 778.451 32.4621 782.78 Q32.4621 787.681 35.2312 790.641 Q38.0002 793.57 43.0292 794.015 L42.9973 773.136 Z\" fill=\"#000000\" fill-rule=\"nonzero\" fill-opacity=\"1\" /><path clip-path=\"url(#clip730)\" d=\"M49.9359 758.272 L28.3562 758.272 L28.3562 752.415 L49.7131 752.415 Q54.7739 752.415 57.3202 750.442 Q59.8346 748.469 59.8346 744.522 Q59.8346 739.779 56.8109 737.042 Q53.7872 734.273 48.5673 734.273 L28.3562 734.273 L28.3562 728.417 L64.0042 728.417 L64.0042 734.273 L58.5296 734.273 Q61.7762 736.406 63.3676 739.238 Q64.9272 742.039 64.9272 745.763 Q64.9272 751.906 61.1078 755.089 Q57.2883 758.272 49.9359 758.272 M27.4968 743.535 L27.4968 743.535 Z\" fill=\"#000000\" fill-rule=\"nonzero\" fill-opacity=\"1\" /><path clip-path=\"url(#clip730)\" d=\"M33.7671 692.896 L14.479 692.896 L14.479 687.039 L64.0042 687.039 L64.0042 692.896 L58.657 692.896 Q61.8398 694.742 63.3994 697.575 Q64.9272 700.376 64.9272 704.322 Q64.9272 710.784 59.771 714.858 Q54.6147 718.9 46.212 718.9 Q37.8093 718.9 32.6531 714.858 Q27.4968 710.784 27.4968 704.322 Q27.4968 700.376 29.0564 697.575 Q30.5842 694.742 33.7671 692.896 M46.212 712.852 Q52.6732 712.852 56.3653 710.211 Q60.0256 707.537 60.0256 702.89 Q60.0256 698.243 56.3653 695.57 Q52.6732 692.896 46.212 692.896 Q39.7508 692.896 36.0905 695.57 Q32.3984 698.243 32.3984 702.89 Q32.3984 707.537 36.0905 710.211 Q39.7508 712.852 46.212 712.852 Z\" fill=\"#000000\" fill-rule=\"nonzero\" fill-opacity=\"1\" /><path clip-path=\"url(#clip730)\" d=\"M32.4621 661.163 Q32.4621 665.874 36.1542 668.611 Q39.8145 671.348 46.212 671.348 Q52.6095 671.348 56.3017 668.643 Q59.9619 665.905 59.9619 661.163 Q59.9619 656.484 56.2698 653.747 Q52.5777 651.01 46.212 651.01 Q39.8781 651.01 36.186 653.747 Q32.4621 656.484 32.4621 661.163 M27.4968 661.163 Q27.4968 653.524 32.4621 649.164 Q37.4273 644.803 46.212 644.803 Q54.9649 644.803 59.9619 649.164 Q64.9272 653.524 64.9272 661.163 Q64.9272 668.834 59.9619 673.194 Q54.9649 677.523 46.212 677.523 Q37.4273 677.523 32.4621 673.194 Q27.4968 668.834 27.4968 661.163 Z\" fill=\"#000000\" fill-rule=\"nonzero\" fill-opacity=\"1\" /><path clip-path=\"url(#clip730)\" d=\"M16.4842 614.12 L16.4842 584.074 L21.895 584.074 L21.895 607.691 L35.9632 607.691 L35.9632 585.061 L41.3741 585.061 L41.3741 607.691 L58.5933 607.691 L58.5933 583.501 L64.0042 583.501 L64.0042 614.12 L16.4842 614.12 Z\" fill=\"#000000\" fill-rule=\"nonzero\" fill-opacity=\"1\" /><path clip-path=\"url(#clip730)\" d=\"M42.4881 543.556 L64.0042 543.556 L64.0042 549.413 L42.679 549.413 Q37.6183 549.413 35.1038 551.386 Q32.5894 553.36 32.5894 557.306 Q32.5894 562.049 35.6131 564.786 Q38.6368 567.523 43.8567 567.523 L64.0042 567.523 L64.0042 573.412 L28.3562 573.412 L28.3562 567.523 L33.8944 567.523 Q30.6797 565.423 29.0883 562.59 Q27.4968 559.725 27.4968 556.001 Q27.4968 549.859 31.3163 546.707 Q35.1038 543.556 42.4881 543.556 Z\" fill=\"#000000\" fill-rule=\"nonzero\" fill-opacity=\"1\" /><path clip-path=\"url(#clip730)\" d=\"M44.7161 501.384 L47.5806 501.384 L47.5806 528.311 Q53.6281 527.929 56.8109 524.682 Q59.9619 521.404 59.9619 515.579 Q59.9619 512.205 59.1344 509.054 Q58.3069 505.871 56.6518 502.752 L62.1899 502.752 Q63.5267 505.903 64.227 509.213 Q64.9272 512.524 64.9272 515.929 Q64.9272 524.459 59.9619 529.456 Q54.9967 534.422 46.5303 534.422 Q37.7774 534.422 32.6531 529.711 Q27.4968 524.969 27.4968 516.948 Q27.4968 509.755 32.1438 505.585 Q36.7589 501.384 44.7161 501.384 M42.9973 507.24 Q38.1912 507.304 35.3266 509.946 Q32.4621 512.555 32.4621 516.884 Q32.4621 521.786 35.2312 524.746 Q38.0002 527.674 43.0292 528.12 L42.9973 507.24 Z\" fill=\"#000000\" fill-rule=\"nonzero\" fill-opacity=\"1\" /><path clip-path=\"url(#clip730)\" d=\"M33.8307 471.115 Q33.2578 472.101 33.0032 473.279 Q32.7167 474.425 32.7167 475.825 Q32.7167 480.791 35.9632 483.464 Q39.1779 486.106 45.2253 486.106 L64.0042 486.106 L64.0042 491.994 L28.3562 491.994 L28.3562 486.106 L33.8944 486.106 Q30.6479 484.26 29.0883 481.3 Q27.4968 478.34 27.4968 474.107 Q27.4968 473.502 27.5923 472.77 Q27.656 472.038 27.8151 471.147 L33.8307 471.115 Z\" fill=\"#000000\" fill-rule=\"nonzero\" fill-opacity=\"1\" /><path clip-path=\"url(#clip730)\" d=\"M45.7664 442.66 Q39.4007 442.66 35.8996 445.302 Q32.3984 447.912 32.3984 452.654 Q32.3984 457.365 35.8996 460.007 Q39.4007 462.616 45.7664 462.616 Q52.1003 462.616 55.6014 460.007 Q59.1026 457.365 59.1026 452.654 Q59.1026 447.912 55.6014 445.302 Q52.1003 442.66 45.7664 442.66 M59.58 436.804 Q68.683 436.804 73.1071 440.846 Q77.5631 444.888 77.5631 453.227 Q77.5631 456.314 77.0857 459.052 Q76.6401 461.789 75.6852 464.367 L69.9879 464.367 Q71.3884 461.789 72.0568 459.275 Q72.7252 456.76 72.7252 454.15 Q72.7252 448.389 69.7015 445.525 Q66.7096 442.66 60.6303 442.66 L57.7339 442.66 Q60.885 444.474 62.4446 447.307 Q64.0042 450.14 64.0042 454.086 Q64.0042 460.643 59.0071 464.654 Q54.01 468.664 45.7664 468.664 Q37.491 468.664 32.4939 464.654 Q27.4968 460.643 27.4968 454.086 Q27.4968 450.14 29.0564 447.307 Q30.616 444.474 33.7671 442.66 L28.3562 442.66 L28.3562 436.804 L59.58 436.804 Z\" fill=\"#000000\" fill-rule=\"nonzero\" fill-opacity=\"1\" /><path clip-path=\"url(#clip730)\" d=\"M67.3143 409.908 Q73.68 412.391 75.6216 414.746 Q77.5631 417.102 77.5631 421.048 L77.5631 425.727 L72.6615 425.727 L72.6615 422.29 Q72.6615 419.871 71.5157 418.534 Q70.3699 417.197 66.1048 415.574 L63.4312 414.524 L28.3562 428.942 L28.3562 422.735 L56.238 411.595 L28.3562 400.455 L28.3562 394.249 L67.3143 409.908 Z\" fill=\"#000000\" fill-rule=\"nonzero\" fill-opacity=\"1\" /><path clip-path=\"url(#clip730)\" d=\"M14.5426 351.376 Q21.8632 355.641 29.0246 357.71 Q36.186 359.779 43.5384 359.779 Q50.8908 359.779 58.1159 357.71 Q65.3091 355.609 72.5979 351.376 L72.5979 356.468 Q65.1182 361.243 57.8931 363.63 Q50.668 365.985 43.5384 365.985 Q36.4406 365.985 29.2474 363.63 Q22.0542 361.274 14.5426 356.468 L14.5426 351.376 Z\" fill=\"#000000\" fill-rule=\"nonzero\" fill-opacity=\"1\" /><path clip-path=\"url(#clip730)\" d=\"M22.818 323.876 L46.4666 332.597 L46.4666 315.123 L22.818 323.876 M16.4842 327.504 L16.4842 320.216 L64.0042 302.105 L64.0042 308.789 L51.8138 313.118 L51.8138 334.538 L64.0042 338.867 L64.0042 345.647 L16.4842 327.504 Z\" fill=\"#000000\" fill-rule=\"nonzero\" fill-opacity=\"1\" /><path clip-path=\"url(#clip730)\" d=\"M16.4842 295.899 L16.4842 289.437 L45.3526 289.437 Q52.9915 289.437 56.3653 286.668 Q59.7073 283.899 59.7073 277.693 Q59.7073 271.518 56.3653 268.749 Q52.9915 265.98 45.3526 265.98 L16.4842 265.98 L16.4842 259.519 L46.1484 259.519 Q55.4423 259.519 60.1847 264.134 Q64.9272 268.717 64.9272 277.693 Q64.9272 286.7 60.1847 291.315 Q55.4423 295.899 46.1484 295.899 L16.4842 295.899 Z\" fill=\"#000000\" fill-rule=\"nonzero\" fill-opacity=\"1\" /><path clip-path=\"url(#clip730)\" d=\"M14.5426 248.633 L14.5426 243.541 Q22.0542 238.766 29.2474 236.411 Q36.4406 234.024 43.5384 234.024 Q50.668 234.024 57.8931 236.411 Q65.1182 238.766 72.5979 243.541 L72.5979 248.633 Q65.3091 244.4 58.1159 242.331 Q50.8908 240.231 43.5384 240.231 Q36.186 240.231 29.0246 242.331 Q21.8632 244.4 14.5426 248.633 Z\" fill=\"#000000\" fill-rule=\"nonzero\" fill-opacity=\"1\" /><polyline clip-path=\"url(#clip732)\" style=\"stroke:#000080; stroke-linecap:round; stroke-linejoin:round; stroke-width:8; stroke-opacity:1; fill:none\" points=\"309.067,86.1857 441.345,1157.7 573.622,1253.17 705.9,1310.71 838.177,1334.91 970.455,1358.58 1102.73,1372.73 1235.01,1375.48 1367.29,1378.23 1499.57,1379.2 1631.84,1379.39 1764.12,1379.61 1896.4,1380.86 2028.68,1382.67 2160.95,1383.46 2293.23,1384.24 \"/>\n",
       "<circle clip-path=\"url(#clip732)\" cx=\"309.067\" cy=\"86.1857\" r=\"14.4\" fill=\"#000080\" fill-rule=\"evenodd\" fill-opacity=\"1\" stroke=\"#000000\" stroke-opacity=\"1\" stroke-width=\"3.2\"/>\n",
       "<circle clip-path=\"url(#clip732)\" cx=\"441.345\" cy=\"1157.7\" r=\"14.4\" fill=\"#000080\" fill-rule=\"evenodd\" fill-opacity=\"1\" stroke=\"#000000\" stroke-opacity=\"1\" stroke-width=\"3.2\"/>\n",
       "<circle clip-path=\"url(#clip732)\" cx=\"573.622\" cy=\"1253.17\" r=\"14.4\" fill=\"#000080\" fill-rule=\"evenodd\" fill-opacity=\"1\" stroke=\"#000000\" stroke-opacity=\"1\" stroke-width=\"3.2\"/>\n",
       "<circle clip-path=\"url(#clip732)\" cx=\"705.9\" cy=\"1310.71\" r=\"14.4\" fill=\"#000080\" fill-rule=\"evenodd\" fill-opacity=\"1\" stroke=\"#000000\" stroke-opacity=\"1\" stroke-width=\"3.2\"/>\n",
       "<circle clip-path=\"url(#clip732)\" cx=\"838.177\" cy=\"1334.91\" r=\"14.4\" fill=\"#000080\" fill-rule=\"evenodd\" fill-opacity=\"1\" stroke=\"#000000\" stroke-opacity=\"1\" stroke-width=\"3.2\"/>\n",
       "<circle clip-path=\"url(#clip732)\" cx=\"970.455\" cy=\"1358.58\" r=\"14.4\" fill=\"#000080\" fill-rule=\"evenodd\" fill-opacity=\"1\" stroke=\"#000000\" stroke-opacity=\"1\" stroke-width=\"3.2\"/>\n",
       "<circle clip-path=\"url(#clip732)\" cx=\"1102.73\" cy=\"1372.73\" r=\"14.4\" fill=\"#000080\" fill-rule=\"evenodd\" fill-opacity=\"1\" stroke=\"#000000\" stroke-opacity=\"1\" stroke-width=\"3.2\"/>\n",
       "<circle clip-path=\"url(#clip732)\" cx=\"1235.01\" cy=\"1375.48\" r=\"14.4\" fill=\"#000080\" fill-rule=\"evenodd\" fill-opacity=\"1\" stroke=\"#000000\" stroke-opacity=\"1\" stroke-width=\"3.2\"/>\n",
       "<circle clip-path=\"url(#clip732)\" cx=\"1367.29\" cy=\"1378.23\" r=\"14.4\" fill=\"#000080\" fill-rule=\"evenodd\" fill-opacity=\"1\" stroke=\"#000000\" stroke-opacity=\"1\" stroke-width=\"3.2\"/>\n",
       "<circle clip-path=\"url(#clip732)\" cx=\"1499.57\" cy=\"1379.2\" r=\"14.4\" fill=\"#000080\" fill-rule=\"evenodd\" fill-opacity=\"1\" stroke=\"#000000\" stroke-opacity=\"1\" stroke-width=\"3.2\"/>\n",
       "<circle clip-path=\"url(#clip732)\" cx=\"1631.84\" cy=\"1379.39\" r=\"14.4\" fill=\"#000080\" fill-rule=\"evenodd\" fill-opacity=\"1\" stroke=\"#000000\" stroke-opacity=\"1\" stroke-width=\"3.2\"/>\n",
       "<circle clip-path=\"url(#clip732)\" cx=\"1764.12\" cy=\"1379.61\" r=\"14.4\" fill=\"#000080\" fill-rule=\"evenodd\" fill-opacity=\"1\" stroke=\"#000000\" stroke-opacity=\"1\" stroke-width=\"3.2\"/>\n",
       "<circle clip-path=\"url(#clip732)\" cx=\"1896.4\" cy=\"1380.86\" r=\"14.4\" fill=\"#000080\" fill-rule=\"evenodd\" fill-opacity=\"1\" stroke=\"#000000\" stroke-opacity=\"1\" stroke-width=\"3.2\"/>\n",
       "<circle clip-path=\"url(#clip732)\" cx=\"2028.68\" cy=\"1382.67\" r=\"14.4\" fill=\"#000080\" fill-rule=\"evenodd\" fill-opacity=\"1\" stroke=\"#000000\" stroke-opacity=\"1\" stroke-width=\"3.2\"/>\n",
       "<circle clip-path=\"url(#clip732)\" cx=\"2160.95\" cy=\"1383.46\" r=\"14.4\" fill=\"#000080\" fill-rule=\"evenodd\" fill-opacity=\"1\" stroke=\"#000000\" stroke-opacity=\"1\" stroke-width=\"3.2\"/>\n",
       "<circle clip-path=\"url(#clip732)\" cx=\"2293.23\" cy=\"1384.24\" r=\"14.4\" fill=\"#000080\" fill-rule=\"evenodd\" fill-opacity=\"1\" stroke=\"#000000\" stroke-opacity=\"1\" stroke-width=\"3.2\"/>\n",
       "</svg>\n"
      ]
     },
     "execution_count": 276,
     "metadata": {},
     "output_type": "execute_result"
    }
   ],
   "source": [
    "let\n",
    "    plot(energy_array[:,1],energy_array[:,2], lw=2, c=:navy, label=\"\") \n",
    "    scatter!(energy_array[:,1], energy_array[:,2], c=:navy, label=\"\")\n",
    "    xlabel!(\"Iterations index (AU)\", fontsize=18)\n",
    "    ylabel!(\"0,1-Scaled Pseudo Energy (AU)\", fontsize=18)\n",
    "end"
   ]
  },
  {
   "cell_type": "markdown",
   "id": "f6f08ec4-7eb8-4af5-800f-4066decfb26c",
   "metadata": {},
   "source": [
    "## Task 3: Interpretation of the data in the clusters\n",
    "We've run the clustering algorithm on the clinical dataset. Now, let's figure out what is in each cluster. In particular, specify which cluster we want to analyze in the `my_cluster_index::Int64` variable, where `my_cluster_index` $\\in\\left\\{1,2,\\dots,K\\right\\}$."
   ]
  },
  {
   "cell_type": "code",
   "execution_count": 335,
   "id": "1f5b214f-6485-4e28-93fb-a06037ade9c8",
   "metadata": {},
   "outputs": [],
   "source": [
    "my_cluster_index = 3; # i ∈ {1,2,...,K}"
   ]
  },
  {
   "cell_type": "markdown",
   "id": "ae8e075f-0da8-461a-a403-3c3f49d1f9c1",
   "metadata": {},
   "source": [
    "Next, let's make a table [using the `pretty_table(...)` function exported by the `PrettyTables.jl` package](https://github.com/ronisbr/PrettyTables.jl) which displays the raw data associated with `my_cluster_index::Int64`. This table will display the raw (scaled) data from `D::Array{Float64,2}`. "
   ]
  },
  {
   "cell_type": "code",
   "execution_count": 337,
   "id": "ed5b8c9c-7f97-413d-adce-9d931bccb0b5",
   "metadata": {
    "jupyter": {
     "source_hidden": true
    }
   },
   "outputs": [
    {
     "name": "stdout",
     "output_type": "stream",
     "text": [
      "======== ======= ============ ========= ===================== ============== ================== =================== ========= ========\n",
      " \u001b[1m     c \u001b[0m \u001b[1m    id \u001b[0m \u001b[1m        age \u001b[0m \u001b[1m  gender \u001b[0m \u001b[1m high_blood_pressure \u001b[0m \u001b[1m serum_sodium \u001b[0m \u001b[1m serum_creatinine \u001b[0m \u001b[1m ejection_fraction \u001b[0m \u001b[1m smoking \u001b[0m \u001b[1m death \u001b[0m\n",
      " \u001b[90m Int64 \u001b[0m \u001b[90m Int64 \u001b[0m \u001b[90m    Float64 \u001b[0m \u001b[90m Float64 \u001b[0m \u001b[90m             Float64 \u001b[0m \u001b[90m      Float64 \u001b[0m \u001b[90m          Float64 \u001b[0m \u001b[90m           Float64 \u001b[0m \u001b[90m Float64 \u001b[0m \u001b[90m Int64 \u001b[0m\n",
      "======== ======= ============ ========= ===================== ============== ================== =================== ========= ========\n",
      "      3       5     0.350246      -1.0                  -1.0       -4.67434            1.26255              -1.528      -1.0       1\n",
      "      3      15    -0.994879      -1.0                   1.0       0.311522           -0.38074           -0.683035      -1.0      -1\n",
      "      3      20     -1.07895      -1.0                  -1.0       -3.54119           0.489237             1.42937      -1.0       1\n",
      "      3      21     0.350246      -1.0                   1.0      0.0848915         -0.0907479            -1.10552      -1.0      -1\n",
      "      3      22     0.350246      -1.0                   1.0      -0.141739           0.199244           -0.683035      -1.0       1\n",
      "      3      33    -0.910808      -1.0                   1.0       -1.95478           -0.38074           -0.260554      -1.0       1\n",
      "      3      34    -0.910808      -1.0                  -1.0       0.311522          -0.187412           -0.683035      -1.0      -1\n",
      "      3      40   -0.0701056      -1.0                  -1.0        1.21804            1.55254         -0.00706491      -1.0       1\n",
      "      3      45   -0.0701056      -1.0                  -1.0        1.21804          -0.284076             1.85185      -1.0       1\n",
      "      3      50    -0.322316      -1.0                  -1.0       0.764782           -0.38074           -0.683035      -1.0       1\n",
      "      3      52    -0.658598      -1.0                   1.0       0.538152         0.00591623              -1.528      -1.0       1\n",
      "      3      54     0.770597      -1.0                   1.0      -0.594999           -0.38074             1.00689      -1.0       1\n",
      "      3      55   -0.0701056      -1.0                  -1.0       -1.04826           0.779229         -0.00706491       1.0       1\n",
      "      3      62    -0.910808      -1.0                   1.0       -1.27489           0.875893            0.161928      -1.0       1\n",
      "      3      65     -1.33116      -1.0                  -1.0      0.0848915          -0.206745             3.54178      -1.0      -1\n",
      "      3      67     -1.58337      -1.0                  -1.0      -0.141739         -0.0907479            -1.95048      -1.0       1\n",
      "      3      69     0.770597      -1.0                  -1.0        1.21804          -0.187412            -1.10552      -1.0       1\n",
      "      3      80    -0.490457      -1.0                   1.0       0.764782          -0.477404            0.584409      -1.0      -1\n",
      "      3      81     0.770597      -1.0                  -1.0      -0.141739           0.295909            0.161928      -1.0      -1\n",
      "      3      83   -0.0701056      -1.0                  -1.0       -1.04826            1.06922            -1.10552      -1.0       1\n",
      "      3      85    -0.154176      -1.0                   1.0       0.991412           -0.38074            -1.10552      -1.0       1\n",
      "      3      93     -1.58337      -1.0                  -1.0      0.0848915          -0.206745             1.85185      -1.0      -1\n",
      "      3      95    -0.238246      -1.0                   1.0        1.21804          -0.670733         -0.00706491      -1.0      -1\n",
      "      3      99   -0.0701056      -1.0                   1.0      0.0848915          -0.187412            -1.10552      -1.0      -1\n",
      "      3     100     0.182105      -1.0                  -1.0       0.764782          -0.284076            0.161928      -1.0      -1\n",
      "      3     116    -0.238246      -1.0                  -1.0       0.538152           -0.38074            0.161928      -1.0      -1\n",
      "      3     117   -0.0701056      -1.0                   1.0      -0.141739          -0.670733             1.85185      -1.0      -1\n",
      "      3     119     0.350246      -1.0                   1.0       0.764782          -0.477404             1.85185      -1.0      -1\n",
      "      3     122     0.434316      -1.0                   1.0      -0.141739           -0.38074         -0.00706491      -1.0      -1\n",
      "      3     123   -0.0701056      -1.0                  -1.0       0.764782          -0.622401         -0.00706491      -1.0      -1\n",
      "      3     124   -0.0701056      -1.0                   1.0        1.89793          -0.477404           -0.683035      -1.0      -1\n",
      "      3     126      -1.4993      -1.0                  -1.0      -0.368369         -0.0907479             1.00689      -1.0      -1\n",
      "      3     127     -1.24709      -1.0                   1.0        -2.8613           0.682565            -1.78149      -1.0       1\n",
      "      3     128    -0.238246      -1.0                  -1.0      0.0848915          -0.574068             1.85185      -1.0      -1\n",
      "      3     133     -1.24709      -1.0                   1.0      0.0848915          -0.206745            0.161928      -1.0      -1\n",
      "      3     137     0.350246      -1.0                  -1.0      0.0848915          -0.477404             1.85185      -1.0      -1\n",
      "      3     139     0.098035      -1.0                  -1.0      -0.141739           -0.38074           -0.260554      -1.0      -1\n",
      "      3     142     -1.24709      -1.0                  -1.0       0.764782          -0.477404           -0.260554      -1.0      -1\n",
      "      3     143    -0.910808      -1.0                  -1.0       -1.04826          -0.477404           -0.683035      -1.0      -1\n",
      "      3     144    0.0139647      -1.0                   1.0       0.991412          -0.477404            0.161928      -1.0      -1\n",
      "      3     155     0.350246      -1.0                   1.0      -0.141739          -0.574068           -0.260554      -1.0      -1\n",
      "      3     157    -0.742668      -1.0                  -1.0      -0.141739         0.00591623           -0.260554      -1.0      -1\n",
      "      3     164    -0.910808      -1.0                  -1.0        1.21804          -0.477404           -0.260554      -1.0       1\n",
      "      3     166       1.6113      -1.0                   1.0      -0.368369         -0.0907479         -0.00706491      -1.0       1\n",
      "      3     169     0.350246      -1.0                  -1.0       0.311522           -0.38074            0.161928      -1.0      -1\n",
      "      3     170     0.770597      -1.0                   1.0      -0.821629          -0.574068           -0.260554      -1.0      -1\n",
      "      3     178    -0.994879      -1.0                  -1.0       0.764782           -0.38074             1.00689      -1.0      -1\n",
      "      3     187    -0.910808      -1.0                  -1.0      -0.594999          -0.767397             1.00689      -1.0       1\n",
      "      3     188   -0.0701056      -1.0                  -1.0         1.6713           0.682565            -1.10552      -1.0       1\n",
      "      3     189   -0.0140307      -1.0                   1.0      -0.141739           -0.38074            0.161928      -1.0      -1\n",
      "      3     190     -1.75151      -1.0                   1.0       0.764782          -0.477404            0.584409      -1.0      -1\n",
      "      3     192     0.266176      -1.0                  -1.0      -0.368369            0.10258             1.85185      -1.0      -1\n",
      "      3     197     -1.33116      -1.0                   1.0      0.0848915          -0.206745         -0.00706491      -1.0      -1\n",
      "      3     198     0.350246      -1.0                  -1.0       0.311522          -0.574068           -0.683035      -1.0      -1\n",
      "      3     199    -0.910808      -1.0                   1.0      -0.594999           -0.38074              -1.528      -1.0      -1\n",
      "      3     206    -0.910808      -1.0                  -1.0      -0.141739           -0.38074            0.584409      -1.0      -1\n",
      "      3     207     -1.75151      -1.0                  -1.0       0.991412          -0.574068            0.161928      -1.0      -1\n",
      "      3     209   -0.0701056      -1.0                  -1.0       0.991412           -0.38074            0.161928      -1.0      -1\n",
      "      3     210    -0.994879      -1.0                   1.0       -1.50152          -0.574068           -0.260554      -1.0      -1\n",
      "      3     214     -1.07895      -1.0                   1.0       -1.50152           0.199244           -0.683035      -1.0       1\n",
      "      3     217     0.770597      -1.0                   1.0       0.991412          -0.477404             1.00689      -1.0      -1\n",
      "      3     220    -0.490457      -1.0                   1.0       0.764782          -0.670733           -0.260554      -1.0      -1\n",
      "      3     226      1.19095      -1.0                  -1.0       -2.63467         0.00591623             1.85185      -1.0      -1\n",
      "      3     230     0.938738      -1.0                  -1.0      -0.594999          -0.187412            -1.10552      -1.0      -1\n",
      "      3     231   -0.0701056      -1.0                  -1.0       -2.18141           0.295909           -0.683035      -1.0       1\n",
      "      3     239     0.350246      -1.0                  -1.0      -0.141739           -0.38074            0.161928      -1.0      -1\n",
      "      3     241     0.770597      -1.0                   1.0       0.538152         -0.0907479           -0.260554      -1.0      -1\n",
      "      3     244      1.02281      -1.0                   1.0       0.991412          -0.477404            0.161928      -1.0      -1\n",
      "      3     250    -0.658598      -1.0                  -1.0       -1.50152          -0.187412            0.161928      -1.0      -1\n",
      "      3     251    -0.910808      -1.0                   1.0       0.538152          -0.864061           -0.683035      -1.0      -1\n",
      "      3     252    -0.490457      -1.0                  -1.0        1.44467          -0.574068           -0.260554      -1.0      -1\n",
      "      3     254     0.770597      -1.0                   1.0       -1.04826          -0.187412           -0.260554      -1.0      -1\n",
      "      3     257     0.350246      -1.0                  -1.0       0.538152           0.295909         -0.00706491      -1.0      -1\n",
      "      3     262     0.098035      -1.0                  -1.0      -0.821629          -0.670733            0.161928      -1.0      -1\n",
      "      3     264     0.602457      -1.0                  -1.0       0.764782           -0.38074             1.85185      -1.0      -1\n",
      "      3     269     -1.33116      -1.0                  -1.0       0.764782          -0.477404         -0.00706491      -1.0      -1\n",
      "      3     272    -0.826738      -1.0                  -1.0      -0.594999          -0.477404            0.161928      -1.0      -1\n",
      "      3     273     0.518386      -1.0                  -1.0      -0.821629          -0.187412         -0.00706491      -1.0      -1\n",
      "      3     276     -1.33116      -1.0                   1.0      0.0848915          -0.574068         -0.00706491      -1.0      -1\n",
      "      3     277     0.770597      -1.0                  -1.0        1.21804          -0.284076           -0.260554      -1.0      -1\n",
      "      3     279    -0.910808      -1.0                  -1.0      -0.141739          -0.670733           -0.683035      -1.0      -1\n",
      "      3     280    -0.490457      -1.0                  -1.0      -0.141739         -0.0907479         -0.00706491      -1.0      -1\n",
      "      3     288     -1.33116      -1.0                  -1.0       -1.04826           -0.38074             1.42937      -1.0      -1\n",
      "      3     289     0.350246      -1.0                  -1.0        1.21804          -0.284076           -0.260554      -1.0      -1\n",
      "      3     291     -1.33116      -1.0                  -1.0       0.991412          -0.574068             1.42937      -1.0      -1\n",
      "      3     296    -0.490457      -1.0                  -1.0       0.538152          -0.187412         -0.00706491      -1.0      -1\n",
      "      3     297     -1.33116      -1.0                  -1.0       0.311522          -0.574068             1.85185      -1.0      -1\n",
      "======== ======= ============ ========= ===================== ============== ================== =================== ========= ========\n"
     ]
    }
   ],
   "source": [
    "let\n",
    "\n",
    "    # names - \n",
    "    names_dictionary = Dict{String,Int}();\n",
    "    loopcounter = 1;\n",
    "    for name ∈ names(dataset)\n",
    "        names_dictionary[name] = loopcounter;\n",
    "        loopcounter += 1;\n",
    "    end\n",
    "\n",
    "    df = DataFrame(); \n",
    "    assignment = result.assignments;\n",
    "    index_array = findall(a -> a == my_cluster_index, assignment);\n",
    "\n",
    "    for i ∈ eachindex(index_array)\n",
    "        a = index_array[i]; # what is the assignment\n",
    "        row_df = (\n",
    "            c = my_cluster_index,\n",
    "            id = a, # proxy for patient id?\n",
    "            age = D[a,names_dictionary[\"age\"]],\n",
    "            gender = D[a,names_dictionary[\"sex\"]],\n",
    "            high_blood_pressure = D[a,names_dictionary[\"high_blood_pressure\"]],\n",
    "            serum_sodium = D[a,names_dictionary[\"serum_sodium\"]],\n",
    "            serum_creatinine = D[a, names_dictionary[\"serum_creatinine\"]],\n",
    "            ejection_fraction = D[a, names_dictionary[\"ejection_fraction\"]],\n",
    "            smoking = D[a,names_dictionary[\"smoking\"]],\n",
    "            death = dataset[a, :death_event] # this was NOT included in the cluster dataset D\n",
    "        );\n",
    "        push!(df, row_df);\n",
    "    end\n",
    "    pretty_table(df, tf = tf_simple)\n",
    "end"
   ]
  },
  {
   "cell_type": "markdown",
   "id": "6f69cb97-cf17-45fb-96f1-1ecebf1e8749",
   "metadata": {},
   "source": [
    "We can see the averages, i.e., the centroids of each feature in the `my_cluster_index::Int` by looking at the centroids dictionary. This will give us a representation of the data in this cluster."
   ]
  },
  {
   "cell_type": "code",
   "execution_count": 339,
   "id": "a69e3349-23a1-40d8-8c0e-19ed9c08eb06",
   "metadata": {
    "jupyter": {
     "source_hidden": true
    }
   },
   "outputs": [
    {
     "name": "stdout",
     "output_type": "stream",
     "text": [
      "======== =========== ========= ===================== ============== ================== =================== =========== ============\n",
      " \u001b[1m     c \u001b[0m \u001b[1m       age \u001b[0m \u001b[1m  gender \u001b[0m \u001b[1m high_blood_pressure \u001b[0m \u001b[1m serum_sodium \u001b[0m \u001b[1m serum_creatinine \u001b[0m \u001b[1m ejection_fraction \u001b[0m \u001b[1m   smoking \u001b[0m \u001b[1m     death \u001b[0m\n",
      " \u001b[90m Int64 \u001b[0m \u001b[90m   Float64 \u001b[0m \u001b[90m Float64 \u001b[0m \u001b[90m             Float64 \u001b[0m \u001b[90m      Float64 \u001b[0m \u001b[90m          Float64 \u001b[0m \u001b[90m           Float64 \u001b[0m \u001b[90m   Float64 \u001b[0m \u001b[90m   Float64 \u001b[0m\n",
      "======== =========== ========= ===================== ============== ================== =================== =========== ============\n",
      "      3   -0.296547      -1.0             -0.218391     -0.0323309          -0.221078           0.0949134   -0.977011   -0.494253\n",
      "======== =========== ========= ===================== ============== ================== =================== =========== ============\n"
     ]
    }
   ],
   "source": [
    "let\n",
    "\n",
    "    # names - \n",
    "    names_dictionary = Dict{String,Int}();\n",
    "    loopcounter = 1;\n",
    "    for name ∈ names(dataset)\n",
    "        names_dictionary[name] = loopcounter;\n",
    "        loopcounter += 1;\n",
    "    end\n",
    "\n",
    "    # for this cluster configuration, what is the death centroid?\n",
    "    tmp = 0.0;\n",
    "    idx_cluster = findall(x-> x == my_cluster_index, result.assignments);\n",
    "    N = length(idx_cluster);\n",
    "    for i ∈ idx_cluster\n",
    "        tmp += dataset[i,:death_event];\n",
    "    end\n",
    "    death_centroid = (1/N)*tmp;\n",
    "    \n",
    "    μ = result.centroids[my_cluster_index]\n",
    "    df = DataFrame();\n",
    "    row_df = (\n",
    "        c = my_cluster_index,\n",
    "        age = μ[names_dictionary[\"age\"]],\n",
    "        gender = μ[names_dictionary[\"sex\"]],\n",
    "        high_blood_pressure = μ[names_dictionary[\"high_blood_pressure\"]],\n",
    "        serum_sodium = μ[names_dictionary[\"serum_sodium\"]],\n",
    "        serum_creatinine = μ[names_dictionary[\"serum_creatinine\"]],\n",
    "        ejection_fraction = μ[names_dictionary[\"ejection_fraction\"]],\n",
    "        smoking = μ[names_dictionary[\"smoking\"]],\n",
    "        death = death_centroid,\n",
    "    );\n",
    "    push!(df, row_df);\n",
    "    pretty_table(df, tf=tf_simple)\n",
    "end"
   ]
  },
  {
   "cell_type": "code",
   "execution_count": null,
   "id": "4813da0e-4b55-404d-840e-70db66be20b6",
   "metadata": {},
   "outputs": [],
   "source": []
  }
 ],
 "metadata": {
  "kernelspec": {
   "display_name": "Julia 1.11.3",
   "language": "julia",
   "name": "julia-1.11"
  },
  "language_info": {
   "file_extension": ".jl",
   "mimetype": "application/julia",
   "name": "julia",
   "version": "1.11.3"
  }
 },
 "nbformat": 4,
 "nbformat_minor": 5
}
